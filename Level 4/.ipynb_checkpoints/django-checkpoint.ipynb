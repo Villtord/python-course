{
 "cells": [
  {
   "cell_type": "markdown",
   "metadata": {},
   "source": [
    "Django MVC-MVT pattern\n",
    "\n",
    "The Model-View-Template (MVT) is a different concept compared to MVC. The main difference between these two architectural patterns is that Django itself manages the Controller part (software code that controls the interactions between the Model and View). The template is an HTML file which mixed with Django Template Language file which also called DTL. "
   ]
  },
  {
   "cell_type": "code",
   "execution_count": 1,
   "metadata": {},
   "outputs": [
    {
     "name": "stdout",
     "output_type": "stream",
     "text": [
      "\u001b[31mException:\n",
      "Traceback (most recent call last):\n",
      "  File \"/usr/lib/python2.7/dist-packages/pip/basecommand.py\", line 215, in main\n",
      "    status = self.run(options, args)\n",
      "  File \"/usr/lib/python2.7/dist-packages/pip/commands/search.py\", line 45, in run\n",
      "    pypi_hits = self.search(query, options)\n",
      "  File \"/usr/lib/python2.7/dist-packages/pip/commands/search.py\", line 62, in search\n",
      "    hits = pypi.search({'name': query, 'summary': query}, 'or')\n",
      "  File \"/usr/lib/python2.7/xmlrpclib.py\", line 1243, in __call__\n",
      "    return self.__send(self.__name, args)\n",
      "  File \"/usr/lib/python2.7/xmlrpclib.py\", line 1602, in __request\n",
      "    verbose=self.__verbose\n",
      "  File \"/usr/lib/python2.7/dist-packages/pip/download.py\", line 778, in request\n",
      "    return self.parse_response(response.raw)\n",
      "  File \"/usr/lib/python2.7/xmlrpclib.py\", line 1493, in parse_response\n",
      "    return u.close()\n",
      "  File \"/usr/lib/python2.7/xmlrpclib.py\", line 800, in close\n",
      "    raise Fault(**self._stack[0])\n",
      "Fault: <Fault -32500: \"RuntimeError: PyPI's XMLRPC API is currently disabled due to unmanageable load and will be deprecated in the near future. See https://status.python.org/ for more information.\">\u001b[0m\n"
     ]
    },
    {
     "ename": "",
     "evalue": "2",
     "output_type": "error",
     "traceback": []
    }
   ],
   "source": [
    "pip search django"
   ]
  },
  {
   "cell_type": "code",
   "execution_count": 2,
   "metadata": {},
   "outputs": [
    {
     "name": "stdout",
     "output_type": "stream",
     "text": [
      "/usr/bin/python\n"
     ]
    }
   ],
   "source": [
    "which python"
   ]
  },
  {
   "cell_type": "code",
   "execution_count": null,
   "metadata": {},
   "outputs": [],
   "source": []
  }
 ],
 "metadata": {
  "kernelspec": {
   "display_name": "Bash",
   "language": "bash",
   "name": "bash"
  },
  "language_info": {
   "codemirror_mode": "shell",
   "file_extension": ".sh",
   "mimetype": "text/x-sh",
   "name": "bash"
  }
 },
 "nbformat": 4,
 "nbformat_minor": 4
}
