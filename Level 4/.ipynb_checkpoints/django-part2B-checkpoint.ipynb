{
 "cells": [
  {
   "cell_type": "code",
   "execution_count": 1,
   "metadata": {},
   "outputs": [],
   "source": [
    "cd Django/mysite"
   ]
  },
  {
   "cell_type": "code",
   "execution_count": 2,
   "metadata": {},
   "outputs": [
    {
     "name": "stdout",
     "output_type": "stream",
     "text": [
      "[1] 24628\n"
     ]
    }
   ],
   "source": [
    "fuser -k 7000/tcp\n",
    "python manage.py runserver 7000 &"
   ]
  },
  {
   "cell_type": "code",
   "execution_count": 3,
   "metadata": {},
   "outputs": [
    {
     "name": "stdout",
     "output_type": "stream",
     "text": [
      "[2] 24631\n"
     ]
    }
   ],
   "source": [
    "python manage.py shell << EOF &\n",
    "from polls.models import Choice, Question  # Import the model classes we just wrote.\n",
    "print(Question.objects.all())\n",
    "EOF"
   ]
  },
  {
   "cell_type": "code",
   "execution_count": 4,
   "metadata": {},
   "outputs": [
    {
     "name": "stdout",
     "output_type": "stream",
     "text": [
      "Watching for file changes with StatReloader\n",
      "Performing system checks...\n",
      "\n",
      "System check identified no issues (0 silenced).\n",
      "# Support for time zones is enabled in the default settings file, so^JJune 15, 2021 - 11:41:21\n",
      "Django version 3.2.4, using settings 'mysite.settings'\n",
      "Starting development server at http://127.0.0.1:7000/\n",
      "Quit the server with CONTROL-C.\n",
      "<QuerySet [<Question: What's new?>, <Question: What's up?>, <Question: What's new?>, <Question: What's up?>, <Question: What's new?>, <Question: What's up?>]>\n",
      "\u001b[0m[2]+  Done                    python manage.py shell  <<EOF\n",
      "from polls.models import Choice, Question  # Import the model classes we just wrote.\n",
      "print(Question.objects.all())\n",
      "EOF\n",
      "\n",
      "7\n",
      "\u001b[0m"
     ]
    }
   ],
   "source": [
    "# Create a new Question.\n",
    "# Support for time zones is enabled in the default settings file, so\n",
    "# Django expects a datetime with tzinfo for pub_date. Use timezone.now()\n",
    "# instead of datetime.datetime.now() and it will do the right thing.\n",
    "python manage.py shell << EOF\n",
    "from polls.models import Choice, Question  # Import the model classes we just wrote.\n",
    "from django.utils import timezone\n",
    "q = Question(question_text=\"What's new?\", pub_date=timezone.now())\n",
    "\n",
    "# Save the object into the database. You have to call save() explicitly.\n",
    "q.save()\n",
    "print(q.id)\n",
    "EOF"
   ]
  },
  {
   "cell_type": "code",
   "execution_count": 5,
   "metadata": {},
   "outputs": [
    {
     "name": "stdout",
     "output_type": "stream",
     "text": [
      "What's new?\n",
      "2021-06-15 11:41:23.420660+00:00\n",
      "<QuerySet [<Question: What's new?>, <Question: What's up?>, <Question: What's new?>, <Question: What's up?>, <Question: What's new?>, <Question: What's up?>, <Question: What's new?>, <Question: What's up?>]>\n",
      "\u001b[0m"
     ]
    }
   ],
   "source": [
    "# Access model field values via Python attributes.\n",
    "python manage.py shell << EOF\n",
    "from polls.models import Choice, Question  # Import the model classes we just wrote.\n",
    "from django.utils import timezone\n",
    "q = Question(question_text=\"What's new?\", pub_date=timezone.now())\n",
    "\n",
    "print(q.question_text)\n",
    "print(q.pub_date)\n",
    "\n",
    "# Change values by changing the attributes, then calling save().\n",
    "q.question_text = \"What's up?\"\n",
    "q.save()\n",
    "\n",
    "# objects.all() displays all the questions in the database.\n",
    "print(Question.objects.all())\n",
    "EOF"
   ]
  },
  {
   "cell_type": "markdown",
   "metadata": {},
   "source": [
    "Improve print out of questions"
   ]
  },
  {
   "cell_type": "code",
   "execution_count": 6,
   "metadata": {},
   "outputs": [
    {
     "name": "stdout",
     "output_type": "stream",
     "text": [
      "from django.db import models\n",
      "from django.utils import timezone\n",
      "import datetime\n",
      "\n",
      "class Question(models.Model):\n",
      "    def __str__(self):\n",
      "         return self.question_text\n",
      "         \n",
      "    def was_published_recently(self):\n",
      "         return self.pub_date >= timezone.now() - datetime.timedelta(days=1)\n",
      "\n",
      "    question_text = models.CharField(max_length=200)\n",
      "    pub_date = models.DateTimeField('date published')\n",
      "\n",
      "\n",
      "class Choice(models.Model):\n",
      "    def __str__(self):\n",
      "         return self.choice_text\n",
      "\n",
      "    question = models.ForeignKey(Question, on_delete=models.CASCADE)\n",
      "    choice_text = models.CharField(max_length=200)\n",
      "    votes = models.IntegerField(default=0)\n"
     ]
    }
   ],
   "source": [
    "cat polls/models.py"
   ]
  },
  {
   "cell_type": "code",
   "execution_count": 7,
   "metadata": {},
   "outputs": [
    {
     "name": "stdout",
     "output_type": "stream",
     "text": [
      "\u001b[0m"
     ]
    }
   ],
   "source": [
    "python manage.py shell << EOF\n",
    "from polls.models import Choice, Question  # Import the model classes we just wrote.\n",
    "from django.utils import timezone\n",
    "q = Question(question_text=\"What's new?\", pub_date=timezone.now())\n",
    "\n",
    "EOF"
   ]
  },
  {
   "cell_type": "code",
   "execution_count": 8,
   "metadata": {},
   "outputs": [],
   "source": [
    "cat << EOF > polls/models.py\n",
    "from django.db import models\n",
    "from django.utils import timezone\n",
    "import datetime\n",
    "\n",
    "class Question(models.Model):\n",
    "    def __str__(self):\n",
    "         return self.question_text\n",
    "         \n",
    "    def was_published_recently(self):\n",
    "         return self.pub_date >= timezone.now() - datetime.timedelta(days=1)\n",
    "\n",
    "    question_text = models.CharField(max_length=200)\n",
    "    pub_date = models.DateTimeField('date published')\n",
    "\n",
    "\n",
    "class Choice(models.Model):\n",
    "    def __str__(self):\n",
    "         return self.choice_text\n",
    "\n",
    "    question = models.ForeignKey(Question, on_delete=models.CASCADE)\n",
    "    choice_text = models.CharField(max_length=200)\n",
    "    votes = models.IntegerField(default=0)\n",
    "EOF"
   ]
  },
  {
   "cell_type": "code",
   "execution_count": 9,
   "metadata": {},
   "outputs": [
    {
     "name": "stdout",
     "output_type": "stream",
     "text": [
      "/home/chris/home/workspace/Python3/Level 4/Django/mysite/polls/models.py changed, reloading.\n",
      "\u001b[0m[2] 24648\n"
     ]
    }
   ],
   "source": [
    "python manage.py shell << EOF &\n",
    "from polls.models import Choice, Question\n",
    "print(Question.objects.all())\n",
    "print(Question.objects.filter(id=1))\n",
    "print(Question.objects.filter(question_text__startswith='What'))\n",
    "EOF"
   ]
  },
  {
   "cell_type": "code",
   "execution_count": 10,
   "metadata": {},
   "outputs": [
    {
     "name": "stdout",
     "output_type": "stream",
     "text": [
      "Watching for file changes with StatReloader\n",
      "Performing system checks...\n",
      "\n",
      "System check identified no issues (0 silenced).\n",
      "<QuerySet [<Question: What's new?>, <Question: What's up?>, <Question: What's new?>, <Question: What's up?>, <Question: What's new?>, <Question: What's up?>, <Question: What's new?>, <Question: What's up?>]>\n",
      "<QuerySet [<Question: What's new?>]>\n",
      "<QuerySet [<Question: What's new?>, <Question: What's up?>, <Question: What's new?>, <Question: What's up?>, <Question: What's new?>, <Question: What's up?>, <Question: What's new?>, <Question: What's up?>]>\n",
      "\u001b[0mJune 15, 2021 - 11:41:25\n",
      "Django version 3.2.4, using settings 'mysite.settings'\n",
      "Starting development server at http://127.0.0.1:7000/\n",
      "Quit the server with CONTROL-C.\n",
      "get() returned more than one Question -- it returned 8!\n",
      "\u001b[0m[2]+  Done                    python manage.py shell  <<EOF\n",
      "from polls.models import Choice, Question\n",
      "print(Question.objects.all())\n",
      "print(Question.objects.filter(id=1))\n",
      "print(Question.objects.filter(question_text__startswith='What'))\n",
      "EOF\n",
      "\n"
     ]
    }
   ],
   "source": [
    "python manage.py shell << EOF\n",
    "from polls.models import Choice, Question\n",
    "from django.utils import timezone\n",
    "current_year = timezone.now().year\n",
    "try:\n",
    "    z = Question.objects.get(pub_date__year=current_year)\n",
    "except Exception as e:\n",
    "    print(e)\n",
    "EOF"
   ]
  },
  {
   "cell_type": "code",
   "execution_count": 11,
   "metadata": {},
   "outputs": [
    {
     "name": "stdout",
     "output_type": "stream",
     "text": [
      "True\n",
      "\u001b[0m"
     ]
    }
   ],
   "source": [
    "python manage.py shell << EOF\n",
    "from polls.models import Choice, Question\n",
    "from django.utils import timezone\n",
    "import datetime\n",
    "q = Question.objects.get(pk=1)\n",
    "print(q.was_published_recently())\n",
    "EOF"
   ]
  },
  {
   "cell_type": "code",
   "execution_count": 12,
   "metadata": {},
   "outputs": [
    {
     "name": "stdout",
     "output_type": "stream",
     "text": [
      "<QuerySet [<Choice: Not much>, <Choice: The sky>, <Choice: Not much>, <Choice: The sky>]>\n",
      "\u001b[0m"
     ]
    }
   ],
   "source": [
    "# Give the Question a couple of Choices. The create call constructs a new\n",
    "# Choice object, does the INSERT statement, adds the choice to the set\n",
    "# of available choices and returns the new Choice object. Django creates\n",
    "# a set to hold the \"other side\" of a ForeignKey relation\n",
    "# (e.g. a question's choice) which can be accessed via the API.\n",
    "python manage.py shell << EOF\n",
    "from polls.models import Choice, Question\n",
    "q = Question.objects.get(pk=1)\n",
    "\n",
    "# Display any choices from the related object set -- none so far.\n",
    "print(q.choice_set.all())\n",
    "EOF"
   ]
  },
  {
   "cell_type": "code",
   "execution_count": 13,
   "metadata": {},
   "outputs": [
    {
     "name": "stdout",
     "output_type": "stream",
     "text": [
      "What's new?\n",
      "<QuerySet [<Choice: Not much>, <Choice: The sky>, <Choice: Not much>, <Choice: The sky>, <Choice: Not much>, <Choice: The sky>, <Choice: Just hacking again>]>\n",
      "7\n",
      "\u001b[0m"
     ]
    }
   ],
   "source": [
    "python manage.py shell << EOF\n",
    "from polls.models import Choice, Question\n",
    "# Create three choices.\n",
    "q = Question.objects.get(pk=1)\n",
    "q.choice_set.create(choice_text='Not much', votes=0)\n",
    "q.choice_set.create(choice_text='The sky', votes=0)\n",
    "c = q.choice_set.create(choice_text='Just hacking again', votes=0)\n",
    "print(c.question)\n",
    "\n",
    "print(q.choice_set.all())\n",
    "print(q.choice_set.count())\n",
    "EOF"
   ]
  },
  {
   "cell_type": "code",
   "execution_count": 14,
   "metadata": {},
   "outputs": [
    {
     "name": "stdout",
     "output_type": "stream",
     "text": [
      "<QuerySet [<Choice: Not much>, <Choice: The sky>, <Choice: Not much>, <Choice: The sky>, <Choice: Not much>, <Choice: The sky>, <Choice: Just hacking again>]>\n",
      "<QuerySet [<Choice: Not much>, <Choice: The sky>, <Choice: Not much>, <Choice: The sky>, <Choice: Not much>, <Choice: The sky>]>\n",
      "\u001b[0m"
     ]
    }
   ],
   "source": [
    "python manage.py shell << EOF\n",
    "from polls.models import Choice, Question\n",
    "# The API automatically follows relationships as far as you need.\n",
    "# Use double underscores to separate relationships.\n",
    "# This works as many levels deep as you want; there's no limit.\n",
    "# Find all Choices for any question whose pub_date is in this year\n",
    "# (reusing the 'current_year' variable we created above).\n",
    "from django.utils import timezone\n",
    "current_year = timezone.now().year\n",
    "print(Choice.objects.filter(question__pub_date__year=current_year))\n",
    "\n",
    "# Let's delete one of the choices. Use delete() for that.\n",
    "q = Question.objects.get(pk=1)\n",
    "c = q.choice_set.filter(choice_text__startswith='Just hacking')\n",
    "c.delete()\n",
    "print(q.choice_set.all())\n",
    "EOF"
   ]
  },
  {
   "cell_type": "markdown",
   "metadata": {},
   "source": [
    "Create superuser for Django Admin\n",
    "run following command in xterm:"
   ]
  },
  {
   "cell_type": "code",
   "execution_count": 15,
   "metadata": {},
   "outputs": [
    {
     "name": "stdout",
     "output_type": "stream",
     "text": [
      "[2] 24662\n"
     ]
    }
   ],
   "source": [
    "xterm -fg black -bg white -fa 'Monospace' -fs 14 -e 'python manage.py createsuperuser' &"
   ]
  },
  {
   "cell_type": "code",
   "execution_count": 16,
   "metadata": {},
   "outputs": [
    {
     "ename": "",
     "evalue": "1",
     "output_type": "error",
     "traceback": []
    }
   ],
   "source": [
    "firefox http://127.0.0.1:7000/admin/ &"
   ]
  },
  {
   "cell_type": "code",
   "execution_count": null,
   "metadata": {},
   "outputs": [],
   "source": [
    "cat polls/admin.py"
   ]
  },
  {
   "cell_type": "code",
   "execution_count": null,
   "metadata": {},
   "outputs": [],
   "source": [
    "cat << EOF > polls/admin.py\n",
    "from django.contrib import admin\n",
    "from .models import Question\n",
    "admin.site.register(Question)\n",
    "\n",
    "EOF"
   ]
  },
  {
   "cell_type": "code",
   "execution_count": null,
   "metadata": {},
   "outputs": [],
   "source": []
  }
 ],
 "metadata": {
  "kernelspec": {
   "display_name": "Bash",
   "language": "bash",
   "name": "bash"
  },
  "language_info": {
   "codemirror_mode": "shell",
   "file_extension": ".sh",
   "mimetype": "text/x-sh",
   "name": "bash"
  }
 },
 "nbformat": 4,
 "nbformat_minor": 4
}
