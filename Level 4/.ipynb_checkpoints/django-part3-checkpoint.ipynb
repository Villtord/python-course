{
 "cells": [
  {
   "cell_type": "code",
   "execution_count": 1,
   "metadata": {},
   "outputs": [],
   "source": [
    "cd Django/mysite"
   ]
  },
  {
   "cell_type": "code",
   "execution_count": 2,
   "metadata": {},
   "outputs": [
    {
     "name": "stdout",
     "output_type": "stream",
     "text": [
      "7000/tcp:            26419\n",
      "[1] 26541\n"
     ]
    }
   ],
   "source": [
    "fuser -k 7000/tcp\n",
    "python manage.py runserver 7000 &"
   ]
  },
  {
   "cell_type": "code",
   "execution_count": 3,
   "metadata": {},
   "outputs": [
    {
     "name": "stdout",
     "output_type": "stream",
     "text": [
      "Watching for file changes with StatReloader\n",
      "Performing system checks...\n",
      "\n",
      "System check identified no issues (0 silenced).\n",
      "June 15, 2021 - 11:55:32\n",
      "Django version 3.2.4, using settings 'mysite.settings'\n",
      "Starting development server at http://127.0.0.1:7000/\n",
      "Quit the server with CONTROL-C.\n",
      "cat << EOF > polls/views.py^J"
     ]
    }
   ],
   "source": [
    "cat << EOF > polls/views.py\n",
    "from django.http import HttpResponse\n",
    "\n",
    "def index(request):\n",
    "    return HttpResponse(\"Hello, world. You're at the polls index.\")\n",
    "    \n",
    "def detail(request, question_id):\n",
    "    return HttpResponse(\"You're looking at question %s.\" % question_id)\n",
    "\n",
    "def results(request, question_id):\n",
    "    response = \"You're looking at the results of question %s.\"\n",
    "    return HttpResponse(response % question_id)\n",
    "\n",
    "def vote(request, question_id):\n",
    "    return HttpResponse(\"You're voting on question %s.\" % question_id)\n",
    "    \n",
    "EOF"
   ]
  },
  {
   "cell_type": "markdown",
   "metadata": {},
   "source": [
    "Wire these new views into the polls.urls module by adding the following path() call"
   ]
  },
  {
   "cell_type": "code",
   "execution_count": 4,
   "metadata": {},
   "outputs": [
    {
     "name": "stdout",
     "output_type": "stream",
     "text": [
      "/home/chris/home/workspace/Python3/Level 4/Django/mysite/polls/views.py changed, reloading.\n",
      "\u001b[0mWatching for file changes with StatReloader\n",
      "Performing system checks...\n",
      "\n",
      "System check identified no issues (0 silenced).\n",
      "June 15, 2021 - 11:55:34\n",
      "Django version 3.2.4, using settings 'mysite.settings'\n",
      "Starting development server at http://127.0.0.1:7000/\n",
      "Quit the server with CONTROL-C.\n",
      "cat << EOF > polls/urls.py^J"
     ]
    }
   ],
   "source": [
    "cat << EOF > polls/urls.py\n",
    "from django.urls import path\n",
    "\n",
    "from . import views\n",
    "\n",
    "urlpatterns = [\n",
    "    # ex: /polls/\n",
    "    path('', views.index, name='index'),\n",
    "    # ex: /polls/5/\n",
    "    path('<int:question_id>/', views.detail, name='detail'),\n",
    "    # ex: /polls/5/results/\n",
    "    path('<int:question_id>/results/', views.results, name='results'),\n",
    "    # ex: /polls/5/vote/\n",
    "    path('<int:question_id>/vote/', views.vote, name='vote'),\n",
    "]\n",
    "EOF"
   ]
  },
  {
   "cell_type": "markdown",
   "metadata": {},
   "source": [
    "Take a look in your browser, at “/polls/34/”. It’ll run the detail() method and display whatever ID you provide in the URL. Try “/polls/34/results/” and “/polls/34/vote/” too – these will display the placeholder results and voting pages."
   ]
  },
  {
   "cell_type": "code",
   "execution_count": 5,
   "metadata": {},
   "outputs": [
    {
     "name": "stdout",
     "output_type": "stream",
     "text": [
      "/home/chris/home/workspace/Python3/Level 4/Django/mysite/polls/urls.py changed, reloading.\n",
      "\u001b[0mWatching for file changes with StatReloader\n",
      "Performing system checks...\n",
      "\n",
      "System check identified no issues (0 silenced).\n",
      "June 15, 2021 - 11:55:38\n",
      "Django version 3.2.4, using settings 'mysite.settings'\n",
      "Starting development server at http://127.0.0.1:7000/\n",
      "Quit the server with CONTROL-C.\n",
      "fuser -k 7000/tcp^J7000/tcp:            26551\n",
      "\u001b[0m[2] 26555\n",
      "[1]   Exit 247                python manage.py runserver 7000\n"
     ]
    }
   ],
   "source": [
    "fuser -k 7000/tcp\n",
    "python manage.py runserver 7000 &"
   ]
  },
  {
   "cell_type": "code",
   "execution_count": 6,
   "metadata": {},
   "outputs": [
    {
     "name": "stdout",
     "output_type": "stream",
     "text": [
      "Watching for file changes with StatReloader\n",
      "Performing system checks...\n",
      "\n",
      "System check identified no issues (0 silenced).\n",
      "June 15, 2021 - 11:55:40\n",
      "Django version 3.2.4, using settings 'mysite.settings'\n",
      "Starting development server at http://127.0.0.1:7000/\n",
      "Quit the server with CONTROL-C.\n",
      "firefox http://localhost:7000/polls/34^J[15/Jun/2021 11:55:42] \u001b[m\"GET /polls/34/ HTTP/1.1\" 200 30\u001b[0m\n"
     ]
    }
   ],
   "source": [
    "firefox http://localhost:7000/polls/34"
   ]
  },
  {
   "cell_type": "code",
   "execution_count": 7,
   "metadata": {},
   "outputs": [
    {
     "name": "stdout",
     "output_type": "stream",
     "text": [
      "[15/Jun/2021 11:55:49] \u001b[m\"GET /polls/34/results/ HTTP/1.1\" 200 45\u001b[0m\n"
     ]
    }
   ],
   "source": [
    "firefox http://localhost:7000/polls/34/results"
   ]
  },
  {
   "cell_type": "code",
   "execution_count": 8,
   "metadata": {},
   "outputs": [
    {
     "name": "stdout",
     "output_type": "stream",
     "text": [
      "[15/Jun/2021 11:55:54] \u001b[m\"GET /polls/34/vote/ HTTP/1.1\" 200 29\u001b[0m\n"
     ]
    }
   ],
   "source": [
    "firefox http://localhost:7000/polls/34/vote"
   ]
  },
  {
   "cell_type": "markdown",
   "metadata": {},
   "source": [
    "modify index view"
   ]
  },
  {
   "cell_type": "code",
   "execution_count": 19,
   "metadata": {},
   "outputs": [],
   "source": [
    "cat << EOF >polls/views.py\n",
    "from django.http import HttpResponse\n",
    "from . import models\n",
    "\n",
    "def index(request):\n",
    "    latest_question_list = models.Question.objects.order_by('-pub_date')[:5]\n",
    "    output = ', '.join([q.question_text for q in latest_question_list])\n",
    "    return HttpResponse(output)\n",
    "    \n",
    "def detail(request, question_id):\n",
    "    return HttpResponse(\"You're looking at question %s.\" % question_id)\n",
    "\n",
    "def results(request, question_id):\n",
    "    response = \"You're looking at the results of question %s.\"\n",
    "    return HttpResponse(response % question_id)\n",
    "\n",
    "def vote(request, question_id):\n",
    "    return HttpResponse(\"You're voting on question %s.\" % question_id)    \n",
    "EOF"
   ]
  },
  {
   "cell_type": "code",
   "execution_count": 20,
   "metadata": {},
   "outputs": [
    {
     "name": "stdout",
     "output_type": "stream",
     "text": [
      "Tue 15 Jun 13:15:39 BST 2021\n",
      "from django.http import HttpResponse\n",
      "from . import models\n",
      "\n",
      "def index(request):\n",
      "    latest_question_list = models.Question.objects.order_by('-pub_date')[:5]\n",
      "    output = ', '.join([q.question_text for q in latest_question_list])\n",
      "    return HttpResponse(output)\n",
      "    \n",
      "def detail(request, question_id):\n",
      "    return HttpResponse(\"You're looking at question %s.\" % question_id)\n",
      "\n",
      "def results(request, question_id):\n",
      "    response = \"You're looking at the results of question %s.\"\n",
      "    return HttpResponse(response % question_id)\n",
      "\n",
      "def vote(request, question_id):\n",
      "    return HttpResponse(\"You're voting on question %s.\" % question_id)    \n",
      "/home/chris/home/workspace/Python3/Level 4/Django/mysite/polls/views.py changed, reloading.\n",
      "\u001b[0m"
     ]
    }
   ],
   "source": [
    "firefox http://localhost:7000/polls"
   ]
  },
  {
   "cell_type": "markdown",
   "metadata": {},
   "source": [
    "That works, but hard coding is bad.  Try templates"
   ]
  },
  {
   "cell_type": "code",
   "execution_count": 25,
   "metadata": {},
   "outputs": [],
   "source": [
    "mkdir -p polls/templates/polls"
   ]
  },
  {
   "cell_type": "code",
   "execution_count": 26,
   "metadata": {},
   "outputs": [],
   "source": [
    "cat << EOF > polls/templates/polls/index.html\n",
    "{% if latest_question_list %}\n",
    "    <ul>\n",
    "    {% for question in latest_question_list %}\n",
    "        <li><a href=\"/polls/{{ question.id }}/\">{{ question.question_text }}</a></li>\n",
    "    {% endfor %}\n",
    "    </ul>\n",
    "{% else %}\n",
    "    <p>No polls are available.</p>\n",
    "{% endif %}\n",
    "EOF"
   ]
  },
  {
   "cell_type": "markdown",
   "metadata": {},
   "source": [
    "modify view accordingly"
   ]
  },
  {
   "cell_type": "code",
   "execution_count": 30,
   "metadata": {},
   "outputs": [],
   "source": [
    "cat << EOF >polls/views.py\n",
    "from django.http import HttpResponse\n",
    "from django.template import loader\n",
    "\n",
    "from .models import Question\n",
    "\n",
    "def index(request):\n",
    "    latest_question_list = Question.objects.order_by('-pub_date')[:5]\n",
    "    template = loader.get_template('polls/index.html')\n",
    "    context = {\n",
    "        'latest_question_list': latest_question_list,\n",
    "    }\n",
    "    return HttpResponse(template.render(context, request))\n",
    "    \n",
    "def detail(request, question_id):\n",
    "    return HttpResponse(\"You're looking at question %s.\" % question_id)\n",
    "\n",
    "def results(request, question_id):\n",
    "    response = \"You're looking at the results of question %s.\"\n",
    "    return HttpResponse(response % question_id)\n",
    "\n",
    "def vote(request, question_id):\n",
    "    return HttpResponse(\"You're voting on question %s.\" % question_id)    \n",
    "EOF"
   ]
  },
  {
   "cell_type": "code",
   "execution_count": 31,
   "metadata": {},
   "outputs": [
    {
     "name": "stdout",
     "output_type": "stream",
     "text": [
      "/home/chris/home/workspace/Python3/Level 4/Django/mysite/polls/views.py changed, reloading.\n",
      "\u001b[0mWatching for file changes with StatReloader\n",
      "Performing system checks...\n",
      "\n",
      "System check identified no issues (0 silenced).\n",
      "June 15, 2021 - 12:26:01\n",
      "Django version 3.2.4, using settings 'mysite.settings'\n",
      "Starting development server at http://127.0.0.1:7000/\n",
      "Quit the server with CONTROL-C.\n",
      "cat polls/views.py^Jfrom django.http import HttpResponse\n",
      "from django.template import loader\n",
      "\n",
      "from .models import Question\n",
      "\n",
      "def index(request):\n",
      "    latest_question_list = Question.objects.order_by('-pub_date')[:5]\n",
      "    template = loader.get_template('polls/index.html')\n",
      "    context = {\n",
      "        'latest_question_list': latest_question_list,\n",
      "    }\n",
      "    return HttpResponse(template.render(context, request))\n",
      "    \n",
      "def detail(request, question_id):\n",
      "    return HttpResponse(\"You're looking at question %s.\" % question_id)\n",
      "\n",
      "def results(request, question_id):\n",
      "    response = \"You're looking at the results of question %s.\"\n",
      "    return HttpResponse(response % question_id)\n",
      "\n",
      "def vote(request, question_id):\n",
      "    return HttpResponse(\"You're voting on question %s.\" % question_id)    \n"
     ]
    }
   ],
   "source": [
    "cat polls/views.py"
   ]
  },
  {
   "cell_type": "code",
   "execution_count": 32,
   "metadata": {},
   "outputs": [
    {
     "name": "stdout",
     "output_type": "stream",
     "text": [
      "[15/Jun/2021 12:26:15] \u001b[m\"GET /polls/ HTTP/1.1\" 200 341\u001b[0m\n"
     ]
    }
   ],
   "source": [
    "firefox http://localhost:7000/polls"
   ]
  },
  {
   "cell_type": "markdown",
   "metadata": {},
   "source": [
    "It’s a very common idiom to load a template, fill a context and return an HttpResponse object with the result of the rendered template. Django provides a shortcut. Here’s the full index() view, rewritten:"
   ]
  },
  {
   "cell_type": "code",
   "execution_count": null,
   "metadata": {},
   "outputs": [],
   "source": []
  },
  {
   "cell_type": "code",
   "execution_count": 33,
   "metadata": {},
   "outputs": [
    {
     "name": "stdout",
     "output_type": "stream",
     "text": [
      "[15/Jun/2021 12:26:23] \u001b[m\"GET /polls/12/ HTTP/1.1\" 200 30\u001b[0m\n",
      "[15/Jun/2021 12:26:26] \u001b[m\"GET /polls/9/ HTTP/1.1\" 200 29\u001b[0m\n"
     ]
    }
   ],
   "source": [
    "cat << EOF >polls/views.py\n",
    "from django.shortcuts import render\n",
    "\n",
    "from .models import Question\n",
    "\n",
    "def index(request):\n",
    "    latest_question_list = Question.objects.order_by('-pub_date')[:5]\n",
    "    context = {'latest_question_list': latest_question_list}\n",
    "    return render(request, 'polls/index.html', context)\n",
    "    \n",
    "def detail(request, question_id):\n",
    "    return HttpResponse(\"You're looking at question %s.\" % question_id)\n",
    "\n",
    "def results(request, question_id):\n",
    "    response = \"You're looking at the results of question %s.\"\n",
    "    return HttpResponse(response % question_id)\n",
    "\n",
    "def vote(request, question_id):\n",
    "    return HttpResponse(\"You're voting on question %s.\" % question_id)    \n",
    "EOF"
   ]
  },
  {
   "cell_type": "code",
   "execution_count": null,
   "metadata": {},
   "outputs": [],
   "source": []
  },
  {
   "cell_type": "code",
   "execution_count": 34,
   "metadata": {},
   "outputs": [
    {
     "name": "stdout",
     "output_type": "stream",
     "text": [
      "/home/chris/home/workspace/Python3/Level 4/Django/mysite/polls/views.py changed, reloading.\n",
      "\u001b[0mWatching for file changes with StatReloader\n",
      "Performing system checks...\n",
      "\n",
      "System check identified no issues (0 silenced).\n",
      "June 15, 2021 - 12:28:12\n",
      "Django version 3.2.4, using settings 'mysite.settings'\n",
      "Starting development server at http://127.0.0.1:7000/\n",
      "Quit the server with CONTROL-C.\n",
      "firefox http://localhost:7000/polls^J[15/Jun/2021 12:28:29] \u001b[m\"GET /polls/ HTTP/1.1\" 200 341\u001b[0m\n"
     ]
    }
   ],
   "source": [
    "firefox http://localhost:7000/polls"
   ]
  },
  {
   "cell_type": "code",
   "execution_count": null,
   "metadata": {},
   "outputs": [],
   "source": []
  },
  {
   "cell_type": "code",
   "execution_count": 41,
   "metadata": {},
   "outputs": [],
   "source": [
    "cat << EOF >polls/views.py\n",
    "from django.http import Http404\n",
    "from django.http import HttpResponse\n",
    "from django.shortcuts import render\n",
    "from .models import Question\n",
    "\n",
    "def index(request):\n",
    "    latest_question_list = Question.objects.order_by('-pub_date')[:5]\n",
    "    context = {'latest_question_list': latest_question_list}\n",
    "    return render(request, 'polls/index.html', context)\n",
    "    \n",
    "def detail(request, question_id):\n",
    "    try:\n",
    "        question = Question.objects.get(pk=question_id)\n",
    "    except Question.DoesNotExist:\n",
    "        raise Http404(\"Question does not exist\")\n",
    "    return render(request, 'polls/detail.html', {'question': question})\n",
    "    \n",
    "def results(request, question_id):\n",
    "    response = \"You're looking at the results of question %s.\"\n",
    "    return HttpResponse(response % question_id)\n",
    "\n",
    "def vote(request, question_id):\n",
    "    return HttpResponse(\"You're voting on question %s.\" % question_id)    \n",
    "EOF"
   ]
  },
  {
   "cell_type": "code",
   "execution_count": 42,
   "metadata": {},
   "outputs": [
    {
     "name": "stdout",
     "output_type": "stream",
     "text": [
      "/home/chris/home/workspace/Python3/Level 4/Django/mysite/polls/views.py changed, reloading.\n",
      "\u001b[0mWatching for file changes with StatReloader\n",
      "Performing system checks...\n",
      "\n",
      "System check identified no issues (0 silenced).\n",
      "June 15, 2021 - 12:45:48\n",
      "Django version 3.2.4, using settings 'mysite.settings'\n",
      "Starting development server at http://127.0.0.1:7000/\n",
      "Quit the server with CONTROL-C.\n",
      "cat << EOF >polls/templates/polls/detail.py^J"
     ]
    }
   ],
   "source": [
    "cat << EOF >polls/templates/polls/detail.py\n",
    "{{ question }}\n",
    "EOF"
   ]
  },
  {
   "cell_type": "code",
   "execution_count": 43,
   "metadata": {},
   "outputs": [
    {
     "name": "stdout",
     "output_type": "stream",
     "text": [
      "Not Found: /polls/detail/34\n",
      "[15/Jun/2021 12:45:53] \u001b[33m\"GET /polls/detail/34 HTTP/1.1\" 404 2877\u001b[0m\n"
     ]
    }
   ],
   "source": [
    "firefox http://localhost:7000/polls/detail/34"
   ]
  },
  {
   "cell_type": "code",
   "execution_count": 49,
   "metadata": {},
   "outputs": [],
   "source": [
    "cat << EOF >polls/templates/polls/detail.py\n",
    "<h1>Hi</h1>\n",
    "<h1>{{ question.question_text }}</h1>\n",
    "<ul>\n",
    "{% for choice in question.choice_set.all %}\n",
    "    <li>{{ choice.choice_text }}</li>\n",
    "{% endfor %}\n",
    "</ul>\n",
    "EOF"
   ]
  },
  {
   "cell_type": "code",
   "execution_count": null,
   "metadata": {},
   "outputs": [],
   "source": []
  },
  {
   "cell_type": "code",
   "execution_count": 52,
   "metadata": {},
   "outputs": [],
   "source": [
    "firefox http://localhost:7000/polls/detail/345"
   ]
  },
  {
   "cell_type": "code",
   "execution_count": null,
   "metadata": {},
   "outputs": [],
   "source": []
  }
 ],
 "metadata": {
  "kernelspec": {
   "display_name": "Bash",
   "language": "bash",
   "name": "bash"
  },
  "language_info": {
   "codemirror_mode": "shell",
   "file_extension": ".sh",
   "mimetype": "text/x-sh",
   "name": "bash"
  }
 },
 "nbformat": 4,
 "nbformat_minor": 4
}
