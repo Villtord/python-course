{
 "cells": [
  {
   "cell_type": "code",
   "execution_count": 1,
   "metadata": {},
   "outputs": [],
   "source": [
    "rm -rf Django\n",
    "\n",
    "# create workspace\n",
    "mkdir Django\n",
    "cd Django"
   ]
  },
  {
   "cell_type": "code",
   "execution_count": 2,
   "metadata": {},
   "outputs": [
    {
     "name": "stdout",
     "output_type": "stream",
     "text": [
      "\u001b[0m"
     ]
    }
   ],
   "source": [
    "# create project\n",
    "django-admin startproject mysite\n",
    "cd mysite\n"
   ]
  },
  {
   "cell_type": "code",
   "execution_count": 3,
   "metadata": {},
   "outputs": [
    {
     "name": "stdout",
     "output_type": "stream",
     "text": [
      "\u001b[0m"
     ]
    }
   ],
   "source": [
    "# create webapp\n",
    "python manage.py startapp polls\n"
   ]
  },
  {
   "cell_type": "code",
   "execution_count": 4,
   "metadata": {},
   "outputs": [],
   "source": [
    "cd polls\n",
    "\n",
    "# create new view\n",
    "cat << EOF > views.py\n",
    "from django.http import HttpResponse\n",
    "\n",
    "\n",
    "def index(request):\n",
    "    return HttpResponse(\"Hello, world. You're at the polls index.\")\n",
    "EOF"
   ]
  },
  {
   "cell_type": "code",
   "execution_count": 5,
   "metadata": {},
   "outputs": [],
   "source": [
    "# add url pattern to point at a new view\n",
    "cat << EOF > urls.py\n",
    "from django.urls import path\n",
    "\n",
    "from . import views\n",
    "\n",
    "urlpatterns = [\n",
    "    path('', views.index, name='index'),\n",
    "]\n",
    "EOF"
   ]
  },
  {
   "cell_type": "code",
   "execution_count": 6,
   "metadata": {},
   "outputs": [
    {
     "name": "stdout",
     "output_type": "stream",
     "text": [
      "from django.urls import path\n",
      "\n",
      "from . import views\n",
      "\n",
      "urlpatterns = [\n",
      "    path('', views.index, name='index'),\n",
      "]\n"
     ]
    }
   ],
   "source": [
    "cat urls.py"
   ]
  },
  {
   "cell_type": "code",
   "execution_count": 7,
   "metadata": {},
   "outputs": [],
   "source": [
    "# add a link to view in our webapp\n",
    "cd ../mysite\n",
    "\n",
    "sed -i -e \"/urlpatterns/ a \\    path('polls/', include('polls.urls')),\" urls.py\n",
    "sed -i -e \"/from[ ]django/ s/path/include, path/\" urls.py"
   ]
  },
  {
   "cell_type": "code",
   "execution_count": 8,
   "metadata": {},
   "outputs": [
    {
     "name": "stdout",
     "output_type": "stream",
     "text": [
      "\"\"\"mysite URL Configuration\n",
      "\n",
      "The `urlpatterns` list routes URLs to views. For more information please see:\n",
      "    path('polls/', include('polls.urls')),\n",
      "    https://docs.djangoproject.com/en/3.2/topics/http/urls/\n",
      "Examples:\n",
      "Function views\n",
      "    1. Add an import:  from my_app import views\n",
      "    2. Add a URL to urlpatterns:  path('', views.home, name='home')\n",
      "    path('polls/', include('polls.urls')),\n",
      "Class-based views\n",
      "    1. Add an import:  from other_app.views import Home\n",
      "    2. Add a URL to urlpatterns:  path('', Home.as_view(), name='home')\n",
      "    path('polls/', include('polls.urls')),\n",
      "Including another URLconf\n",
      "    1. Import the include() function: from django.urls import include, include, path\n",
      "    2. Add a URL to urlpatterns:  path('blog/', include('blog.urls'))\n",
      "    path('polls/', include('polls.urls')),\n",
      "\"\"\"\n",
      "from django.contrib import admin\n",
      "from django.urls import include, path\n",
      "\n",
      "urlpatterns = [\n",
      "    path('polls/', include('polls.urls')),\n",
      "    path('admin/', admin.site.urls),\n",
      "]\n"
     ]
    }
   ],
   "source": [
    "cat urls.py"
   ]
  },
  {
   "cell_type": "code",
   "execution_count": 9,
   "metadata": {},
   "outputs": [
    {
     "name": "stdout",
     "output_type": "stream",
     "text": [
      "/home/chris/p3.ln/Level 4/Django/mysite/mysite\n",
      "\u001b[0m\u001b[01;32mmanage.py\u001b[0m  \u001b[01;34mmysite\u001b[0m  \u001b[01;34mpolls\u001b[0m\n"
     ]
    }
   ],
   "source": [
    "pwd\n",
    "ls .."
   ]
  },
  {
   "cell_type": "code",
   "execution_count": 10,
   "metadata": {},
   "outputs": [],
   "source": [
    "cd ..\n",
    "cd polls\n",
    "cat << EOF > models.py\n",
    "from django.db import models\n",
    "\n",
    "\n",
    "class Question(models.Model):\n",
    "    question_text = models.CharField(max_length=200)\n",
    "    pub_date = models.DateTimeField('date published')\n",
    "\n",
    "\n",
    "class Choice(models.Model):\n",
    "    question = models.ForeignKey(Question, on_delete=models.CASCADE)\n",
    "    choice_text = models.CharField(max_length=200)\n",
    "    votes = models.IntegerField(default=0)\n",
    "EOF"
   ]
  },
  {
   "cell_type": "code",
   "execution_count": 11,
   "metadata": {},
   "outputs": [
    {
     "name": "stdout",
     "output_type": "stream",
     "text": [
      "from django.db import models\n",
      "\n",
      "\n",
      "class Question(models.Model):\n",
      "    question_text = models.CharField(max_length=200)\n",
      "    pub_date = models.DateTimeField('date published')\n",
      "\n",
      "\n",
      "class Choice(models.Model):\n",
      "    question = models.ForeignKey(Question, on_delete=models.CASCADE)\n",
      "    choice_text = models.CharField(max_length=200)\n",
      "    votes = models.IntegerField(default=0)\n"
     ]
    }
   ],
   "source": [
    "cat models.py"
   ]
  },
  {
   "cell_type": "code",
   "execution_count": 12,
   "metadata": {},
   "outputs": [
    {
     "name": "stdout",
     "output_type": "stream",
     "text": [
      "\u001b[36;1mOperations to perform:\u001b[0m\n",
      "\u001b[1m  Apply all migrations: \u001b[0madmin, auth, contenttypes, sessions\n",
      "\u001b[36;1mRunning migrations:\u001b[0m\n",
      "  Applying contenttypes.0001_initial...\u001b[32;1m OK\u001b[0m\n",
      "  Applying auth.0001_initial...\u001b[32;1m OK\u001b[0m\n",
      "  Applying admin.0001_initial...\u001b[32;1m OK\u001b[0m\n",
      "  Applying admin.0002_logentry_remove_auto_add...\u001b[32;1m OK\u001b[0m\n",
      "  Applying admin.0003_logentry_add_action_flag_choices...\u001b[32;1m OK\u001b[0m\n",
      "  Applying contenttypes.0002_remove_content_type_name...\u001b[32;1m OK\u001b[0m\n",
      "  Applying auth.0002_alter_permission_name_max_length...\u001b[32;1m OK\u001b[0m\n",
      "  Applying auth.0003_alter_user_email_max_length...\u001b[32;1m OK\u001b[0m\n",
      "  Applying auth.0004_alter_user_username_opts...\u001b[32;1m OK\u001b[0m\n",
      "  Applying auth.0005_alter_user_last_login_null...\u001b[32;1m OK\u001b[0m\n",
      "  Applying auth.0006_require_contenttypes_0002...\u001b[32;1m OK\u001b[0m\n",
      "  Applying auth.0007_alter_validators_add_error_messages...\u001b[32;1m OK\u001b[0m\n",
      "  Applying auth.0008_alter_user_username_max_length...\u001b[32;1m OK\u001b[0m\n",
      "  Applying auth.0009_alter_user_last_name_max_length...\u001b[32;1m OK\u001b[0m\n",
      "  Applying auth.0010_alter_group_name_max_length...\u001b[32;1m OK\u001b[0m\n",
      "  Applying auth.0011_update_proxy_permissions...\u001b[32;1m OK\u001b[0m\n",
      "  Applying auth.0012_alter_user_first_name_max_length...\u001b[32;1m OK\u001b[0m\n",
      "  Applying sessions.0001_initial...\u001b[32;1m OK\u001b[0m\n",
      "\u001b[0m"
     ]
    }
   ],
   "source": [
    "cd ..\n",
    "\n",
    "# Some of these applications make use of at least one database table, though, so we need to create the tables in the database before we can use them. To do that, run the following command:\n",
    "python manage.py migrate\n"
   ]
  },
  {
   "cell_type": "code",
   "execution_count": 13,
   "metadata": {},
   "outputs": [
    {
     "name": "stdout",
     "output_type": "stream",
     "text": [
      "\"\"\"\n",
      "Django settings for mysite project.\n",
      "\n",
      "Generated by 'django-admin startproject' using Django 3.2.4.\n",
      "\n",
      "For more information on this file, see\n",
      "https://docs.djangoproject.com/en/3.2/topics/settings/\n",
      "\n",
      "For the full list of settings and their values, see\n",
      "https://docs.djangoproject.com/en/3.2/ref/settings/\n",
      "\"\"\"\n",
      "\n",
      "from pathlib import Path\n",
      "\n",
      "# Build paths inside the project like this: BASE_DIR / 'subdir'.\n",
      "BASE_DIR = Path(__file__).resolve().parent.parent\n",
      "\n",
      "\n",
      "# Quick-start development settings - unsuitable for production\n",
      "# See https://docs.djangoproject.com/en/3.2/howto/deployment/checklist/\n",
      "\n",
      "# SECURITY WARNING: keep the secret key used in production secret!\n",
      "SECRET_KEY = 'django-insecure-gpyo6i1k071_5ve%x_j!4r=1p%sp1dtt72ji-$dcw*%j0@1xh='\n",
      "\n",
      "# SECURITY WARNING: don't run with debug turned on in production!\n",
      "DEBUG = True\n",
      "\n",
      "ALLOWED_HOSTS = []\n",
      "\n",
      "\n",
      "# Application definition\n",
      "\n",
      "INSTALLED_APPS = [\n",
      "    'polls.apps.PollsConfig',\n",
      "    'django.contrib.admin',\n",
      "    'django.contrib.auth',\n",
      "    'django.contrib.contenttypes',\n",
      "    'django.contrib.sessions',\n",
      "    'django.contrib.messages',\n",
      "    'django.contrib.staticfiles',\n",
      "]\n",
      "\n",
      "MIDDLEWARE = [\n",
      "    'django.middleware.security.SecurityMiddleware',\n",
      "    'django.contrib.sessions.middleware.SessionMiddleware',\n",
      "    'django.middleware.common.CommonMiddleware',\n",
      "    'django.middleware.csrf.CsrfViewMiddleware',\n",
      "    'django.contrib.auth.middleware.AuthenticationMiddleware',\n",
      "    'django.contrib.messages.middleware.MessageMiddleware',\n",
      "    'django.middleware.clickjacking.XFrameOptionsMiddleware',\n",
      "]\n",
      "\n",
      "ROOT_URLCONF = 'mysite.urls'\n",
      "\n",
      "TEMPLATES = [\n",
      "    {\n",
      "        'BACKEND': 'django.template.backends.django.DjangoTemplates',\n",
      "        'DIRS': [],\n",
      "        'APP_DIRS': True,\n",
      "        'OPTIONS': {\n",
      "            'context_processors': [\n",
      "                'django.template.context_processors.debug',\n",
      "                'django.template.context_processors.request',\n",
      "                'django.contrib.auth.context_processors.auth',\n",
      "                'django.contrib.messages.context_processors.messages',\n",
      "            ],\n",
      "        },\n",
      "    },\n",
      "]\n",
      "\n",
      "WSGI_APPLICATION = 'mysite.wsgi.application'\n",
      "\n",
      "\n",
      "# Database\n",
      "# https://docs.djangoproject.com/en/3.2/ref/settings/#databases\n",
      "\n",
      "DATABASES = {\n",
      "    'default': {\n",
      "        'ENGINE': 'django.db.backends.sqlite3',\n",
      "        'NAME': BASE_DIR / 'db.sqlite3',\n",
      "    }\n",
      "}\n",
      "\n",
      "\n",
      "# Password validation\n",
      "# https://docs.djangoproject.com/en/3.2/ref/settings/#auth-password-validators\n",
      "\n",
      "AUTH_PASSWORD_VALIDATORS = [\n",
      "    {\n",
      "        'NAME': 'django.contrib.auth.password_validation.UserAttributeSimilarityValidator',\n",
      "    },\n",
      "    {\n",
      "        'NAME': 'django.contrib.auth.password_validation.MinimumLengthValidator',\n",
      "    },\n",
      "    {\n",
      "        'NAME': 'django.contrib.auth.password_validation.CommonPasswordValidator',\n",
      "    },\n",
      "    {\n",
      "        'NAME': 'django.contrib.auth.password_validation.NumericPasswordValidator',\n",
      "    },\n",
      "]\n",
      "\n",
      "\n",
      "# Internationalization\n",
      "# https://docs.djangoproject.com/en/3.2/topics/i18n/\n",
      "\n",
      "LANGUAGE_CODE = 'en-us'\n",
      "\n",
      "TIME_ZONE = 'UTC'\n",
      "\n",
      "USE_I18N = True\n",
      "\n",
      "USE_L10N = True\n",
      "\n",
      "USE_TZ = True\n",
      "\n",
      "\n",
      "# Static files (CSS, JavaScript, Images)\n",
      "# https://docs.djangoproject.com/en/3.2/howto/static-files/\n",
      "\n",
      "STATIC_URL = '/static/'\n",
      "\n",
      "# Default primary key field type\n",
      "# https://docs.djangoproject.com/en/3.2/ref/settings/#default-auto-field\n",
      "\n",
      "DEFAULT_AUTO_FIELD = 'django.db.models.BigAutoField'\n"
     ]
    }
   ],
   "source": [
    "cd mysite\n",
    "sed -i -e \"/INSTALLED_APPS/ a \\    'polls.apps.PollsConfig',\" settings.py\n",
    "cat settings.py"
   ]
  },
  {
   "cell_type": "code",
   "execution_count": 14,
   "metadata": {},
   "outputs": [
    {
     "name": "stdout",
     "output_type": "stream",
     "text": [
      "\u001b[36;1mMigrations for 'polls':\u001b[0m\n",
      "  \u001b[1mpolls/migrations/0001_initial.py\u001b[0m\n",
      "    - Create model Question\n",
      "    - Create model Choice\n",
      "\u001b[0m"
     ]
    }
   ],
   "source": [
    "cd ..\n",
    "\n",
    "python manage.py makemigrations polls"
   ]
  },
  {
   "cell_type": "code",
   "execution_count": 15,
   "metadata": {},
   "outputs": [
    {
     "name": "stdout",
     "output_type": "stream",
     "text": [
      "BEGIN;\n",
      "--\n",
      "-- Create model Question\n",
      "--\n",
      "CREATE TABLE \"polls_question\" (\"id\" integer NOT NULL PRIMARY KEY AUTOINCREMENT, \"question_text\" varchar(200) NOT NULL, \"pub_date\" datetime NOT NULL);\n",
      "--\n",
      "-- Create model Choice\n",
      "--\n",
      "CREATE TABLE \"polls_choice\" (\"id\" integer NOT NULL PRIMARY KEY AUTOINCREMENT, \"choice_text\" varchar(200) NOT NULL, \"votes\" integer NOT NULL, \"question_id\" bigint NOT NULL REFERENCES \"polls_question\" (\"id\") DEFERRABLE INITIALLY DEFERRED);\n",
      "CREATE INDEX \"polls_choice_question_id_c5b4b260\" ON \"polls_choice\" (\"question_id\");\n",
      "COMMIT;\n",
      "\u001b[0m"
     ]
    }
   ],
   "source": [
    "python manage.py sqlmigrate polls 0001"
   ]
  },
  {
   "cell_type": "code",
   "execution_count": 16,
   "metadata": {},
   "outputs": [
    {
     "name": "stdout",
     "output_type": "stream",
     "text": [
      "\u001b[36;1mOperations to perform:\u001b[0m\n",
      "\u001b[1m  Apply all migrations: \u001b[0madmin, auth, contenttypes, polls, sessions\n",
      "\u001b[36;1mRunning migrations:\u001b[0m\n",
      "  Applying polls.0001_initial...\u001b[32;1m OK\u001b[0m\n",
      "\u001b[0m"
     ]
    }
   ],
   "source": [
    "python manage.py migrate"
   ]
  },
  {
   "cell_type": "code",
   "execution_count": 17,
   "metadata": {},
   "outputs": [
    {
     "name": "stdout",
     "output_type": "stream",
     "text": [
      "[1] 1120\n"
     ]
    }
   ],
   "source": [
    "# launch server\n",
    "python manage.py runserver&\n"
   ]
  },
  {
   "cell_type": "code",
   "execution_count": null,
   "metadata": {},
   "outputs": [],
   "source": []
  }
 ],
 "metadata": {
  "kernelspec": {
   "display_name": "Bash",
   "language": "bash",
   "name": "bash"
  },
  "language_info": {
   "codemirror_mode": "shell",
   "file_extension": ".sh",
   "mimetype": "text/x-sh",
   "name": "bash"
  }
 },
 "nbformat": 4,
 "nbformat_minor": 4
}
