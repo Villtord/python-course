{
 "cells": [
  {
   "cell_type": "markdown",
   "metadata": {},
   "source": [
    "# Django Tutorial (part 1)\n",
    "This tutorial is based on the tutorial published at:  \n",
    "https://docs.djangoproject.com/en/3.2/intro/tutorial01/  \n",
    "\n",
    "We begin this tutorial by creating a workspace for our website:"
   ]
  },
  {
   "cell_type": "code",
   "execution_count": null,
   "metadata": {},
   "outputs": [],
   "source": [
    "rm -rf myworkspace\n",
    "\n",
    "# create workspace\n",
    "mkdir myworkspace\n",
    "cd myworkspace"
   ]
  },
  {
   "cell_type": "markdown",
   "metadata": {},
   "source": [
    "Django uses a considerable amount of boiler plate code generation.  The first stage is to define a project using `django-admin`:"
   ]
  },
  {
   "cell_type": "code",
   "execution_count": null,
   "metadata": {},
   "outputs": [],
   "source": [
    "# create project\n",
    "django-admin startproject mysite\n",
    "cd mysite"
   ]
  },
  {
   "cell_type": "markdown",
   "metadata": {},
   "source": [
    "This creates a number of files for us:"
   ]
  },
  {
   "cell_type": "code",
   "execution_count": null,
   "metadata": {},
   "outputs": [],
   "source": [
    "tree"
   ]
  },
  {
   "cell_type": "markdown",
   "metadata": {},
   "source": [
    "The `manage.py` script is used to create most of the important files in our project.  We create our webapp as follows:"
   ]
  },
  {
   "cell_type": "code",
   "execution_count": null,
   "metadata": {},
   "outputs": [],
   "source": [
    "# create webapp\n",
    "python manage.py startapp polls\n",
    "tree -I __pycache__"
   ]
  },
  {
   "cell_type": "markdown",
   "metadata": {},
   "source": [
    "This has added a webapp called `polls`.  Django uses a Model-View architecture; we will modify `models.py` and `view.py` to build our webapp.\n",
    "\n",
    "I'll be using the Unix hereis document to create files in this tutorial.  This is easier in notebook, but in practice you'd just use an editor.\n",
    "\n",
    "The simplest thing we can do is to create a simple view:"
   ]
  },
  {
   "cell_type": "code",
   "execution_count": null,
   "metadata": {},
   "outputs": [],
   "source": [
    "# create new view\n",
    "cat << EOF > polls/views.py\n",
    "from django.http import HttpResponse\n",
    "\n",
    "def index(request):\n",
    "    return HttpResponse(\"Hello, world. You're at the polls index.\")\n",
    "EOF"
   ]
  },
  {
   "cell_type": "markdown",
   "metadata": {},
   "source": [
    "Just to check, let's see how the hereis document worked:"
   ]
  },
  {
   "cell_type": "code",
   "execution_count": null,
   "metadata": {},
   "outputs": [],
   "source": [
    "cat polls/views.py"
   ]
  },
  {
   "cell_type": "markdown",
   "metadata": {},
   "source": [
    "The `urls.py` file is used to direct us to the view:"
   ]
  },
  {
   "cell_type": "code",
   "execution_count": null,
   "metadata": {},
   "outputs": [],
   "source": [
    "# add url pattern to point at a new view\n",
    "cat << EOF > polls/urls.py\n",
    "from django.urls import path\n",
    "\n",
    "from . import views\n",
    "\n",
    "urlpatterns = [\n",
    "    path('', views.index, name='index'),\n",
    "]\n",
    "EOF"
   ]
  },
  {
   "cell_type": "markdown",
   "metadata": {},
   "source": [
    "Now edit the master url file in the `mysite` folder:"
   ]
  },
  {
   "cell_type": "code",
   "execution_count": null,
   "metadata": {},
   "outputs": [],
   "source": [
    "# add a link to view in our webapp\n",
    "\n",
    "sed -i -e \"/urlpatterns/ a \\    path('polls/', include('polls.urls')),\" mysite/urls.py\n",
    "sed -i -e \"/from[ ]django/ s/path/include, path/\" mysite/urls.py\n",
    "sed -i -e '/\"\"\"/,/\"\"\"/ {d}' mysite/urls.py\n",
    "cat mysite/urls.py"
   ]
  },
  {
   "cell_type": "markdown",
   "metadata": {},
   "source": [
    "We should now have a trivial webapp.  Let's start the server on port 7000 on the localhost and check out the app (`fuser -k` kills all previous incarnations):"
   ]
  },
  {
   "cell_type": "code",
   "execution_count": null,
   "metadata": {},
   "outputs": [],
   "source": [
    "# run the server\n",
    "fuser -k 7000/tcp\n",
    "python manage.py runserver 7000 &"
   ]
  },
  {
   "cell_type": "markdown",
   "metadata": {},
   "source": [
    "Let's use `firefox` to see the app:"
   ]
  },
  {
   "cell_type": "code",
   "execution_count": null,
   "metadata": {},
   "outputs": [],
   "source": [
    "firefox http://localhost:7000/polls"
   ]
  },
  {
   "cell_type": "markdown",
   "metadata": {},
   "source": [
    "Not too exciting, but we do have a Django webapp!\n",
    "In the next part of the tutorial we'll add some more views."
   ]
  }
 ],
 "metadata": {
  "kernelspec": {
   "display_name": "Bash",
   "language": "bash",
   "name": "bash"
  },
  "language_info": {
   "codemirror_mode": "shell",
   "file_extension": ".sh",
   "mimetype": "text/x-sh",
   "name": "bash"
  }
 },
 "nbformat": 4,
 "nbformat_minor": 4
}
