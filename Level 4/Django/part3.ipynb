{
 "cells": [
  {
   "cell_type": "code",
   "execution_count": 18,
   "metadata": {},
   "outputs": [
    {
     "name": "stdout",
     "output_type": "stream",
     "text": [
      "/home/chris/home/workspace/Python3/Level 4/Django/myworkspace/mysite\n",
      "bash: cd: myworkspace/mysite: No such file or directory\n",
      "db.sqlite3  \u001b[0m\u001b[01;32mmanage.py\u001b[0m  \u001b[01;34mmysite\u001b[0m  \u001b[01;34mpolls\u001b[0m\n"
     ]
    }
   ],
   "source": [
    "pwd\n",
    "cd myworkspace/mysite\n",
    "ls"
   ]
  },
  {
   "cell_type": "markdown",
   "metadata": {},
   "source": [
    "Restart the server"
   ]
  },
  {
   "cell_type": "code",
   "execution_count": 19,
   "metadata": {},
   "outputs": [
    {
     "name": "stdout",
     "output_type": "stream",
     "text": [
      "7000/tcp:            491537\n",
      "\u001b[0m[3] 491605\n",
      "[2]   Exit 247                python manage.py runserver 7000\n"
     ]
    }
   ],
   "source": [
    "fuser -k 7000/tcp\n",
    "python manage.py runserver 7000 &"
   ]
  },
  {
   "cell_type": "markdown",
   "metadata": {},
   "source": [
    "Django has an interactive Python shell which we can use to add data to sqlite.  Again, we'll use Unix hereis documents to controll the shell.  Of course, in reality, you would just use the command line."
   ]
  },
  {
   "cell_type": "code",
   "execution_count": 73,
   "metadata": {},
   "outputs": [
    {
     "name": "stdout",
     "output_type": "stream",
     "text": [
      "[4] 492679\n"
     ]
    }
   ],
   "source": [
    "python manage.py shell << EOF &\n",
    "from polls.models import Choice, Question  # Import the model classes we just wrote.\n",
    "print(Question.objects.all())\n",
    "EOF"
   ]
  },
  {
   "cell_type": "markdown",
   "metadata": {},
   "source": [
    "We can now create a new Question:"
   ]
  },
  {
   "cell_type": "code",
   "execution_count": 74,
   "metadata": {},
   "outputs": [
    {
     "name": "stdout",
     "output_type": "stream",
     "text": [
      "<QuerySet [<Question: What's new?>, <Question: What's up?>, <Question: What's up?>, <Question: What's new?>, <Question: What's up?>, <Question: What's up?>, <Question: What's up?>, <Question: What's up 2?>, <Question: What's up 2?>, <Question: What's up 2?>, <Question: What's up 2?>, <Question: What's up 2?>, <Question: What's up 2?>, <Question: What's up 2?>]>\n",
      "\u001b[0m15\n",
      "\u001b[0m[4]+  Done                    python manage.py shell <<EOF\n",
      "from polls.models import Choice, Question  # Import the model classes we just wrote.\n",
      "print(Question.objects.all())\n",
      "EOF\n",
      "\n"
     ]
    }
   ],
   "source": [
    "python manage.py shell << EOF\n",
    "from polls.models import Choice, Question  # Import the model classes we just wrote.\n",
    "from django.utils import timezone\n",
    "q = Question(question_text=\"What's new?\", pub_date=timezone.now())\n",
    "\n",
    "# Save the object into the database. You have to call save() explicitly.\n",
    "q.save()\n",
    "print(q.id)\n",
    "EOF"
   ]
  },
  {
   "cell_type": "markdown",
   "metadata": {},
   "source": [
    "We can inspect the question text and publication date with a slightly modified script:"
   ]
  },
  {
   "cell_type": "code",
   "execution_count": 87,
   "metadata": {},
   "outputs": [
    {
     "name": "stdout",
     "output_type": "stream",
     "text": [
      "<QuerySet [<Question: Question object (16)>, <Question: Question object (17)>]>\n",
      "\u001b[0m"
     ]
    }
   ],
   "source": [
    "# Access model field values via Python attributes.\n",
    "python manage.py shell << EOF\n",
    "from polls.models import Choice, Question  # Import the model classes we just wrote.\n",
    "from django.utils import timezone\n",
    "q = Question(question_text=\"What's new?\", pub_date=timezone.now())\n",
    "\n",
    "#print(q.question_text)\n",
    "#print(q.pub_date)\n",
    "\n",
    "# Change values by changing the attributes, then calling save().\n",
    "#q.question_text = \"What's up 2?\"\n",
    "q.save()\n",
    "\n",
    "# objects.all() displays all the questions in the database.\n",
    "print(Question.objects.all())\n",
    "#z = Question.objects.all()[1]\n",
    "#print(z.question_text)\n",
    "#print(z.pub_date)\n",
    "EOF"
   ]
  },
  {
   "cell_type": "markdown",
   "metadata": {},
   "source": [
    "That's a bit cryptic.  We can improve the print out by changing the model slightly.\n",
    "The current model looks like:"
   ]
  },
  {
   "cell_type": "code",
   "execution_count": 86,
   "metadata": {},
   "outputs": [
    {
     "name": "stdout",
     "output_type": "stream",
     "text": [
      "/home/chris/home/workspace/Python3/Level 4/Django/myworkspace/mysite/polls/models.py changed, reloading.\n",
      "\u001b[0mWatching for file changes with StatReloader\n",
      "Performing system checks...\n",
      "\n",
      "System check identified no issues (0 silenced).\n",
      "September 05, 2021 - 20:16:57\n",
      "Django version 3.2.4, using settings 'mysite.settings'\n",
      "Starting development server at http://127.0.0.1:7000/\n",
      "Quit the server with CONTROL-C.\n",
      "cat polls/models.py^Jfrom django.db import models\n",
      "from django.utils import timezone\n",
      "import datetime\n",
      "\n",
      "class Question(models.Model):\n",
      "    def was_published_recently(self):\n",
      "         return self.pub_date >= timezone.now() - datetime.timedelta(days=1)\n",
      "\n",
      "    question_text = models.CharField(max_length=200)\n",
      "    pub_date = models.DateTimeField('date published')\n",
      "\n",
      "\n",
      "class Choice(models.Model):\n",
      "    question = models.ForeignKey(Question, on_delete=models.CASCADE)\n",
      "    choice_text = models.CharField(max_length=200)\n",
      "    votes = models.IntegerField(default=0)\n"
     ]
    }
   ],
   "source": [
    "cat polls/models.py"
   ]
  },
  {
   "cell_type": "markdown",
   "metadata": {},
   "source": [
    "Change the `Question` and `Choice` classes by adding `__str__` methods:"
   ]
  },
  {
   "cell_type": "code",
   "execution_count": 89,
   "metadata": {},
   "outputs": [
    {
     "name": "stdout",
     "output_type": "stream",
     "text": [
      "Watching for file changes with StatReloader\n",
      "Performing system checks...\n",
      "\n",
      "System check identified no issues (0 silenced).\n",
      "September 05, 2021 - 20:17:27\n",
      "Django version 3.2.4, using settings 'mysite.settings'\n",
      "Starting development server at http://127.0.0.1:7000/\n",
      "Quit the server with CONTROL-C.\n",
      "cat << EOF > polls/models.py^J"
     ]
    }
   ],
   "source": [
    "cat << EOF > polls/models.py\n",
    "from django.db import models\n",
    "from django.utils import timezone\n",
    "import datetime\n",
    "\n",
    "class Question(models.Model):\n",
    "    def __str__(self):\n",
    "         return self.question_text\n",
    "         \n",
    "    def was_published_recently(self):\n",
    "         return self.pub_date >= timezone.now() - datetime.timedelta(days=1)\n",
    "\n",
    "    question_text = models.CharField(max_length=200)\n",
    "    pub_date = models.DateTimeField('date published')\n",
    "\n",
    "\n",
    "class Choice(models.Model):\n",
    "    def __str__(self):\n",
    "         return self.choice_text\n",
    "\n",
    "    question = models.ForeignKey(Question, on_delete=models.CASCADE)\n",
    "    choice_text = models.CharField(max_length=200)\n",
    "    votes = models.IntegerField(default=0)\n",
    "EOF\n",
    "\n",
    "#python manage.py migrate"
   ]
  },
  {
   "cell_type": "markdown",
   "metadata": {},
   "source": [
    "Now run the query again (to see text printed):"
   ]
  },
  {
   "cell_type": "code",
   "execution_count": 91,
   "metadata": {},
   "outputs": [
    {
     "name": "stdout",
     "output_type": "stream",
     "text": [
      "<QuerySet [<Question: What's new?>, <Question: What's new?>]>\n",
      "\u001b[0m"
     ]
    }
   ],
   "source": [
    "# Access model field values via Python attributes.\n",
    "python manage.py shell << EOF\n",
    "from polls.models import Choice, Question  # Import the model classes we just wrote.\n",
    "from django.utils import timezone\n",
    "#q = Question(question_text=\"What's new?\", pub_date=timezone.now())\n",
    "\n",
    "#print(q.question_text)\n",
    "#print(q.pub_date)\n",
    "\n",
    "# Change values by changing the attributes, then calling save().\n",
    "#q.question_text = \"What's up 2?\"\n",
    "#q.save()\n",
    "\n",
    "# objects.all() displays all the questions in the database.\n",
    "print(Question.objects.all())\n",
    "#z = Question.objects.all()[1]\n",
    "#print(z.question_text)\n",
    "#print(z.pub_date)\n",
    "EOF"
   ]
  },
  {
   "cell_type": "code",
   "execution_count": null,
   "metadata": {},
   "outputs": [],
   "source": [
    "Other things you can do in the shell:"
   ]
  },
  {
   "cell_type": "code",
   "execution_count": 106,
   "metadata": {},
   "outputs": [
    {
     "name": "stdout",
     "output_type": "stream",
     "text": [
      "<QuerySet [<Question: What's new?>, <Question: What's new?>]>\n",
      "What's new?\n",
      "2021-09-05 20:06:24.163901+00:00\n",
      "16\n",
      "True\n",
      "<QuerySet [<Question: What's new?>]>\n",
      "\u001b[0m"
     ]
    }
   ],
   "source": [
    "python manage.py shell << EOF\n",
    "from polls.models import Choice, Question\n",
    "from django.utils import timezone\n",
    "print(Question.objects.all())\n",
    "q = Question.objects.all()[0]\n",
    "print(q.question_text)\n",
    "print(q.pub_date)\n",
    "print(q.id)\n",
    "print(q.was_published_recently())\n",
    "\n",
    "print(Question.objects.filter(id=q.id))\n",
    "\n",
    "EOF"
   ]
  },
  {
   "cell_type": "markdown",
   "metadata": {},
   "source": [
    "Give the `Question` a couple of `Choices`.  At present there are no choices:"
   ]
  },
  {
   "cell_type": "code",
   "execution_count": 107,
   "metadata": {},
   "outputs": [
    {
     "name": "stdout",
     "output_type": "stream",
     "text": [
      "<QuerySet []>\n",
      "\u001b[0m"
     ]
    }
   ],
   "source": [
    "python manage.py shell << EOF\n",
    "from polls.models import Choice, Question\n",
    "q = Question.objects.all()[0]\n",
    "print(q.choice_set.all())\n",
    "EOF"
   ]
  },
  {
   "cell_type": "markdown",
   "metadata": {},
   "source": [
    "Use `create` to create choices:"
   ]
  },
  {
   "cell_type": "code",
   "execution_count": 110,
   "metadata": {},
   "outputs": [
    {
     "name": "stdout",
     "output_type": "stream",
     "text": [
      "original question: What's new?\n",
      "choices: <QuerySet [<Choice: Not much>, <Choice: The sky>, <Choice: Just hacking again>, <Choice: Not much>, <Choice: The sky>, <Choice: Just hacking again>, <Choice: Not much>, <Choice: The sky>, <Choice: Just hacking again>]>\n",
      "count of choices: 9\n",
      "\u001b[0m"
     ]
    }
   ],
   "source": [
    "python manage.py shell << EOF\n",
    "from polls.models import Choice, Question\n",
    "# Create three choices.\n",
    "q = Question.objects.all()[0]\n",
    "q.choice_set.create(choice_text='Not much', votes=0)\n",
    "q.choice_set.create(choice_text='The sky', votes=0)\n",
    "c = q.choice_set.create(choice_text='Just hacking again', votes=0)\n",
    "print(f\"original question: {c.question}\")\n",
    "print(f\"choices: {q.choice_set.all()}\")\n",
    "print(f\"count of choices: {q.choice_set.count()}\")\n",
    "EOF"
   ]
  },
  {
   "cell_type": "markdown",
   "metadata": {},
   "source": [
    "The API automatically follows relationships as far as you need.\n",
    "Use double underscores to separate relationships.\n",
    "This works as many levels deep as you want; there's no limit.\n",
    "\n",
    "Find all Choices for any question whose pub_date is in this year\n",
    "(reusing the 'current_year' variable we created above)."
   ]
  },
  {
   "cell_type": "code",
   "execution_count": 114,
   "metadata": {},
   "outputs": [
    {
     "name": "stdout",
     "output_type": "stream",
     "text": [
      "<QuerySet [<Choice: Not much>, <Choice: The sky>, <Choice: Not much>, <Choice: The sky>, <Choice: Not much>, <Choice: The sky>]>\n",
      "<QuerySet [<Choice: Not much>, <Choice: The sky>, <Choice: Not much>, <Choice: The sky>, <Choice: Not much>, <Choice: The sky>]>\n",
      "\u001b[0m"
     ]
    }
   ],
   "source": [
    "python manage.py shell << EOF\n",
    "from polls.models import Choice, Question\n",
    "from django.utils import timezone\n",
    "current_year = timezone.now().year\n",
    "print(Choice.objects.filter(question__pub_date__year=current_year))\n",
    "\n",
    "\n",
    "q = Question.objects.all()[0]\n",
    "c = q.choice_set.filter(choice_text__startswith='Just hacking')\n",
    "print(q.choice_set.all())\n",
    "EOF"
   ]
  },
  {
   "cell_type": "markdown",
   "metadata": {},
   "source": [
    "Let's delete one of the choices. Use delete() for that."
   ]
  },
  {
   "cell_type": "code",
   "execution_count": 115,
   "metadata": {},
   "outputs": [
    {
     "name": "stdout",
     "output_type": "stream",
     "text": [
      "<QuerySet [<Choice: Not much>, <Choice: The sky>, <Choice: Not much>, <Choice: The sky>, <Choice: Not much>, <Choice: The sky>]>\n",
      "\u001b[0m"
     ]
    }
   ],
   "source": [
    "python manage.py shell << EOF\n",
    "from polls.models import Choice, Question\n",
    "from django.utils import timezone\n",
    "current_year = timezone.now().year\n",
    "q = Question.objects.all()[0]\n",
    "c = q.choice_set.filter(choice_text__startswith='Just hacking')\n",
    "c.delete()\n",
    "print(q.choice_set.all())\n",
    "EOF"
   ]
  },
  {
   "cell_type": "markdown",
   "metadata": {},
   "source": [
    "We can use a webapp to see all of the above.  First create superuser for Django Admin by\n",
    "running the following command in xterm:"
   ]
  },
  {
   "cell_type": "code",
   "execution_count": 116,
   "metadata": {},
   "outputs": [
    {
     "name": "stdout",
     "output_type": "stream",
     "text": [
      "[4] 494471\n"
     ]
    }
   ],
   "source": [
    "xterm -fg black -bg white -fa 'Monospace' -fs 14 -e 'python manage.py createsuperuser' &"
   ]
  },
  {
   "cell_type": "markdown",
   "metadata": {},
   "source": [
    "Register the `Question` with the app:"
   ]
  },
  {
   "cell_type": "code",
   "execution_count": 120,
   "metadata": {},
   "outputs": [],
   "source": [
    "cat << EOF > polls/admin.py\n",
    "from django.contrib import admin\n",
    "from .models import Question\n",
    "admin.site.register(Question)\n",
    "\n",
    "EOF"
   ]
  },
  {
   "cell_type": "markdown",
   "metadata": {},
   "source": [
    "Check the registration worked:"
   ]
  },
  {
   "cell_type": "code",
   "execution_count": 124,
   "metadata": {},
   "outputs": [
    {
     "name": "stdout",
     "output_type": "stream",
     "text": [
      "from django.contrib import admin\n",
      "from .models import Question\n",
      "admin.site.register(Question)\n",
      "\n"
     ]
    }
   ],
   "source": [
    "cat polls/admin.py"
   ]
  },
  {
   "cell_type": "markdown",
   "metadata": {},
   "source": [
    "Now fire up the admin app and login as the superuser.  You can now investigate all the `Questions` and `Choices`."
   ]
  },
  {
   "cell_type": "code",
   "execution_count": 125,
   "metadata": {},
   "outputs": [
    {
     "name": "stdout",
     "output_type": "stream",
     "text": [
      "[4] 494715\n"
     ]
    }
   ],
   "source": [
    "firefox http://127.0.0.1:7000/admin/ &"
   ]
  },
  {
   "cell_type": "code",
   "execution_count": null,
   "metadata": {},
   "outputs": [],
   "source": []
  }
 ],
 "metadata": {
  "kernelspec": {
   "display_name": "Bash",
   "language": "bash",
   "name": "bash"
  },
  "language_info": {
   "codemirror_mode": "shell",
   "file_extension": ".sh",
   "mimetype": "text/x-sh",
   "name": "bash"
  }
 },
 "nbformat": 4,
 "nbformat_minor": 4
}
