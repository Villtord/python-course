{
 "cells": [
  {
   "cell_type": "code",
   "execution_count": 4,
   "metadata": {},
   "outputs": [
    {
     "name": "stdout",
     "output_type": "stream",
     "text": [
      "Not Found: /\n",
      "<HttpResponseNotFound status_code=404, \"text/html\">\n",
      "404\n",
      "301\n",
      "b''\n",
      "Traceback (most recent call last):\n",
      "  File \"manage.py\", line 22, in <module>\n",
      "    main()\n",
      "  File \"manage.py\", line 18, in main\n",
      "    execute_from_command_line(sys.argv)\n",
      "  File \"/home/chris/anaconda3/lib/python3.8/site-packages/django/core/management/__init__.py\", line 419, in execute_from_command_line\n",
      "    utility.execute()\n",
      "  File \"/home/chris/anaconda3/lib/python3.8/site-packages/django/core/management/__init__.py\", line 413, in execute\n",
      "    self.fetch_command(subcommand).run_from_argv(self.argv)\n",
      "  File \"/home/chris/anaconda3/lib/python3.8/site-packages/django/core/management/base.py\", line 354, in run_from_argv\n",
      "    self.execute(*args, **cmd_options)\n",
      "  File \"/home/chris/anaconda3/lib/python3.8/site-packages/django/core/management/base.py\", line 398, in execute\n",
      "    output = self.handle(*args, **options)\n",
      "  File \"/home/chris/anaconda3/lib/python3.8/site-packages/django/core/management/commands/shell.py\", line 93, in handle\n",
      "    exec(sys.stdin.read(), globals())\n",
      "  File \"<string>\", line 19, in <module>\n",
      "TypeError: 'NoneType' object is not subscriptable\n",
      "\u001b[0m"
     ]
    },
    {
     "ename": "",
     "evalue": "1",
     "output_type": "error",
     "traceback": []
    }
   ],
   "source": [
    "cd Django/mysite\n",
    "python manage.py shell << EOF\n",
    "from django.test.utils import setup_test_environment\n",
    "setup_test_environment()\n",
    "from django.test import Client\n",
    "# create an instance of the client for our use\n",
    "client = Client()\n",
    "# get a response from '/'\n",
    "response = client.get('/')\n",
    "print(response)\n",
    "# we should expect a 404 from that address; if you instead see an\n",
    "# \"Invalid HTTP_HOST header\" error and a 400 response, you probably\n",
    "# omitted the setup_test_environment() call described earlier.\n",
    "print(response.status_code)\n",
    "# on the other hand we should expect to find something at '/polls/'\n",
    "# we'll use 'reverse()' rather than a hardcoded URL\n",
    "from django.urls import reverse\n",
    "response = client.get('http://localhost:7002/polls')\n",
    "print(response.status_code)\n",
    "print(response.content)\n",
    "print(response.context['latest_question_list'])\n",
    "EOF"
   ]
  },
  {
   "cell_type": "code",
   "execution_count": 1,
   "metadata": {},
   "outputs": [
    {
     "ename": "RuntimeError",
     "evalue": "Model class polls.models.Question doesn't declare an explicit app_label and isn't in an application in INSTALLED_APPS.",
     "output_type": "error",
     "traceback": [
      "\u001b[0;31m---------------------------------------------------------------------------\u001b[0m",
      "\u001b[0;31mRuntimeError\u001b[0m                              Traceback (most recent call last)",
      "\u001b[0;32m<ipython-input-1-bce25cc885a5>\u001b[0m in \u001b[0;36m<module>\u001b[0;34m\u001b[0m\n\u001b[1;32m      9\u001b[0m \u001b[0;32mfrom\u001b[0m \u001b[0mdjango\u001b[0m\u001b[0;34m.\u001b[0m\u001b[0mcore\u001b[0m\u001b[0;34m.\u001b[0m\u001b[0mmanagement\u001b[0m\u001b[0;34m.\u001b[0m\u001b[0mbase\u001b[0m \u001b[0;32mimport\u001b[0m \u001b[0mBaseCommand\u001b[0m\u001b[0;34m,\u001b[0m \u001b[0mCommandError\u001b[0m\u001b[0;34m\u001b[0m\u001b[0;34m\u001b[0m\u001b[0m\n\u001b[1;32m     10\u001b[0m \u001b[0;31m#os.environ.setdefault('DJANGO_SETTINGS_MODULE', 'mysite.settings.py')\u001b[0m\u001b[0;34m\u001b[0m\u001b[0;34m\u001b[0m\u001b[0;34m\u001b[0m\u001b[0m\n\u001b[0;32m---> 11\u001b[0;31m \u001b[0;32mfrom\u001b[0m \u001b[0mpolls\u001b[0m\u001b[0;34m.\u001b[0m\u001b[0mmodels\u001b[0m \u001b[0;32mimport\u001b[0m \u001b[0mQuestion\u001b[0m \u001b[0;32mas\u001b[0m \u001b[0mPoll\u001b[0m\u001b[0;34m\u001b[0m\u001b[0;34m\u001b[0m\u001b[0m\n\u001b[0m",
      "\u001b[0;32m~/home/workspace/Python3/Level 4/Django/mysite/polls/models.py\u001b[0m in \u001b[0;36m<module>\u001b[0;34m\u001b[0m\n\u001b[1;32m      2\u001b[0m \u001b[0;34m\u001b[0m\u001b[0m\n\u001b[1;32m      3\u001b[0m \u001b[0;34m\u001b[0m\u001b[0m\n\u001b[0;32m----> 4\u001b[0;31m \u001b[0;32mclass\u001b[0m \u001b[0mQuestion\u001b[0m\u001b[0;34m(\u001b[0m\u001b[0mmodels\u001b[0m\u001b[0;34m.\u001b[0m\u001b[0mModel\u001b[0m\u001b[0;34m)\u001b[0m\u001b[0;34m:\u001b[0m\u001b[0;34m\u001b[0m\u001b[0;34m\u001b[0m\u001b[0m\n\u001b[0m\u001b[1;32m      5\u001b[0m     \u001b[0mquestion_text\u001b[0m \u001b[0;34m=\u001b[0m \u001b[0mmodels\u001b[0m\u001b[0;34m.\u001b[0m\u001b[0mCharField\u001b[0m\u001b[0;34m(\u001b[0m\u001b[0mmax_length\u001b[0m\u001b[0;34m=\u001b[0m\u001b[0;36m200\u001b[0m\u001b[0;34m)\u001b[0m\u001b[0;34m\u001b[0m\u001b[0;34m\u001b[0m\u001b[0m\n\u001b[1;32m      6\u001b[0m     \u001b[0mpub_date\u001b[0m \u001b[0;34m=\u001b[0m \u001b[0mmodels\u001b[0m\u001b[0;34m.\u001b[0m\u001b[0mDateTimeField\u001b[0m\u001b[0;34m(\u001b[0m\u001b[0;34m'date published'\u001b[0m\u001b[0;34m)\u001b[0m\u001b[0;34m\u001b[0m\u001b[0;34m\u001b[0m\u001b[0m\n",
      "\u001b[0;32m~/anaconda3/lib/python3.8/site-packages/django/db/models/base.py\u001b[0m in \u001b[0;36m__new__\u001b[0;34m(cls, name, bases, attrs, **kwargs)\u001b[0m\n\u001b[1;32m    111\u001b[0m             \u001b[0;32mif\u001b[0m \u001b[0mapp_config\u001b[0m \u001b[0;32mis\u001b[0m \u001b[0;32mNone\u001b[0m\u001b[0;34m:\u001b[0m\u001b[0;34m\u001b[0m\u001b[0;34m\u001b[0m\u001b[0m\n\u001b[1;32m    112\u001b[0m                 \u001b[0;32mif\u001b[0m \u001b[0;32mnot\u001b[0m \u001b[0mabstract\u001b[0m\u001b[0;34m:\u001b[0m\u001b[0;34m\u001b[0m\u001b[0;34m\u001b[0m\u001b[0m\n\u001b[0;32m--> 113\u001b[0;31m                     raise RuntimeError(\n\u001b[0m\u001b[1;32m    114\u001b[0m                         \u001b[0;34m\"Model class %s.%s doesn't declare an explicit \"\u001b[0m\u001b[0;34m\u001b[0m\u001b[0;34m\u001b[0m\u001b[0m\n\u001b[1;32m    115\u001b[0m                         \u001b[0;34m\"app_label and isn't in an application in \"\u001b[0m\u001b[0;34m\u001b[0m\u001b[0;34m\u001b[0m\u001b[0m\n",
      "\u001b[0;31mRuntimeError\u001b[0m: Model class polls.models.Question doesn't declare an explicit app_label and isn't in an application in INSTALLED_APPS."
     ]
    }
   ],
   "source": [
    "import sys\n",
    "sys.path.append(\"Django/mysite\")\n",
    "import django\n",
    "\n",
    "from django.conf import settings\n",
    "settings.configure()\n",
    "django.setup() ## apparently important for django 1.7\n",
    "\n",
    "from django.core.management.base import BaseCommand, CommandError\n",
    "#os.environ.setdefault('DJANGO_SETTINGS_MODULE', 'mysite.settings.py')\n",
    "from polls.models import Question as Poll"
   ]
  },
  {
   "cell_type": "code",
   "execution_count": null,
   "metadata": {},
   "outputs": [],
   "source": [
    "import os\n",
    "from django.conf import settings\n",
    "settings.configure()\n",
    "#os.environ.setdefault('DJANGO_SETTINGS_MODULE',\n",
    "#                          'djangoproject.settings.dev')"
   ]
  },
  {
   "cell_type": "code",
   "execution_count": null,
   "metadata": {},
   "outputs": [],
   "source": [
    "import sys\n",
    "sys.path.append(\"Django/mysite\")\n",
    "import polls.models\n",
    "# from polls.models import Choice, Question  # Import the model classes we just wrote.\n",
    "#print(Question.objects.all())"
   ]
  },
  {
   "cell_type": "code",
   "execution_count": null,
   "metadata": {},
   "outputs": [],
   "source": [
    "import sys, os, django\n",
    "\n",
    "sys.path.append('Django')\n",
    "os.environ.setdefault(\"DJANGO_SETTINGS_MODULE\", \"config.local\") # path to config\n",
    "\n",
    "## if using django-configurations\n",
    "os.environ.setdefault(\"DJANGO_CONFIGURATION\", \"Local\")\n",
    "#from configurations import importer\n",
    "#importer.install()\n",
    "\n",
    "django.setup() ## apparently important for django 1.7\n",
    "\n",
    "from polls.models import Choice, Question  # Import the model classes we just wrote.\n",
    "print(Question.objects.all())\n"
   ]
  },
  {
   "cell_type": "code",
   "execution_count": null,
   "metadata": {},
   "outputs": [],
   "source": [
    "print(\"Starting Rango population script...\")\n",
    "os.environ.setdefault('DJANGO_SETTINGS_MODULE', 'mysite.settings.py')\n",
    "\n",
    "import django\n",
    "django.setup()\n",
    "\n",
    "#populate()"
   ]
  },
  {
   "cell_type": "code",
   "execution_count": null,
   "metadata": {},
   "outputs": [],
   "source": [
    "import os\n",
    "from django.conf import settings\n",
    "os.environ.setdefault(\"DJANGO_SETTINGS_MODULE\", \"mysite.settings.py\")"
   ]
  },
  {
   "cell_type": "code",
   "execution_count": null,
   "metadata": {},
   "outputs": [],
   "source": [
    "from django.core.wsgi import get_wsgi_application\n",
    "application = get_wsgi_application()"
   ]
  },
  {
   "cell_type": "code",
   "execution_count": null,
   "metadata": {},
   "outputs": [],
   "source": []
  },
  {
   "cell_type": "code",
   "execution_count": null,
   "metadata": {},
   "outputs": [],
   "source": [
    "import sys, os, django\n",
    "\n",
    "sys.path.append('Django')\n",
    "from django.conf import settings\n",
    "os.environ.setdefault(\"DJANGO_SETTINGS_MODULE\", \"mysite.settings.py\")\n",
    "from polls.models import Choice, Question  # Import the model classes we just wrote.\n",
    "print(Question.objects.all())\n"
   ]
  },
  {
   "cell_type": "code",
   "execution_count": null,
   "metadata": {},
   "outputs": [],
   "source": [
    "from django.test.utils import setup_test_environment\n",
    "#setup_test_environment()\n",
    "from django.test import Client\n",
    "# create an instance of the client for our use\n",
    "client = Client()\n",
    "from django.urls import reverse\n",
    "response = client.get(reverse('polls:index'))\n",
    "response.status_code"
   ]
  },
  {
   "cell_type": "code",
   "execution_count": null,
   "metadata": {},
   "outputs": [],
   "source": []
  }
 ],
 "metadata": {
  "kernelspec": {
   "display_name": "Bash",
   "language": "bash",
   "name": "bash"
  },
  "language_info": {
   "codemirror_mode": "shell",
   "file_extension": ".sh",
   "mimetype": "text/x-sh",
   "name": "bash"
  }
 },
 "nbformat": 4,
 "nbformat_minor": 4
}
