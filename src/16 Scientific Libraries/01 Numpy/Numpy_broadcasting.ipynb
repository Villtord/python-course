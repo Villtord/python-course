{
 "cells": [
  {
   "cell_type": "markdown",
   "metadata": {},
   "source": [
    "\n",
    "<div style=\"color:red;background-color:black\">\n",
    "Diamond Light Source\n",
    "<br style=\"color:red;background-color:antiquewhite\"><h1>Python Libraries: Numpy Broadcasting</h1>  \n",
    "\n",
    "©2000-20 Chris Seddon \n",
    "</div>"
   ]
  },
  {
   "cell_type": "markdown",
   "metadata": {},
   "source": [
    "## 1\n",
    "Numpy uses **broadcasting** when arrays are different sizes.  Let's work through an example of creating a surface plot that utilises Numpy's **broadcasting**.\n",
    "\n",
    "Consider the following simple arrays:"
   ]
  },
  {
   "cell_type": "code",
   "execution_count": 1,
   "metadata": {},
   "outputs": [
    {
     "name": "stdout",
     "output_type": "stream",
     "text": [
      "X and Y are 1D arrays\n",
      "[1 2 3 4 5 6]\n",
      "[1 2 3 4]\n",
      "\n",
      "Y is now a 2D array\n",
      "[[1]\n",
      " [2]\n",
      " [3]\n",
      " [4]]\n",
      "\n",
      "X is still a 1D array\n",
      "[1 2 3 4 5 6]\n"
     ]
    }
   ],
   "source": [
    "import numpy as np\n",
    "\n",
    "X = np.arange(1,7)\n",
    "Y = np.arange(1,5)\n",
    "print(\"X and Y are 1D arrays\")\n",
    "print(X)\n",
    "print(Y)\n",
    "\n",
    "Y = np.vstack(Y)\n",
    "print(\"\\nY is now a 2D array\")\n",
    "print(Y)\n",
    "print(\"\\nX is still a 1D array\")\n",
    "print(X)"
   ]
  },
  {
   "cell_type": "markdown",
   "metadata": {},
   "source": [
    "## 2\n",
    "We are going to create a surface plot of a function dependent on these variables X and Y.\n",
    "\n",
    "The X variable ranges between 1 and 6 and the Y variable between 1 and 4. This means we will have 6 * 4 = 24 points in the xy plane:"
   ]
  },
  {
   "cell_type": "code",
   "execution_count": 2,
   "metadata": {},
   "outputs": [
    {
     "data": {
      "image/png": "[encoded data removed]",
      "text/plain": [
       "<Figure size 432x288 with 1 Axes>"
      ]
     },
     "metadata": {
      "needs_background": "light"
     },
     "output_type": "display_data"
    }
   ],
   "source": [
    "%matplotlib inline\n",
    "import numpy as np\n",
    "import matplotlib.pyplot as plt\n",
    "\n",
    "fig = plt.figure()\n",
    "ax = fig.gca()\n",
    "\n",
    "for x in range(1,7):\n",
    "    for y in range(1,5):\n",
    "        ax.text(x+0.1, y, f\"x={x}\\ny={y}\", color='blue')\n",
    "        ax.plot([x], [y], \"ro\")    \n",
    "ax.set_xlabel('X')\n",
    "ax.set_ylabel('Y')\n",
    "\n",
    "plt.show()"
   ]
  },
  {
   "cell_type": "markdown",
   "metadata": {},
   "source": [
    "## 3\n",
    "\n",
    "We will use **matplotlib** to perform the surface plot.  The plot function we will use is as follows:\n",
    "\n",
    "* ax.plot_surface(X, Y, Z, cmap)\n",
    "\n",
    "The X and Y parameters must both be 2 dimensional arrays that encompass all points in the xy plane that we wish to use in our surface plot.  In our case that's the 24 points shown above.\n",
    "\n",
    "The Z values will be computed from the X an Y arrays for each of our 24 points.  The colormap is used to give artificial colors to the surface to make it easier to visualise.\n",
    "\n",
    "The X array has to contain the values of x for each of the 24 points:"
   ]
  },
  {
   "cell_type": "code",
   "execution_count": 3,
   "metadata": {
    "scrolled": true
   },
   "outputs": [
    {
     "data": {
      "image/png": "[encoded data removed]",
      "text/plain": [
       "<Figure size 432x288 with 1 Axes>"
      ]
     },
     "metadata": {
      "needs_background": "light"
     },
     "output_type": "display_data"
    }
   ],
   "source": [
    "import numpy as np\n",
    "import matplotlib.pyplot as plt\n",
    "\n",
    "fig = plt.figure()\n",
    "ax = fig.gca()\n",
    "\n",
    "for x in range(1,7):\n",
    "    for y in range(1,5):\n",
    "        ax.text(x+0.1, y, f\"x={x}\", color='blue')\n",
    "        ax.plot([x], [y], \"ro\")    \n",
    "ax.set_xlabel('X')\n",
    "ax.set_ylabel('Y')\n",
    "\n",
    "plt.show()"
   ]
  },
  {
   "cell_type": "markdown",
   "metadata": {},
   "source": [
    "## 4\n",
    "Similarly the Y array has to contain the values of y for each of the 24 points:"
   ]
  },
  {
   "cell_type": "code",
   "execution_count": 4,
   "metadata": {
    "scrolled": true
   },
   "outputs": [
    {
     "data": {
      "image/png": "[encoded data removed]",
      "text/plain": [
       "<Figure size 432x288 with 1 Axes>"
      ]
     },
     "metadata": {
      "needs_background": "light"
     },
     "output_type": "display_data"
    }
   ],
   "source": [
    "import numpy as np\n",
    "import matplotlib.pyplot as plt\n",
    "\n",
    "fig = plt.figure()\n",
    "ax = fig.gca()\n",
    "\n",
    "for x in range(1,7):\n",
    "    for y in range(1,5):\n",
    "        ax.text(x+0.1, y, f\"y={y}\", color='blue')\n",
    "        ax.plot([x], [y], \"ro\")    \n",
    "ax.set_xlabel('X')\n",
    "ax.set_ylabel('Y')\n",
    "\n",
    "plt.show()"
   ]
  },
  {
   "cell_type": "markdown",
   "metadata": {},
   "source": [
    "## 5\n",
    "Recall that our original arrays X and Y, don't match up to these requirements.  The X array is 1 dimensional and although the Y array is 2 dimensional, it isn't the correct shape.\n",
    "\n",
    "Let's remind ourselves of the shapes of X and Y:"
   ]
  },
  {
   "cell_type": "code",
   "execution_count": 5,
   "metadata": {},
   "outputs": [
    {
     "name": "stdout",
     "output_type": "stream",
     "text": [
      "shape of X: (6,)\n",
      "shape of Y: (4, 1)\n"
     ]
    }
   ],
   "source": [
    "print(f\"shape of X: {X.shape}\")\n",
    "print(f\"shape of Y: {Y.shape}\")"
   ]
  },
  {
   "cell_type": "markdown",
   "metadata": {},
   "source": [
    "## 6\n",
    "The X array is a single row of 6 elements, whereas the Y array is has 4 rows (but each row has just a single element).\n",
    "\n",
    "Numpy uses **broadcasting** to make the shape of these two arrays the same.  In this case Numpy expands the one dimensional array X to a 4x6 two dimensional array by duplication the first row (i.e. broadcasting it):"
   ]
  },
  {
   "cell_type": "code",
   "execution_count": 6,
   "metadata": {},
   "outputs": [
    {
     "name": "stdout",
     "output_type": "stream",
     "text": [
      "X before broadcasting: \n",
      "[1 2 3 4 5 6]\n",
      "X after broadcasting: \n",
      "[[1 2 3 4 5 6]\n",
      " [1 2 3 4 5 6]\n",
      " [1 2 3 4 5 6]\n",
      " [1 2 3 4 5 6]]\n"
     ]
    }
   ],
   "source": [
    "print(f\"X before broadcasting: \\n{X}\")\n",
    "print(f\"X after broadcasting: \\n{np.broadcast_arrays(X.reshape(1,6), np.ones((4,6)))[0]}\")"
   ]
  },
  {
   "cell_type": "markdown",
   "metadata": {},
   "source": [
    "## 7\n",
    "The Y array is already two dimensional, but needs the first column to be broadcast to make it 4 x 6:"
   ]
  },
  {
   "cell_type": "code",
   "execution_count": 7,
   "metadata": {},
   "outputs": [
    {
     "name": "stdout",
     "output_type": "stream",
     "text": [
      "Y before broadcasting: \n",
      "[[1]\n",
      " [2]\n",
      " [3]\n",
      " [4]]\n",
      "Y after broadcasting: \n",
      "[[1 1 1 1 1 1]\n",
      " [2 2 2 2 2 2]\n",
      " [3 3 3 3 3 3]\n",
      " [4 4 4 4 4 4]]\n"
     ]
    }
   ],
   "source": [
    "print(f\"Y before broadcasting: \\n{Y}\")\n",
    "print(f\"Y after broadcasting: \\n{np.broadcast_arrays(Y,np.ones((4,6)))[0]}\")"
   ]
  },
  {
   "cell_type": "markdown",
   "metadata": {},
   "source": [
    "## 8\n",
    "Rather than use the complicated code above, Numpy provides a convenience function to create the broadcast arrays:"
   ]
  },
  {
   "cell_type": "code",
   "execution_count": 8,
   "metadata": {},
   "outputs": [
    {
     "name": "stdout",
     "output_type": "stream",
     "text": [
      "XX =\n",
      "[[1 2 3 4 5 6]\n",
      " [1 2 3 4 5 6]\n",
      " [1 2 3 4 5 6]\n",
      " [1 2 3 4 5 6]]\n",
      "YY =\n",
      "[[1 1 1 1 1 1]\n",
      " [2 2 2 2 2 2]\n",
      " [3 3 3 3 3 3]\n",
      " [4 4 4 4 4 4]]\n"
     ]
    }
   ],
   "source": [
    "XX, YY = np.meshgrid(X, Y)\n",
    "print(f\"XX =\\n{XX}\")\n",
    "print(f\"YY =\\n{YY}\")"
   ]
  },
  {
   "cell_type": "markdown",
   "metadata": {},
   "source": [
    "## 9\n",
    "Now Numpy can perform element by element calculations on these arrays.  Suppose we want to compute the squares of x+y:"
   ]
  },
  {
   "cell_type": "code",
   "execution_count": 9,
   "metadata": {},
   "outputs": [
    {
     "name": "stdout",
     "output_type": "stream",
     "text": [
      "[[  4   9  16  25  36  49]\n",
      " [  9  16  25  36  49  64]\n",
      " [ 16  25  36  49  64  81]\n",
      " [ 25  36  49  64  81 100]]\n"
     ]
    }
   ],
   "source": [
    "ZZ = (XX + YY)**2\n",
    "print(ZZ)"
   ]
  },
  {
   "cell_type": "markdown",
   "metadata": {},
   "source": [
    "## 10\n",
    "In practice, broadcasting is implicit (we don't need to use **meshgrid**) to calculate Z:"
   ]
  },
  {
   "cell_type": "code",
   "execution_count": 10,
   "metadata": {},
   "outputs": [
    {
     "name": "stdout",
     "output_type": "stream",
     "text": [
      "[[  4   9  16  25  36  49]\n",
      " [  9  16  25  36  49  64]\n",
      " [ 16  25  36  49  64  81]\n",
      " [ 25  36  49  64  81 100]]\n"
     ]
    }
   ],
   "source": [
    "Z = (X + Y)**2\n",
    "print(Z)"
   ]
  },
  {
   "cell_type": "markdown",
   "metadata": {},
   "source": [
    "## 11\n",
    "Now we are ready to write our surface plot example.  Note that although we don't need to use *meshgrid* to perform our calculations, we still need it for the **plot_surface** function.\n",
    "\n",
    "We also need to switch to a 3D projection to see the plot:"
   ]
  },
  {
   "cell_type": "code",
   "execution_count": null,
   "metadata": {},
   "outputs": [],
   "source": [
    "from mpl_toolkits.mplot3d import Axes3D\n",
    "from matplotlib import cm\n",
    "fig = plt.figure()\n",
    "ax = fig.add_subplot(1,1,1, projection='3d', title=\"Broadcasting\")\n",
    "ax.plot_surface(XX, YY, Z, cmap=cm.coolwarm)\n",
    "plt.show()"
   ]
  },
  {
   "cell_type": "markdown",
   "metadata": {},
   "source": [
    "## 12\n",
    "Here is the complete example (I've omitted doing a **vstack** on the y values):"
   ]
  },
  {
   "cell_type": "code",
   "execution_count": null,
   "metadata": {},
   "outputs": [],
   "source": [
    "import numpy as np\n",
    "import matplotlib.pyplot as plt\n",
    "from mpl_toolkits.mplot3d import Axes3D\n",
    "from matplotlib import cm\n",
    "\n",
    "fig = plt.figure()\n",
    "ax = fig.add_subplot(1,1,1, projection='3d', title=\"Broadcasting\")\n",
    "X = np.arange(1,7)\n",
    "Y = np.arange(1,5)\n",
    "XX, YY = np.meshgrid(X, Y)\n",
    "\n",
    "Z = (XX + YY)**2\n",
    "\n",
    "ax.plot_surface(XX, YY, Z, cmap=cm.coolwarm)\n",
    "plt.show()"
   ]
  },
  {
   "cell_type": "markdown",
   "metadata": {},
   "source": [
    "## 13\n",
    "The resulting plot is not very exciting.  To jazz things up let's increase the number of points plotted and choose a more interesting function to plot:"
   ]
  },
  {
   "cell_type": "code",
   "execution_count": null,
   "metadata": {},
   "outputs": [],
   "source": [
    "%matplotlib inline\n",
    "\n",
    "import numpy as np\n",
    "import matplotlib.pyplot as plt\n",
    "from mpl_toolkits.mplot3d import Axes3D\n",
    "from matplotlib import cm\n",
    "\n",
    "fig = plt.figure()\n",
    "ax = fig.add_subplot(1,1,1, projection='3d', title=\"Broadcasting\")\n",
    "X = np.arange(-5, 5, 0.01)\n",
    "Y = np.arange(-5, 5, 0.01)\n",
    "X, Y = np.meshgrid(X, Y)\n",
    "\n",
    "R = np.sqrt(X**2 + Y**2)\n",
    "Z = np.sin(R)\n",
    "\n",
    "ax.plot_surface(X, Y, Z, cmap=cm.coolwarm)\n",
    "plt.show()"
   ]
  }
 ],
 "metadata": {
  "kernelspec": {
   "display_name": "Python 3 (ipykernel)",
   "language": "python",
   "name": "python3"
  },
  "language_info": {
   "codemirror_mode": {
    "name": "ipython",
    "version": 3
   },
   "file_extension": ".py",
   "mimetype": "text/x-python",
   "name": "python",
   "nbconvert_exporter": "python",
   "pygments_lexer": "ipython3",
   "version": "3.9.7"
  }
 },
 "nbformat": 4,
 "nbformat_minor": 4
}
