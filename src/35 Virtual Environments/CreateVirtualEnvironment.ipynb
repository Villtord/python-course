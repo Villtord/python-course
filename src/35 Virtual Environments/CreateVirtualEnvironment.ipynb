{
 "cells": [
  {
   "cell_type": "markdown",
   "id": "c38f9aae",
   "metadata": {},
   "source": [
    "<div style=\"color:red;background-color:black\">\n",
    "Diamond Light Source\n",
    "<br style=\"color:red;background-color:antiquewhite\"><h1>Python Libraries: Virtual Environments</h1><br>\n",
    "©2000-23 Chris Seddon \n",
    "</div>"
   ]
  },
  {
   "cell_type": "markdown",
   "id": "a06839fd-fb6b-48c7-b106-aa7a33d1016e",
   "metadata": {},
   "source": [
    "Use the `venv` command to create a virtual environment"
   ]
  },
  {
   "cell_type": "code",
   "execution_count": 4,
   "id": "09d71e83",
   "metadata": {},
   "outputs": [
    {
     "name": "stdout",
     "output_type": "stream",
     "text": [
      "(my_venv) "
     ]
    },
    {
     "ename": "",
     "evalue": "1",
     "output_type": "error",
     "traceback": []
    }
   ],
   "source": [
    "python -m venv my_venv"
   ]
  },
  {
   "cell_type": "markdown",
   "id": "b0a74252",
   "metadata": {},
   "source": [
    "Once the virtual environment has been created you can activate it by executing the `activate` command in the current shell (hence using source)."
   ]
  },
  {
   "cell_type": "code",
   "execution_count": 5,
   "id": "68d6eef8",
   "metadata": {},
   "outputs": [
    {
     "name": "stdout",
     "output_type": "stream",
     "text": [
      "(my_venv) "
     ]
    },
    {
     "ename": "",
     "evalue": "1",
     "output_type": "error",
     "traceback": []
    }
   ],
   "source": [
    "source my_venv/bin/activate"
   ]
  },
  {
   "cell_type": "markdown",
   "id": "be44e708",
   "metadata": {},
   "source": [
    "Just to check the virtual environment has been activated we can see which `python` is activate "
   ]
  },
  {
   "cell_type": "code",
   "execution_count": 6,
   "id": "66a2d8ca",
   "metadata": {},
   "outputs": [
    {
     "name": "stdout",
     "output_type": "stream",
     "text": [
      "/home/chris/home/workspace/python-course/src/35 Virtual Environments/my_venv/bin/python\n",
      "(my_venv) "
     ]
    },
    {
     "ename": "",
     "evalue": "1",
     "output_type": "error",
     "traceback": []
    }
   ],
   "source": [
    "which python"
   ]
  },
  {
   "cell_type": "markdown",
   "id": "27e8276a",
   "metadata": {},
   "source": [
    "You can now install packages into your virtual environment without affecting the global environment:"
   ]
  },
  {
   "cell_type": "code",
   "execution_count": 7,
   "id": "c724720e",
   "metadata": {},
   "outputs": [
    {
     "name": "stdout",
     "output_type": "stream",
     "text": [
      "Collecting pillow\n",
      "  Using cached Pillow-9.3.0-cp39-cp39-manylinux_2_28_x86_64.whl (3.3 MB)\n",
      "Installing collected packages: pillow\n",
      "Successfully installed pillow-9.3.0\n",
      "\u001b[33mWARNING: You are using pip version 22.0.4; however, version 22.3.1 is available.\n",
      "You should consider upgrading via the '/home/chris/home/workspace/python-course/src/35 Virtual Environments/my_venv/bin/python -m pip install --upgrade pip' command.\u001b[0m\u001b[33m\n",
      "\u001b[0m(my_venv) Collecting numpy\n",
      "  Using cached numpy-1.24.0-cp39-cp39-manylinux_2_17_x86_64.manylinux2014_x86_64.whl (17.3 MB)\n",
      "Installing collected packages: numpy\n",
      "Successfully installed numpy-1.24.0\n",
      "\u001b[33mWARNING: You are using pip version 22.0.4; however, version 22.3.1 is available.\n",
      "You should consider upgrading via the '/home/chris/home/workspace/python-course/src/35 Virtual Environments/my_venv/bin/python -m pip install --upgrade pip' command.\u001b[0m\u001b[33m\n",
      "\u001b[0m(my_venv) Package    Version\n",
      "---------- -------\n",
      "numpy      1.24.0\n",
      "Pillow     9.3.0\n",
      "pip        22.0.4\n",
      "setuptools 58.1.0\n",
      "\u001b[33mWARNING: You are using pip version 22.0.4; however, version 22.3.1 is available.\n",
      "You should consider upgrading via the '/home/chris/home/workspace/python-course/src/35 Virtual Environments/my_venv/bin/python -m pip install --upgrade pip' command.\u001b[0m\u001b[33m\n",
      "\u001b[0m(my_venv) "
     ]
    },
    {
     "ename": "",
     "evalue": "1",
     "output_type": "error",
     "traceback": []
    }
   ],
   "source": [
    "python -m pip install pillow\n",
    "python -m pip install numpy\n",
    "python -m pip list"
   ]
  },
  {
   "cell_type": "markdown",
   "id": "4d633413",
   "metadata": {},
   "source": [
    "If `pip` is out of date you can update it"
   ]
  },
  {
   "cell_type": "code",
   "execution_count": 8,
   "id": "e3e895d2",
   "metadata": {},
   "outputs": [
    {
     "name": "stdout",
     "output_type": "stream",
     "text": [
      "Requirement already satisfied: pip in ./my_venv/lib/python3.9/site-packages (22.0.4)\n",
      "Collecting pip\n",
      "  Using cached pip-22.3.1-py3-none-any.whl (2.1 MB)\n",
      "Installing collected packages: pip\n",
      "  Attempting uninstall: pip\n",
      "    Found existing installation: pip 22.0.4\n",
      "    Uninstalling pip-22.0.4:\n",
      "      Successfully uninstalled pip-22.0.4\n",
      "Successfully installed pip-22.3.1\n",
      "(my_venv) "
     ]
    },
    {
     "ename": "",
     "evalue": "1",
     "output_type": "error",
     "traceback": []
    }
   ],
   "source": [
    "python -m pip install --upgrade pip"
   ]
  },
  {
   "cell_type": "markdown",
   "id": "d7fc3a10",
   "metadata": {},
   "source": [
    "check status of installed packages"
   ]
  },
  {
   "cell_type": "code",
   "execution_count": 9,
   "id": "f4c84713",
   "metadata": {},
   "outputs": [
    {
     "name": "stdout",
     "output_type": "stream",
     "text": [
      "numpy==1.24.0\n",
      "Pillow==9.3.0\n",
      "(my_venv) "
     ]
    },
    {
     "ename": "",
     "evalue": "1",
     "output_type": "error",
     "traceback": []
    }
   ],
   "source": [
    "python -m pip freeze"
   ]
  },
  {
   "cell_type": "markdown",
   "id": "4ba66b03",
   "metadata": {},
   "source": [
    "To leave the virtual environment, just deactivate it"
   ]
  },
  {
   "cell_type": "code",
   "execution_count": 10,
   "id": "11955e3d",
   "metadata": {},
   "outputs": [],
   "source": [
    "deactivate"
   ]
  },
  {
   "cell_type": "markdown",
   "id": "f6dc2b5d",
   "metadata": {},
   "source": [
    "We should now be back in the global environment.  To check, lets see if the current `python` executable has been reset"
   ]
  },
  {
   "cell_type": "code",
   "execution_count": 11,
   "id": "507f4c9f",
   "metadata": {},
   "outputs": [
    {
     "name": "stdout",
     "output_type": "stream",
     "text": [
      "/opt/anaconda3/bin/python\n"
     ]
    }
   ],
   "source": [
    "which python"
   ]
  },
  {
   "cell_type": "markdown",
   "id": "1a4f7e07",
   "metadata": {},
   "source": [
    "To remove the virtual environment we simply delete its folder"
   ]
  },
  {
   "cell_type": "code",
   "execution_count": 12,
   "id": "2a0879bc",
   "metadata": {},
   "outputs": [],
   "source": [
    "rm -rf my_venv"
   ]
  }
 ],
 "metadata": {
  "kernelspec": {
   "display_name": "Bash",
   "language": "bash",
   "name": "bash"
  },
  "language_info": {
   "codemirror_mode": "shell",
   "file_extension": ".sh",
   "mimetype": "text/x-sh",
   "name": "bash"
  }
 },
 "nbformat": 4,
 "nbformat_minor": 5
}
