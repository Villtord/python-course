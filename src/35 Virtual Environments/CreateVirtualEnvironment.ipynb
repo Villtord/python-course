{
 "cells": [
  {
   "cell_type": "markdown",
   "id": "a06839fd-fb6b-48c7-b106-aa7a33d1016e",
   "metadata": {},
   "source": [
    "Use the `venv` command to create a virtual environment"
   ]
  },
  {
   "cell_type": "code",
   "execution_count": null,
   "id": "09d71e83",
   "metadata": {},
   "outputs": [],
   "source": [
    "python -m venv my_venv"
   ]
  },
  {
   "cell_type": "markdown",
   "id": "b0a74252",
   "metadata": {},
   "source": [
    "Once the virtual environment has been created you can activate it by executing the `activate` command in the current shell (hence using source)."
   ]
  },
  {
   "cell_type": "code",
   "execution_count": null,
   "id": "68d6eef8",
   "metadata": {},
   "outputs": [],
   "source": [
    "source my_venv/bin/activate"
   ]
  },
  {
   "cell_type": "markdown",
   "id": "be44e708",
   "metadata": {},
   "source": [
    "Just to check the virtual environment has been activated we can see which `python` is activate "
   ]
  },
  {
   "cell_type": "code",
   "execution_count": null,
   "id": "66a2d8ca",
   "metadata": {},
   "outputs": [],
   "source": [
    "which python"
   ]
  },
  {
   "cell_type": "markdown",
   "id": "27e8276a",
   "metadata": {},
   "source": [
    "You can now install packages into your virtual environment without affecting the global environment:"
   ]
  },
  {
   "cell_type": "code",
   "execution_count": null,
   "id": "c724720e",
   "metadata": {},
   "outputs": [],
   "source": [
    "python -m pip install pillow\n",
    "python -m pip install numpy\n",
    "python -m pip list"
   ]
  },
  {
   "cell_type": "markdown",
   "id": "4d633413",
   "metadata": {},
   "source": [
    "If `pip` is out of date you can update it"
   ]
  },
  {
   "cell_type": "code",
   "execution_count": null,
   "id": "e3e895d2",
   "metadata": {},
   "outputs": [],
   "source": [
    "python -m pip install --upgrade pip"
   ]
  },
  {
   "cell_type": "markdown",
   "id": "d7fc3a10",
   "metadata": {},
   "source": [
    "check status of installed packages"
   ]
  },
  {
   "cell_type": "code",
   "execution_count": null,
   "id": "f4c84713",
   "metadata": {},
   "outputs": [],
   "source": [
    "python -m pip freeze"
   ]
  },
  {
   "cell_type": "markdown",
   "id": "4ba66b03",
   "metadata": {},
   "source": [
    "To leave the virtual environment, just deactivate it"
   ]
  },
  {
   "cell_type": "code",
   "execution_count": null,
   "id": "11955e3d",
   "metadata": {},
   "outputs": [],
   "source": [
    "deactivate"
   ]
  },
  {
   "cell_type": "markdown",
   "id": "f6dc2b5d",
   "metadata": {},
   "source": [
    "We should now be back in the global environment.  To check, lets see if the current `python` executable has been reset"
   ]
  },
  {
   "cell_type": "code",
   "execution_count": null,
   "id": "507f4c9f",
   "metadata": {},
   "outputs": [],
   "source": [
    "which python"
   ]
  },
  {
   "cell_type": "markdown",
   "id": "1a4f7e07",
   "metadata": {},
   "source": [
    "To remove the virtual environment we simply delete its folder"
   ]
  },
  {
   "cell_type": "code",
   "execution_count": null,
   "id": "2a0879bc",
   "metadata": {},
   "outputs": [],
   "source": [
    "rm -rf my_venv"
   ]
  }
 ],
 "metadata": {
  "kernelspec": {
   "display_name": "Bash",
   "language": "bash",
   "name": "bash"
  },
  "language_info": {
   "codemirror_mode": "shell",
   "file_extension": ".sh",
   "mimetype": "text/x-sh",
   "name": "bash"
  }
 },
 "nbformat": 4,
 "nbformat_minor": 5
}
