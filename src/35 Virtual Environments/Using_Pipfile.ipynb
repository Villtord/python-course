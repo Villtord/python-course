{
 "cells": [
  {
   "cell_type": "code",
   "execution_count": null,
   "id": "ad87a9a7",
   "metadata": {},
   "outputs": [],
   "source": [
    "cat 1"
   ]
  },
  {
   "cell_type": "code",
   "execution_count": 7,
   "id": "2a80ea27",
   "metadata": {},
   "outputs": [],
   "source": [
    "cd .."
   ]
  },
  {
   "cell_type": "code",
   "execution_count": 8,
   "id": "debc9802",
   "metadata": {},
   "outputs": [
    {
     "name": "stdout",
     "output_type": "stream",
     "text": [
      "/home/chris/home/workspace/python-course/src/35 Virtual Environments\n"
     ]
    }
   ],
   "source": [
    "pwd"
   ]
  },
  {
   "cell_type": "markdown",
   "id": "34d53d78",
   "metadata": {},
   "source": [
    "To create a new project with `pipenv` you should first create a folder and then run the `install` command to create a virtual environment.  As you do this `pipenv` will create:\n",
    "*        Pipfile  \n",
    "*         Pipfile.lock  \n",
    "\n",
    "The Pipfile will contain all the required sub-dependencies for your packages. "
   ]
  },
  {
   "cell_type": "code",
   "execution_count": 6,
   "id": "15ff32be",
   "metadata": {},
   "outputs": [
    {
     "name": "stdout",
     "output_type": "stream",
     "text": [
      "Traceback (most recent call last):\n",
      "  File \"/opt/anaconda3/lib/python3.9/site-packages/pipenv/project.py\", line 511, in _parse_pipfile\n",
      "    return tomlkit.parse(contents)\n",
      "  File \"/opt/anaconda3/lib/python3.9/site-packages/pipenv/vendor/tomlkit/api.py\", line 81, in parse\n",
      "    return Parser(string).parse()\n",
      "  File \"/opt/anaconda3/lib/python3.9/site-packages/pipenv/vendor/tomlkit/parser.py\", line 154, in parse\n",
      "    key, value = self._parse_table()\n",
      "  File \"/opt/anaconda3/lib/python3.9/site-packages/pipenv/vendor/tomlkit/parser.py\", line 933, in _parse_table\n",
      "    cws, comment, trail = self._parse_comment_trail()\n",
      "  File \"/opt/anaconda3/lib/python3.9/site-packages/pipenv/vendor/tomlkit/parser.py\", line 277, in _parse_comment_trail\n",
      "    raise self.parse_error(UnexpectedCharError, c)\n",
      "pipenv.vendor.tomlkit.exceptions.UnexpectedCharError: Unexpected character: 'c' at line 1 col 10\n",
      "\n",
      "During handling of the above exception, another exception occurred:\n",
      "\n",
      "Traceback (most recent call last):\n",
      "  File \"/opt/anaconda3/bin/pipenv\", line 8, in <module>\n",
      "    sys.exit(cli())\n",
      "  File \"/opt/anaconda3/lib/python3.9/site-packages/pipenv/vendor/click/core.py\", line 1128, in __call__\n",
      "    return self.main(*args, **kwargs)\n",
      "  File \"/opt/anaconda3/lib/python3.9/site-packages/pipenv/cli/options.py\", line 57, in main\n",
      "    return super().main(*args, **kwargs, windows_expand_args=False)\n",
      "  File \"/opt/anaconda3/lib/python3.9/site-packages/pipenv/vendor/click/core.py\", line 1053, in main\n",
      "    rv = self.invoke(ctx)\n",
      "  File \"/opt/anaconda3/lib/python3.9/site-packages/pipenv/vendor/click/core.py\", line 1659, in invoke\n",
      "    return _process_result(sub_ctx.command.invoke(sub_ctx))\n",
      "  File \"/opt/anaconda3/lib/python3.9/site-packages/pipenv/vendor/click/core.py\", line 1395, in invoke\n",
      "    return ctx.invoke(self.callback, **ctx.params)\n",
      "  File \"/opt/anaconda3/lib/python3.9/site-packages/pipenv/vendor/click/core.py\", line 754, in invoke\n",
      "    return __callback(*args, **kwargs)\n",
      "  File \"/opt/anaconda3/lib/python3.9/site-packages/pipenv/vendor/click/decorators.py\", line 84, in new_func\n",
      "    return ctx.invoke(f, obj, *args, **kwargs)\n",
      "  File \"/opt/anaconda3/lib/python3.9/site-packages/pipenv/vendor/click/core.py\", line 754, in invoke\n",
      "    return __callback(*args, **kwargs)\n",
      "  File \"/opt/anaconda3/lib/python3.9/site-packages/pipenv/cli/command.py\", line 239, in install\n",
      "    do_install(\n",
      "  File \"/opt/anaconda3/lib/python3.9/site-packages/pipenv/core.py\", line 2132, in do_install\n",
      "    ensure_project(\n",
      "  File \"/opt/anaconda3/lib/python3.9/site-packages/pipenv/core.py\", line 538, in ensure_project\n",
      "    ensure_virtualenv(\n",
      "  File \"/opt/anaconda3/lib/python3.9/site-packages/pipenv/core.py\", line 459, in ensure_virtualenv\n",
      "    python = ensure_python(project, three=three, python=python)\n",
      "  File \"/opt/anaconda3/lib/python3.9/site-packages/pipenv/core.py\", line 344, in ensure_python\n",
      "    python = project.required_python_version\n",
      "  File \"/opt/anaconda3/lib/python3.9/site-packages/pipenv/project.py\", line 193, in required_python_version\n",
      "    required = self.parsed_pipfile.get(\"requires\", {}).get(\"python_full_version\")\n",
      "  File \"/opt/anaconda3/lib/python3.9/site-packages/pipenv/project.py\", line 489, in parsed_pipfile\n",
      "    parsed = self._parse_pipfile(contents)\n",
      "  File \"/opt/anaconda3/lib/python3.9/site-packages/pipenv/project.py\", line 515, in _parse_pipfile\n",
      "    return toml.loads(contents)\n",
      "  File \"/opt/anaconda3/lib/python3.9/site-packages/pipenv/vendor/toml/decoder.py\", line 433, in loads\n",
      "    raise TomlDecodeError(\"Key group not on a line by itself.\",\n",
      "pipenv.vendor.toml.decoder.TomlDecodeError: Key group not on a line by itself. (line 1 column 1 char 0)\n"
     ]
    },
    {
     "ename": "",
     "evalue": "1",
     "output_type": "error",
     "traceback": []
    }
   ],
   "source": [
    "mkdir -p projectA                   # create directory for project\n",
    "cd projectA                         # enter project\n",
    "pipenv install                      # create virtual environment"
   ]
  },
  {
   "cell_type": "code",
   "execution_count": null,
   "id": "bb925caa",
   "metadata": {},
   "outputs": [],
   "source": [
    "ls \n",
    "pwd"
   ]
  },
  {
   "cell_type": "code",
   "execution_count": null,
   "id": "f333ae3d",
   "metadata": {},
   "outputs": [],
   "source": []
  }
 ],
 "metadata": {
  "kernelspec": {
   "display_name": "Bash",
   "language": "bash",
   "name": "bash"
  },
  "language_info": {
   "codemirror_mode": "shell",
   "file_extension": ".sh",
   "mimetype": "text/x-sh",
   "name": "bash"
  }
 },
 "nbformat": 4,
 "nbformat_minor": 5
}
