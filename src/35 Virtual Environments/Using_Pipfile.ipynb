{
 "cells": [
  {
   "cell_type": "code",
   "execution_count": 42,
   "id": "9f9249d2",
   "metadata": {},
   "outputs": [
    {
     "name": "stdout",
     "output_type": "stream",
     "text": [
      "/home/chris/home/workspace/python-course/src/35 Virtual Environments\n",
      "1  2  3  4  CreateVirtualEnvironment.ipynb  Using_Pipfile.ipynb  utils\tz\n"
     ]
    }
   ],
   "source": [
    "cd ~/p3.ln/src/35\\ Virtual\\ Environments\n",
    "pwd\n",
    "ls"
   ]
  },
  {
   "cell_type": "markdown",
   "id": "34d53d78",
   "metadata": {},
   "source": [
    "To create a new project with `pipenv` you should first create a folder and then run the `install` command to create a virtual environment.  As you do this `pipenv` will create:\n",
    "*        Pipfile  \n",
    "*         Pipfile.lock  \n",
    "\n",
    "The Pipfile will contain all the required sub-dependencies for your packages. "
   ]
  },
  {
   "cell_type": "code",
   "execution_count": 43,
   "id": "15ff32be",
   "metadata": {},
   "outputs": [
    {
     "name": "stdout",
     "output_type": "stream",
     "text": [
      "\u001b[1mCreating a virtualenv for this project...\u001b[0m\n",
      "Pipfile: \u001b[33m\u001b[1m/home/chris/home/workspace/python-course/src/35 Virtual Environments/projectA/Pipfile\u001b[0m\n",
      "\u001b[1mUsing\u001b[0m \u001b[33m\u001b[1m/usr/bin/python3\u001b[0m \u001b[32m(3.10.6)\u001b[0m \u001b[1mto create virtualenv...\u001b[0m\n",
      "\u001b[2K\u001b[32m⠦\u001b[0m Creating virtual environment...\u001b[36mcreated virtual environment CPython3.10.6.final.0-64 in 207ms\n",
      "  creator Venv(dest=/home/chris/.local/share/virtualenvs/projectA-mSgKtBW0, clear=False, no_vcs_ignore=False, global=False, describe=CPython3Posix)\n",
      "  seeder FromAppData(download=False, pip=bundle, setuptools=bundle, wheel=bundle, via=copy, app_data_dir=/home/chris/.local/share/virtualenv)\n",
      "    added seed packages: pip==22.3.1, setuptools==65.6.3, wheel==0.38.4\n",
      "  activators BashActivator,CShellActivator,FishActivator,NushellActivator,PowerShellActivator,PythonActivator\n",
      "\u001b[0m\n",
      "\u001b[2K✔ Successfully created virtual environment!\n",
      "\u001b[2K\u001b[32m⠦\u001b[0m Creating virtual environment...\n",
      "\u001b[1A\u001b[2K\u001b[32mVirtualenv location: /home/chris/.local/share/virtualenvs/projectA-mSgKtBW0\u001b[0m\n",
      "\u001b[1mCreating a Pipfile for this project...\u001b[0m\n",
      "\u001b[1mPipfile.lock not found, creating...\u001b[0m\n",
      "Locking\u001b[0m \u001b[33m[packages]\u001b[0m dependencies...\u001b[0m\n",
      "Locking\u001b[0m \u001b[33m[dev-packages]\u001b[0m dependencies...\u001b[0m\n",
      "\u001b[1mUpdated Pipfile.lock (fedbd2ab7afd84cf16f128af0619749267b62277b4cb6989ef16d4bef6e4eef2)!\u001b[0m\n",
      "\u001b[1mInstalling dependencies from Pipfile.lock (e4eef2)...\u001b[0m\n",
      "To activate this project's virtualenv, run \u001b[33mpipenv shell\u001b[0m.\n",
      "Alternatively, run a command inside the virtualenv with \u001b[33mpipenv run\u001b[0m.\n"
     ]
    }
   ],
   "source": [
    "mkdir -p projectA                   # create directory for project\n",
    "cd projectA                         # enter project\n",
    "pipenv install                      # create virtual environment"
   ]
  },
  {
   "cell_type": "markdown",
   "id": "4b7883fc",
   "metadata": {},
   "source": [
    "# Check pipfiles have been created"
   ]
  },
  {
   "cell_type": "code",
   "execution_count": 44,
   "id": "bb925caa",
   "metadata": {},
   "outputs": [
    {
     "name": "stdout",
     "output_type": "stream",
     "text": [
      "/home/chris/home/workspace/python-course/src/35 Virtual Environments/projectA\n",
      "Pipfile  Pipfile.lock\n"
     ]
    }
   ],
   "source": [
    "pwd\n",
    "ls"
   ]
  },
  {
   "cell_type": "markdown",
   "id": "3fe31efa",
   "metadata": {},
   "source": [
    "Once you start your virtual environment you can install libraries and they will be recorded in you PipFile."
   ]
  },
  {
   "cell_type": "code",
   "execution_count": 45,
   "id": "f9e15b37",
   "metadata": {},
   "outputs": [
    {
     "name": "stdout",
     "output_type": "stream",
     "text": [
      "\u001b[32m\u001b[1mInstalling numpy...\u001b[0m\n",
      "\u001b[2K\u001b[32m⠴\u001b[0m ✔ Installation Succeeded\n",
      "\u001b[1A\u001b[2K\u001b[33m\u001b[1mPipfile.lock (e4eef2) out of date, updating to (a6e810)...\u001b[0m\n",
      "Locking\u001b[0m \u001b[33m[packages]\u001b[0m dependencies...\u001b[0m\n",
      "\u001b[2K\u001b[32m⠋\u001b[0m ✔ Success!dependencies.....\n",
      "\u001b[1A\u001b[2KLocking\u001b[0m \u001b[33m[dev-packages]\u001b[0m dependencies...\u001b[0m\n",
      "\u001b[1mUpdated Pipfile.lock (56f4dd913f06092b5800190ed38cbd47460bfb927fff151956e2efb228a6e810)!\u001b[0m\n",
      "\u001b[1mInstalling dependencies from Pipfile.lock (a6e810)...\u001b[0m\n",
      "To activate this project's virtualenv, run \u001b[33mpipenv shell\u001b[0m.\n",
      "Alternatively, run a command inside the virtualenv with \u001b[33mpipenv run\u001b[0m.\n",
      "\u001b[32m\u001b[1mInstalling pandas...\u001b[0m\n",
      "\u001b[2K\u001b[32m⠸\u001b[0m ✔ Installation Succeeded\n",
      "\u001b[1A\u001b[2K\u001b[33m\u001b[1mPipfile.lock (a6e810) out of date, updating to (1c7351)...\u001b[0m\n",
      "Locking\u001b[0m \u001b[33m[packages]\u001b[0m dependencies...\u001b[0m\n",
      "\u001b[2K\u001b[32m⠋\u001b[0m ✔ Success!dependencies.....\n",
      "\u001b[1A\u001b[2KLocking\u001b[0m \u001b[33m[dev-packages]\u001b[0m dependencies...\u001b[0m\n",
      "\u001b[1mUpdated Pipfile.lock (b883be20349a56066666bdb40b43b81bd8af31c5b981137388600154591c7351)!\u001b[0m\n",
      "\u001b[1mInstalling dependencies from Pipfile.lock (1c7351)...\u001b[0m\n",
      "To activate this project's virtualenv, run \u001b[33mpipenv shell\u001b[0m.\n",
      "Alternatively, run a command inside the virtualenv with \u001b[33mpipenv run\u001b[0m.\n"
     ]
    }
   ],
   "source": [
    "#pipenv shell &               # start virtual environment\n",
    "pipenv install numpy         # install numpy\n",
    "pipenv install pandas        # install pandas"
   ]
  },
  {
   "cell_type": "markdown",
   "id": "15e3c8e8",
   "metadata": {},
   "source": [
    "# Look at the Pipfile"
   ]
  },
  {
   "cell_type": "code",
   "execution_count": 46,
   "id": "e91fd3e1",
   "metadata": {},
   "outputs": [
    {
     "name": "stdout",
     "output_type": "stream",
     "text": [
      "[[source]]\n",
      "url = \"https://pypi.org/simple\"\n",
      "verify_ssl = true\n",
      "name = \"pypi\"\n",
      "\n",
      "[packages]\n",
      "numpy = \"*\"\n",
      "pandas = \"*\"\n",
      "\n",
      "[dev-packages]\n",
      "\n",
      "[requires]\n",
      "python_version = \"3.10\"\n"
     ]
    }
   ],
   "source": [
    "cat Pipfile"
   ]
  },
  {
   "cell_type": "markdown",
   "id": "635549cc",
   "metadata": {},
   "source": [
    "# Look at Pipfile.lock"
   ]
  },
  {
   "cell_type": "code",
   "execution_count": 47,
   "id": "aeb85c3e",
   "metadata": {},
   "outputs": [
    {
     "name": "stdout",
     "output_type": "stream",
     "text": [
      "{\n",
      "    \"_meta\": {\n",
      "        \"hash\": {\n",
      "            \"sha256\": \"b883be20349a56066666bdb40b43b81bd8af31c5b981137388600154591c7351\"\n",
      "        },\n",
      "        \"pipfile-spec\": 6,\n",
      "        \"requires\": {\n",
      "            \"python_version\": \"3.10\"\n",
      "        },\n",
      "        \"sources\": [\n",
      "            {\n",
      "                \"name\": \"pypi\",\n",
      "                \"url\": \"https://pypi.org/simple\",\n",
      "                \"verify_ssl\": true\n",
      "            }\n",
      "        ]\n",
      "    },\n",
      "    \"default\": {\n",
      "        \"numpy\": {\n",
      "            \"hashes\": [\n",
      "                \"sha256:0104d8adaa3a4cc60c2777cab5196593bf8a7f416eda133be1f3803dd0838886\",\n",
      "                \"sha256:0885d9a7666cafe5f9876c57bfee34226e2b2847bfb94c9505e18d81011e5401\",\n",
      "                \"sha256:12bba5561d8118981f2f1ff069ecae200c05d7b6c78a5cdac0911f74bc71cbd1\",\n",
      "                \"sha256:2f8e0df2ecc1928ef7256f18e309c9d6229b08b5be859163f5caa59c93d53646\",\n",
      "                \"sha256:4445f472b246cad6514cc09fbb5ecb7aab09ca2acc3c16f29f8dca6c468af501\",\n",
      "                \"sha256:4d01f7832fa319a36fd75ba10ea4027c9338ede875792f7bf617f4b45056fc3a\",\n",
      "                \"sha256:4f5e78b8b710cd7cd1a8145994cfffc6ddd5911669a437777d8cedfce6c83a98\",\n",
      "                \"sha256:667b5b1f6a352419e340f6475ef9930348ae5cb7fca15f2cc3afcb530823715e\",\n",
      "                \"sha256:6e73a1f4f5b74a42abb55bc2b3d869f1b38cbc8776da5f8b66bf110284f7a437\",\n",
      "                \"sha256:73cf2c5b5a07450f20a0c8e04d9955491970177dce8df8d6903bf253e53268e0\",\n",
      "                \"sha256:7ad6a024a32ee61d18f5b402cd02e9c0e22c0fb9dc23751991b3a16d209d972e\",\n",
      "                \"sha256:8b1ddfac6a82d4f3c8e99436c90b9c2c68c0bb14658d1684cdd00f05fab241f5\",\n",
      "                \"sha256:90075ef2c6ac6397d0035bcd8b298b26e481a7035f7a3f382c047eb9c3414db0\",\n",
      "                \"sha256:9387c7d6d50e8f8c31e7bfc034241e9c6f4b3eb5db8d118d6487047b922f82af\",\n",
      "                \"sha256:9af91f794d2d3007d91d749ebc955302889261db514eb24caef30e03e8ec1e41\",\n",
      "                \"sha256:ab11f6a7602cf8ea4c093e091938207de3068c5693a0520168ecf4395750f7ea\",\n",
      "                \"sha256:ac4fe68f1a5a18136acebd4eff91aab8bed00d1ef2fdb34b5d9192297ffbbdfc\",\n",
      "                \"sha256:ada6c1e9608ceadaf7020e1deea508b73ace85560a16f51bef26aecb93626a72\",\n",
      "                \"sha256:c4ab7c9711fe6b235e86487ca74c1b092a6dd59a3cb45b63241ea0a148501853\",\n",
      "                \"sha256:cec79ff3984b2d1d103183fc4a3361f5b55bbb66cb395cbf5a920a4bb1fd588d\",\n",
      "                \"sha256:cf8960f72997e56781eb1c2ea256a70124f92a543b384f89e5fb3503a308b1d3\",\n",
      "                \"sha256:d7f223554aba7280e6057727333ed357b71b7da7422d02ff5e91b857888c25d1\",\n",
      "                \"sha256:dbb0490f0a880700a6cc4d000384baf19c1f4df59fff158d9482d4dbbca2b239\",\n",
      "                \"sha256:e63d2157f9fc98cc178870db83b0e0c85acdadd598b134b00ebec9e0db57a01f\",\n",
      "                \"sha256:ec3e5e8172a0a6a4f3c2e7423d4a8434c41349141b04744b11a90e017a95bad5\",\n",
      "                \"sha256:f3c4a9a9f92734a4728ddbd331e0124eabbc968a0359a506e8e74a9b0d2d419b\",\n",
      "                \"sha256:f9168790149f917ad8e3cf5047b353fefef753bd50b07c547da0bdf30bc15d91\",\n",
      "                \"sha256:fe44e925c68fb5e8db1334bf30ac1a1b6b963b932a19cf41d2e899cf02f36aab\"\n",
      "            ],\n",
      "            \"index\": \"pypi\",\n",
      "            \"version\": \"==1.24.0\"\n",
      "        },\n",
      "        \"pandas\": {\n",
      "            \"hashes\": [\n",
      "                \"sha256:0183cb04a057cc38fde5244909fca9826d5d57c4a5b7390c0cc3fa7acd9fa883\",\n",
      "                \"sha256:1fc87eac0541a7d24648a001d553406f4256e744d92df1df8ebe41829a915028\",\n",
      "                \"sha256:220b98d15cee0b2cd839a6358bd1f273d0356bf964c1a1aeb32d47db0215488b\",\n",
      "                \"sha256:2552bffc808641c6eb471e55aa6899fa002ac94e4eebfa9ec058649122db5824\",\n",
      "                \"sha256:315e19a3e5c2ab47a67467fc0362cb36c7c60a93b6457f675d7d9615edad2ebe\",\n",
      "                \"sha256:344021ed3e639e017b452aa8f5f6bf38a8806f5852e217a7594417fb9bbfa00e\",\n",
      "                \"sha256:375262829c8c700c3e7cbb336810b94367b9c4889818bbd910d0ecb4e45dc261\",\n",
      "                \"sha256:457d8c3d42314ff47cc2d6c54f8fc0d23954b47977b2caed09cd9635cb75388b\",\n",
      "                \"sha256:4aed257c7484d01c9a194d9a94758b37d3d751849c05a0050c087a358c41ad1f\",\n",
      "                \"sha256:530948945e7b6c95e6fa7aa4be2be25764af53fba93fe76d912e35d1c9ee46f5\",\n",
      "                \"sha256:5ae7e989f12628f41e804847a8cc2943d362440132919a69429d4dea1f164da0\",\n",
      "                \"sha256:71f510b0efe1629bf2f7c0eadb1ff0b9cf611e87b73cd017e6b7d6adb40e2b3a\",\n",
      "                \"sha256:73f219fdc1777cf3c45fde7f0708732ec6950dfc598afc50588d0d285fddaefc\",\n",
      "                \"sha256:8092a368d3eb7116e270525329a3e5c15ae796ccdf7ccb17839a73b4f5084a39\",\n",
      "                \"sha256:82ae615826da838a8e5d4d630eb70c993ab8636f0eff13cb28aafc4291b632b5\",\n",
      "                \"sha256:9608000a5a45f663be6af5c70c3cbe634fa19243e720eb380c0d378666bc7702\",\n",
      "                \"sha256:a40dd1e9f22e01e66ed534d6a965eb99546b41d4d52dbdb66565608fde48203f\",\n",
      "                \"sha256:b4f5a82afa4f1ff482ab8ded2ae8a453a2cdfde2001567b3ca24a4c5c5ca0db3\",\n",
      "                \"sha256:c009a92e81ce836212ce7aa98b219db7961a8b95999b97af566b8dc8c33e9519\",\n",
      "                \"sha256:c218796d59d5abd8780170c937b812c9637e84c32f8271bbf9845970f8c1351f\",\n",
      "                \"sha256:cc3cd122bea268998b79adebbb8343b735a5511ec14efb70a39e7acbc11ccbdc\",\n",
      "                \"sha256:d0d8fd58df5d17ddb8c72a5075d87cd80d71b542571b5f78178fb067fa4e9c72\",\n",
      "                \"sha256:e18bc3764cbb5e118be139b3b611bc3fbc5d3be42a7e827d1096f46087b395eb\",\n",
      "                \"sha256:e2b83abd292194f350bb04e188f9379d36b8dfac24dd445d5c87575f3beaf789\",\n",
      "                \"sha256:e7469271497960b6a781eaa930cba8af400dd59b62ec9ca2f4d31a19f2f91090\",\n",
      "                \"sha256:e9dbacd22555c2d47f262ef96bb4e30880e5956169741400af8b306bbb24a273\",\n",
      "                \"sha256:f6257b314fc14958f8122779e5a1557517b0f8e500cfb2bd53fa1f75a8ad0af2\"\n",
      "            ],\n",
      "            \"index\": \"pypi\",\n",
      "            \"version\": \"==1.5.2\"\n",
      "        },\n",
      "        \"python-dateutil\": {\n",
      "            \"hashes\": [\n",
      "                \"sha256:0123cacc1627ae19ddf3c27a5de5bd67ee4586fbdd6440d9748f8abb483d3e86\",\n",
      "                \"sha256:961d03dc3453ebbc59dbdea9e4e11c5651520a876d0f4db161e8674aae935da9\"\n",
      "            ],\n",
      "            \"markers\": \"python_version >= '2.7' and python_version not in '3.0, 3.1, 3.2, 3.3'\",\n",
      "            \"version\": \"==2.8.2\"\n",
      "        },\n",
      "        \"pytz\": {\n",
      "            \"hashes\": [\n",
      "                \"sha256:7ccfae7b4b2c067464a6733c6261673fdb8fd1be905460396b97a073e9fa683a\",\n",
      "                \"sha256:93007def75ae22f7cd991c84e02d434876818661f8df9ad5df9e950ff4e52cfd\"\n",
      "            ],\n",
      "            \"version\": \"==2022.7\"\n",
      "        },\n",
      "        \"six\": {\n",
      "            \"hashes\": [\n",
      "                \"sha256:1e61c37477a1626458e36f7b1d82aa5c9b094fa4802892072e49de9c60c4c926\",\n",
      "                \"sha256:8abb2f1d86890a2dfb989f9a77cfcfd3e47c2a354b01111771326f8aa26e0254\"\n",
      "            ],\n",
      "            \"markers\": \"python_version >= '2.7' and python_version not in '3.0, 3.1, 3.2, 3.3'\",\n",
      "            \"version\": \"==1.16.0\"\n",
      "        }\n",
      "    },\n",
      "    \"develop\": {}\n",
      "}\n"
     ]
    }
   ],
   "source": [
    "cat Pipfile.lock"
   ]
  },
  {
   "cell_type": "markdown",
   "id": "adff4906",
   "metadata": {},
   "source": [
    "# Exit from Virtual Environment"
   ]
  },
  {
   "cell_type": "code",
   "execution_count": 48,
   "id": "646259bc",
   "metadata": {},
   "outputs": [
    {
     "name": "stdout",
     "output_type": "stream",
     "text": [
      "exit\n",
      "Restarting Bash"
     ]
    }
   ],
   "source": [
    "exit"
   ]
  },
  {
   "cell_type": "markdown",
   "id": "ffdcb7ae",
   "metadata": {},
   "source": [
    "# Start Virtual Environment\n",
    "To start a virtual environmeny you cd to the project's directory and then run:\n",
    "<pre>pipenv shell</pre>\n",
    "However, because we are running inside Jupyter we will miss out this step."
   ]
  },
  {
   "cell_type": "code",
   "execution_count": 49,
   "id": "2daabcea",
   "metadata": {},
   "outputs": [
    {
     "name": "stdout",
     "output_type": "stream",
     "text": [
      "/home/chris/home/workspace/python-course/src/35 Virtual Environments\n"
     ]
    }
   ],
   "source": [
    "pwd\n",
    "cd projectA\n",
    "# source \"$(pipenv --venv)/bin/activate\""
   ]
  },
  {
   "cell_type": "markdown",
   "id": "8a22d5cb",
   "metadata": {},
   "source": [
    "If we haven't started the Pipenv shell and you try to install some software, Pipenv will crete the subshell automatically."
   ]
  },
  {
   "cell_type": "code",
   "execution_count": 50,
   "id": "a4bcdc40",
   "metadata": {},
   "outputs": [
    {
     "name": "stdout",
     "output_type": "stream",
     "text": [
      "\u001b[32m\u001b[1mInstalling matplotlib...\u001b[0m\n",
      "\u001b[2K\u001b[32m⠦\u001b[0m ✔ Installation Succeeded..\n",
      "\u001b[1A\u001b[2K\u001b[33m\u001b[1mPipfile.lock (1c7351) out of date, updating to (73ff98)...\u001b[0m\n",
      "Locking\u001b[0m \u001b[33m[packages]\u001b[0m dependencies...\u001b[0m\n",
      "\u001b[2K\u001b[32m⠋\u001b[0m ✔ Success!dependencies.....\n",
      "\u001b[1A\u001b[2KLocking\u001b[0m \u001b[33m[dev-packages]\u001b[0m dependencies...\u001b[0m\n",
      "\u001b[1mUpdated Pipfile.lock (a89ef53c6cdb3cc36d9c302eefeace96ed25637eefe3ff89b92bf006b473ff98)!\u001b[0m\n",
      "\u001b[1mInstalling dependencies from Pipfile.lock (73ff98)...\u001b[0m\n",
      "To activate this project's virtualenv, run \u001b[33mpipenv shell\u001b[0m.\n",
      "Alternatively, run a command inside the virtualenv with \u001b[33mpipenv run\u001b[0m.\n"
     ]
    }
   ],
   "source": [
    "pipenv install matplotlib"
   ]
  },
  {
   "cell_type": "markdown",
   "id": "3a3cb343",
   "metadata": {},
   "source": [
    "# Report on Virtual Environment"
   ]
  },
  {
   "cell_type": "code",
   "execution_count": 51,
   "id": "6075eb25",
   "metadata": {},
   "outputs": [
    {
     "name": "stdout",
     "output_type": "stream",
     "text": [
      "/home/chris/.local/share/virtualenvs/projectA-mSgKtBW0\n"
     ]
    }
   ],
   "source": [
    "pipenv --venv"
   ]
  },
  {
   "cell_type": "markdown",
   "id": "08fe4cfe",
   "metadata": {},
   "source": [
    "You can add a script to your enviroment under the `[scripts]` tag in the Pipfile."
   ]
  },
  {
   "cell_type": "code",
   "execution_count": 52,
   "id": "2c48e582",
   "metadata": {},
   "outputs": [
    {
     "name": "stdout",
     "output_type": "stream",
     "text": [
      "add script to Pipfile\n"
     ]
    }
   ],
   "source": [
    "echo \"add script to Pipfile\"\n",
    "if [ -z $(grep scripts Pipfile) ];\n",
    "then\n",
    "    echo '[scripts]' >> Pipfile\n",
    "    echo 'man = \"man python\"' >> Pipfile\n",
    "fi"
   ]
  },
  {
   "cell_type": "markdown",
   "id": "15ebdbcc",
   "metadata": {},
   "source": [
    "Look at Pipfile"
   ]
  },
  {
   "cell_type": "code",
   "execution_count": 53,
   "id": "8e145128",
   "metadata": {},
   "outputs": [
    {
     "name": "stdout",
     "output_type": "stream",
     "text": [
      "[[source]]\n",
      "url = \"https://pypi.org/simple\"\n",
      "verify_ssl = true\n",
      "name = \"pypi\"\n",
      "\n",
      "[packages]\n",
      "numpy = \"*\"\n",
      "pandas = \"*\"\n",
      "matplotlib = \"*\"\n",
      "\n",
      "[dev-packages]\n",
      "\n",
      "[requires]\n",
      "python_version = \"3.10\"\n",
      "[scripts]\n",
      "man = \"man python\"\n"
     ]
    }
   ],
   "source": [
    "cat Pipfile"
   ]
  },
  {
   "cell_type": "markdown",
   "id": "977d31ec",
   "metadata": {},
   "source": [
    "Once you've added the script you can run it as follows:\n"
   ]
  },
  {
   "cell_type": "code",
   "execution_count": 54,
   "id": "b998cfc9",
   "metadata": {},
   "outputs": [
    {
     "name": "stdout",
     "output_type": "stream",
     "text": [
      "PYTHON(1)                   General Commands Manual                  PYTHON(1)\n",
      "\n",
      "NAME\n",
      "       python  - an interpreted, interactive, object-oriented programming lan‐\n",
      "       guage\n",
      "\n",
      "SYNOPSIS\n",
      "       python [ -B ] [ -d ] [ -E ] [ -h ] [ -i ] [ -m module-name ]\n",
      "              [ -O ] [ -OO ] [ -R ] [ -Q argument ] [ -s ] [ -S ] [ -t ] [  -u\n",
      "       ]\n",
      "              [ -v ] [ -V ] [ -W argument ] [ -x ] [ -3 ] [ -?  ]\n",
      "              [ -c command | script | - ] [ arguments ]\n",
      "\n",
      "DESCRIPTION\n",
      "       Python is an interpreted, interactive, object-oriented programming lan‐\n",
      "       guage that combines remarkable power with very clear  syntax.   For  an\n",
      "       introduction  to  programming  in Python, see the Python Tutorial.  The\n",
      "       Python Library Reference documents built-in and  standard  types,  con‐\n",
      "       stants,  functions  and  modules.  Finally, the Python Reference Manual\n",
      "       describes the syntax and semantics of the  core  language  in  (perhaps\n",
      "       too) much detail.  (These documents may be located via the INTERNET RE‐\n",
      "       SOURCES below; they may be installed on your system as well.)\n",
      "\n",
      "       Python's basic power can be extended with your own modules written in C\n",
      "       or  C++.   On  most  systems  such  modules  may be dynamically loaded.\n",
      "       Python is also adaptable as an extension language for existing applica‐\n",
      "       tions.  See the internal documentation for hints.\n",
      "\n",
      "       Documentation  for  installed Python modules and packages can be viewed\n",
      "       by running the pydoc program.\n",
      "\n",
      "COMMAND LINE OPTIONS\n",
      "       -B     Don't write .py[co] files on import. See  also  PYTHONDONTWRITE‐\n",
      "              BYTECODE.\n",
      "\n",
      "       -c command\n",
      "              Specify  the command to execute (see next section).  This termi‐\n",
      "              nates the option list (following options are passed as arguments\n",
      "              to the command).\n",
      "\n",
      "       -d     Turn  on parser debugging output (for wizards only, depending on\n",
      "              compilation options).\n",
      "\n",
      "       -E     Ignore environment variables like PYTHONPATH and PYTHONHOME that\n",
      "              modify the behavior of the interpreter.\n",
      "\n",
      "       -h ,  -? ,  --help\n",
      "              Prints the usage for the interpreter executable and exits.\n",
      "\n",
      "       -i     When  a  script  is passed as first argument or the -c option is\n",
      "              used, enter interactive mode after executing the script  or  the\n",
      "              command.  It does not read the $PYTHONSTARTUP file.  This can be\n",
      "              useful to inspect global variables  or  a  stack  trace  when  a\n",
      "              script raises an exception.\n",
      "\n",
      "       -m module-name\n",
      "              Searches  sys.path for the named module and runs the correspond‐\n",
      "              ing .py file as a script.\n",
      "\n",
      "       -O     Turn on basic optimizations.  This changes the  filename  exten‐\n",
      "              sion  for  compiled  (bytecode)  files from .pyc to .pyo.  Given\n",
      "              twice, causes docstrings to be discarded.\n",
      "\n",
      "       -OO    Discard docstrings in addition to the -O optimizations.\n",
      "\n",
      "       -R     Turn on \"hash randomization\", so that the hash() values of  str,\n",
      "              bytes  and  datetime  objects are \"salted\" with an unpredictable\n",
      "              pseudo-random value.  Although they remain  constant  within  an\n",
      "              individual  Python process, they are not predictable between re‐\n",
      "              peated invocations of Python.\n",
      "\n",
      "              This is intended to provide protection against a denial of  ser‐\n",
      "              vice  caused  by  carefully-chosen inputs that exploit the worst\n",
      "              case performance of a dict construction, O(n^2) complexity.  See\n",
      "              http://www.ocert.org/advisories/ocert-2011-003.html for details.\n",
      "\n",
      "       -Q argument\n",
      "              Division  control;  see  PEP  238.   The argument must be one of\n",
      "              \"old\" (the default, int/int  and  long/long  return  an  int  or\n",
      "              long), \"new\" (new division semantics, i.e. int/int and long/long\n",
      "              returns a float), \"warn\" (old division semantics with a  warning\n",
      "              for int/int and long/long), or \"warnall\" (old division semantics\n",
      "              with a warning for all use of the division operator).  For a use\n",
      "              of \"warnall\", see the Tools/scripts/fixdiv.py script.\n",
      "\n",
      "       -s     Don't add user site directory to sys.path.\n",
      "\n",
      "       -S     Disable the import of the module site and the site-dependent ma‐\n",
      "              nipulations of sys.path that it entails.\n",
      "\n",
      "       -t     Issue a warning when a source file mixes tabs and spaces for in‐\n",
      "              dentation  in  a  way that makes it depend on the worth of a tab\n",
      "              expressed in spaces.  Issue an error when the  option  is  given\n",
      "              twice.\n",
      "\n",
      "       -u     Force  stdin,  stdout  and  stderr to be totally unbuffered.  On\n",
      "              systems where it matters, also put stdin, stdout and  stderr  in\n",
      "              binary  mode.   Note  that there is internal buffering in xread‐\n",
      "              lines(), readlines() and file-object  iterators  (\"for  line  in\n",
      "              sys.stdin\")  which  is  not  influenced by this option.  To work\n",
      "              around this, you will want to use \"sys.stdin.readline()\"  inside\n",
      "              a \"while 1:\" loop.\n",
      "\n",
      "       -v     Print  a  message each time a module is initialized, showing the\n",
      "              place (filename or built-in module) from  which  it  is  loaded.\n",
      "              When  given twice, print a message for each file that is checked\n",
      "              for when searching for a module.  Also provides  information  on\n",
      "              module cleanup at exit.\n",
      "\n",
      "       -V ,  --version\n",
      "              Prints the Python version number of the executable and exits.\n",
      "\n",
      "       -W argument\n",
      "              Warning  control.   Python  sometimes  prints warning message to\n",
      "              sys.stderr.  A typical warning message has the  following  form:\n",
      "              file:line:  category:  message.   By  default,  each  warning is\n",
      "              printed once for each source line where it occurs.  This  option\n",
      "              controls  how  often  warnings are printed.  Multiple -W options\n",
      "              may be given; when a warning matches more than one  option,  the\n",
      "              action  for  the  last matching option is performed.  Invalid -W\n",
      "              options are ignored (a warning message is printed about  invalid\n",
      "              options when the first warning is issued).  Warnings can also be\n",
      "              controlled from within a Python program using the warnings  mod‐\n",
      "              ule.\n",
      "\n",
      "              The  simplest  form  of  argument is one of the following action\n",
      "              strings (or a unique abbreviation): ignore to ignore  all  warn‐\n",
      "              ings; default to explicitly request the default behavior (print‐\n",
      "              ing each warning once per source line); all to print  a  warning\n",
      "              each  time it occurs (this may generate many messages if a warn‐\n",
      "              ing is triggered repeatedly for the same source  line,  such  as\n",
      "              inside a loop); module to print each warning only the first time\n",
      "              it occurs in each module; once to print each  warning  only  the\n",
      "              first time it occurs in the program; or error to raise an excep‐\n",
      "              tion instead of printing a warning message.\n",
      "\n",
      "              The  full  form  of  argument  is   action:message:category:mod‐\n",
      "              ule:line.   Here,  action is as explained above but only applies\n",
      "              to messages that match the remaining fields.  Empty fields match\n",
      "              all  values;  trailing empty fields may be omitted.  The message\n",
      "              field matches the start of the  warning  message  printed;  this\n",
      "              match is case-insensitive.  The category field matches the warn‐\n",
      "              ing category.  This must be a class name; the match test whether\n",
      "              the  actual warning category of the message is a subclass of the\n",
      "              specified warning category.  The full class name must be  given.\n",
      "              The module field matches the (fully-qualified) module name; this\n",
      "              match is case-sensitive.  The line field matches the  line  num‐\n",
      "              ber,  where zero matches all line numbers and is thus equivalent\n",
      "              to an omitted line number.\n"
     ]
    },
    {
     "name": "stdout",
     "output_type": "stream",
     "text": [
      "\n",
      "       -x     Skip the first line of the source.  This is intended for  a  DOS\n",
      "              specific hack only.  Warning: the line numbers in error messages\n",
      "              will be off by one!\n",
      "\n",
      "       -3     Warn about Python 3.x incompatibilities that 2to3  cannot  triv‐\n",
      "              ially fix.\n",
      "\n",
      "INTERPRETER INTERFACE\n",
      "       The interpreter interface resembles that of the UNIX shell: when called\n",
      "       with standard input connected to a tty device, it prompts for  commands\n",
      "       and  executes  them  until an EOF is read; when called with a file name\n",
      "       argument or with a file as standard input,  it  reads  and  executes  a\n",
      "       script  from  that  file;  when called with -c command, it executes the\n",
      "       Python statement(s) given as command.  Here command may contain  multi‐\n",
      "       ple  statements  separated by newlines.  Leading whitespace is signifi‐\n",
      "       cant in Python statements!  In non-interactive mode, the  entire  input\n",
      "       is parsed before it is executed.\n",
      "\n",
      "       If  available,  the script name and additional arguments thereafter are\n",
      "       passed to the script in the Python variable sys.argv, which is  a  list\n",
      "       of  strings (you must first import sys to be able to access it).  If no\n",
      "       script name is given, sys.argv[0] is an empty string; if  -c  is  used,\n",
      "       sys.argv[0] contains the string '-c'.  Note that options interpreted by\n",
      "       the Python interpreter itself are not placed in sys.argv.\n",
      "\n",
      "       In interactive mode, the primary prompt is  `>>>';  the  second  prompt\n",
      "       (which  appears  when a command is not complete) is `...'.  The prompts\n",
      "       can be changed by assignment to sys.ps1 or  sys.ps2.   The  interpreter\n",
      "       quits  when  it  reads an EOF at a prompt.  When an unhandled exception\n",
      "       occurs, a stack trace is printed and control  returns  to  the  primary\n",
      "       prompt;  in  non-interactive mode, the interpreter exits after printing\n",
      "       the stack trace.  The interrupt signal raises the KeyboardInterrupt ex‐\n",
      "       ception;  other  UNIX  signals  are  not caught (except that SIGPIPE is\n",
      "       sometimes ignored, in favor of the IOError exception).  Error  messages\n",
      "       are written to stderr.\n",
      "\n",
      "FILES AND DIRECTORIES\n",
      "       These are subject to difference depending on local installation conven‐\n",
      "       tions; ${prefix}  and  ${exec_prefix}  are  installation-dependent  and\n",
      "       should  be  interpreted  as for GNU software; they may be the same.  On\n",
      "       Debian GNU/{Hurd,Linux} the default for both is /usr.\n",
      "\n",
      "       ${exec_prefix}/bin/python\n",
      "              Recommended location of the interpreter.\n",
      "\n",
      "       ${prefix}/lib/python<version>\n",
      "       ${exec_prefix}/lib/python<version>\n",
      "              Recommended locations of the directories containing the standard\n",
      "              modules.\n",
      "\n",
      "       ${prefix}/include/python<version>\n",
      "       ${exec_prefix}/include/python<version>\n",
      "              Recommended  locations of the directories containing the include\n",
      "              files needed for developing Python extensions and embedding  the\n",
      "              interpreter.\n",
      "\n",
      "       ~/.pythonrc.py\n",
      "              User-specific initialization file loaded by the user module; not\n",
      "              used by default or by most applications.\n",
      "\n",
      "ENVIRONMENT VARIABLES\n",
      "       PYTHONHOME\n",
      "              Change the location of the standard Python  libraries.   By  de‐\n",
      "              fault,  the  libraries are searched in ${prefix}/lib/python<ver‐\n",
      "              sion> and  ${exec_prefix}/lib/python<version>,  where  ${prefix}\n",
      "              and  ${exec_prefix} are installation-dependent directories, both\n",
      "              defaulting to /usr/local.  When $PYTHONHOME is set to  a  single\n",
      "              directory, its value replaces both ${prefix} and ${exec_prefix}.\n",
      "              To specify different values for these, set $PYTHONHOME to ${pre‐\n",
      "              fix}:${exec_prefix}.\n",
      "\n",
      "       PYTHONPATH\n",
      "              Augments  the  default search path for module files.  The format\n",
      "              is the same as the shell's $PATH: one or  more  directory  path‐\n",
      "              names   separated   by  colons.   Non-existent  directories  are\n",
      "              silently ignored.  The default search path is  installation  de‐\n",
      "              pendent, but generally begins with ${prefix}/lib/python<version>\n",
      "              (see PYTHONHOME above).  The default search path is  always  ap‐\n",
      "              pended  to  $PYTHONPATH.  If a script argument is given, the di‐\n",
      "              rectory containing the script is inserted in the path  in  front\n",
      "              of  $PYTHONPATH.  The search path can be manipulated from within\n",
      "              a Python program as the variable sys.path.\n",
      "\n",
      "       PYTHONSTARTUP\n",
      "              If this is the name of a readable file, the Python  commands  in\n",
      "              that  file  are executed before the first prompt is displayed in\n",
      "              interactive mode.  The file is executed in the same  name  space\n",
      "              where  interactive commands are executed so that objects defined\n",
      "              or imported in it can be used without qualification in  the  in‐\n",
      "              teractive  session.  You can also change the prompts sys.ps1 and\n",
      "              sys.ps2 in this file.\n",
      "\n",
      "       PYTHONY2K\n",
      "              Set this to a non-empty string to cause the time module  to  re‐\n",
      "              quire  dates specified as strings to include 4-digit years, oth‐\n",
      "              erwise 2-digit years are converted based on rules  described  in\n",
      "              the time module documentation.\n",
      "\n",
      "       PYTHONOPTIMIZE\n",
      "              If  this is set to a non-empty string it is equivalent to speci‐\n",
      "              fying the -O option. If set to an integer, it is  equivalent  to\n",
      "              specifying -O multiple times.\n",
      "\n",
      "       PYTHONDEBUG\n",
      "              If  this is set to a non-empty string it is equivalent to speci‐\n",
      "              fying the -d option. If set to an integer, it is  equivalent  to\n",
      "              specifying -d multiple times.\n",
      "\n",
      "       PYTHONDONTWRITEBYTECODE\n",
      "              If  this is set to a non-empty string it is equivalent to speci‐\n",
      "              fying the -B option (don't try to write .py[co] files).\n",
      "\n",
      "       PYTHONINSPECT\n",
      "              If this is set to a non-empty string it is equivalent to  speci‐\n",
      "              fying the -i option.\n",
      "\n",
      "       PYTHONIOENCODING\n",
      "              If  this is set before running the interpreter, it overrides the\n",
      "              encoding used for stdin/stdout/stderr, in the  syntax  encoding‐\n",
      "              name:errorhandler  The errorhandler part is optional and has the\n",
      "              same meaning as in str.encode. For stderr, the errorhandler\n",
      "               part is ignored; the handler will always be ´backslashreplace´.\n",
      "\n",
      "       PYTHONNOUSERSITE\n",
      "              If this is set to a non-empty string it is equivalent to  speci‐\n",
      "              fying  the  -s  option  (Don't  add  the  user site directory to\n",
      "              sys.path).\n",
      "\n",
      "       PYTHONUNBUFFERED\n",
      "              If this is set to a non-empty string it is equivalent to  speci‐\n",
      "              fying the -u option.\n",
      "\n",
      "       PYTHONVERBOSE\n",
      "              If  this is set to a non-empty string it is equivalent to speci‐\n",
      "              fying the -v option. If set to an integer, it is  equivalent  to\n",
      "              specifying -v multiple times.\n",
      "\n",
      "       PYTHONWARNINGS\n",
      "              If  this  is set to a comma-separated string it is equivalent to\n",
      "              specifying the -W option for each separate value.\n",
      "\n",
      "       PYTHONHASHSEED\n",
      "              If this variable is set to \"random\", the effect is the  same  as\n",
      "              specifying  the  -R  option:  a random value is used to seed the\n",
      "              hashes of str, bytes and datetime objects.\n",
      "\n",
      "              If PYTHONHASHSEED is set to an integer value, it is  used  as  a\n",
      "              fixed seed for generating the hash() of the types covered by the\n",
      "              hash randomization.  Its purpose is to allow repeatable hashing,\n",
      "              such  as for selftests for the interpreter itself, or to allow a\n",
      "              cluster of python processes to share hash values.\n",
      "\n",
      "              The  integer  must  be   a   decimal   number   in   the   range\n",
      "              [0,4294967295].   Specifying  the  value 0 will lead to the same\n",
      "              hash values as when hash randomization is disabled.\n"
     ]
    },
    {
     "name": "stdout",
     "output_type": "stream",
     "text": [
      "\n",
      "AUTHOR\n",
      "       The Python Software Foundation: https://www.python.org/psf/\n",
      "\n",
      "INTERNET RESOURCES\n",
      "       Main website:  https://www.python.org/\n",
      "       Documentation:          file:///usr/share/doc/python2.7/html/index.html\n",
      "       (python-doc package) or https://docs.python.org/2/\n",
      "       Developer resources:  https://docs.python.org/devguide/\n",
      "       Downloads:  https://www.python.org/downloads/\n",
      "       Module repository:  https://pypi.python.org/\n",
      "       Newsgroups:  comp.lang.python, comp.lang.python.announce\n",
      "\n",
      "LICENSING\n",
      "       Python  is distributed under an Open Source license.  See the file \"LI‐\n",
      "       CENSE\" in the Python source distribution for  information  on  terms  &\n",
      "       conditions  for  accessing  and  otherwise  using Python and for a DIS‐\n",
      "       CLAIMER OF ALL WARRANTIES.\n",
      "\n",
      "                                                                     PYTHON(1)\n"
     ]
    }
   ],
   "source": [
    "pipenv run man"
   ]
  },
  {
   "cell_type": "markdown",
   "id": "7acadfdd",
   "metadata": {},
   "source": [
    "To generate a requirements file you need to lock the environment first"
   ]
  },
  {
   "cell_type": "code",
   "execution_count": 60,
   "id": "547b830a",
   "metadata": {},
   "outputs": [
    {
     "name": "stdout",
     "output_type": "stream",
     "text": [
      "Locking\u001b[0m \u001b[33m[packages]\u001b[0m dependencies...\u001b[0m\n",
      "\u001b[2K\u001b[32m⠇\u001b[0m ✔ Success!dependencies.....\n",
      "\u001b[1A\u001b[2KLocking\u001b[0m \u001b[33m[dev-packages]\u001b[0m dependencies...\u001b[0m\n",
      "\u001b[1mUpdated Pipfile.lock (a89ef53c6cdb3cc36d9c302eefeace96ed25637eefe3ff89b92bf006b473ff98)!\u001b[0m\n",
      "-i https://pypi.org/simple\n",
      "contourpy==1.0.6 ; python_version >= '3.7'\n",
      "cycler==0.11.0 ; python_version >= '3.6'\n",
      "fonttools==4.38.0 ; python_version >= '3.7'\n",
      "kiwisolver==1.4.4 ; python_version >= '3.7'\n",
      "matplotlib==3.6.2\n",
      "numpy==1.24.0\n",
      "packaging==22.0 ; python_version >= '3.7'\n",
      "pandas==1.5.2\n",
      "pillow==9.3.0 ; python_version >= '3.7'\n",
      "pyparsing==3.0.9 ; python_full_version >= '3.6.8'\n",
      "python-dateutil==2.8.2 ; python_version >= '2.7' and python_version not in '3.0, 3.1, 3.2, 3.3'\n",
      "pytz==2022.7\n",
      "six==1.16.0 ; python_version >= '2.7' and python_version not in '3.0, 3.1, 3.2, 3.3'\n",
      "Locking\u001b[0m \u001b[33m[packages]\u001b[0m dependencies...\u001b[0m\n",
      "Locking\u001b[0m \u001b[33m[dev-packages]\u001b[0m dependencies...\u001b[0m\n",
      "\u001b[1mUpdated Pipfile.lock (a89ef53c6cdb3cc36d9c302eefeace96ed25637eefe3ff89b92bf006b473ff98)!\u001b[0m\n"
     ]
    }
   ],
   "source": [
    "pipenv lock\n",
    "pipenv requirements\n",
    "pipenv lock > requirements.txt"
   ]
  },
  {
   "cell_type": "code",
   "execution_count": 61,
   "id": "949c8ad7",
   "metadata": {},
   "outputs": [
    {
     "name": "stdout",
     "output_type": "stream",
     "text": [
      "total 36\n",
      "-rw-rw-r-- 1 chris chris   210 Dec 19 21:30 Pipfile\n",
      "-rw-r--r-- 1 chris chris 30477 Dec 19 21:35 Pipfile.lock\n",
      "-rw-rw-r-- 1 chris chris     0 Dec 19 21:35 requirements.txt\n"
     ]
    }
   ],
   "source": [
    "ls -l\n",
    "cat requirements.txt"
   ]
  },
  {
   "cell_type": "code",
   "execution_count": 39,
   "id": "e2b2f774",
   "metadata": {},
   "outputs": [
    {
     "name": "stdout",
     "output_type": "stream",
     "text": [
      "\u001b[1mChecking PEP 508 requirements...\u001b[0m\n",
      "\u001b[32mPassed!\u001b[0m\n",
      "\u001b[1mChecking installed packages for vulnerabilities...\u001b[0m\n",
      "+==============================================================================+\n",
      "\n",
      "                               /$$$$$$            /$$\n",
      "                              /$$__  $$          | $$\n",
      "           /$$$$$$$  /$$$$$$ | $$  \\__//$$$$$$  /$$$$$$   /$$   /$$\n",
      "          /$$_____/ |____  $$| $$$$   /$$__  $$|_  $$_/  | $$  | $$\n",
      "         |  $$$$$$   /$$$$$$$| $$_/  | $$$$$$$$  | $$    | $$  | $$\n",
      "          \\____  $$ /$$__  $$| $$    | $$_____/  | $$ /$$| $$  | $$\n",
      "          /$$$$$$$/|  $$$$$$$| $$    |  $$$$$$$  |  $$$$/|  $$$$$$$\n",
      "         |_______/  \\_______/|__/     \\_______/   \\___/   \\____  $$\n",
      "                                                          /$$  | $$\n",
      "                                                         |  $$$$$$/\n",
      "  by pyup.io                                              \\______/\n",
      "\n",
      "+==============================================================================+\n",
      "\n",
      " \u001b[1mREPORT\u001b[0m \n",
      "\n",
      "  Safety \u001b[1mv2.3.2\u001b[0m is scanning for \u001b[1mVulnerabilities\u001b[0m\u001b[1m...\u001b[0m\n",
      "\u001b[1m  Scanning dependencies\u001b[0m in your \u001b[1mfiles:\u001b[0m\n",
      "\n",
      "  -> /tmp/projectA-mSgKtBW0w2dcy70t_requirements.txt\n",
      "\n",
      "\u001b[1m  Found and scanned 16 packages\u001b[0m\n",
      "  Timestamp \u001b[1m2022-12-19 21:26:53\u001b[0m\n",
      "\u001b[1m  0\u001b[0m\u001b[1m vulnerabilities found\u001b[0m\n",
      "\u001b[1m  0\u001b[0m\u001b[1m vulnerabilities ignored\u001b[0m\n",
      "+==============================================================================+\n",
      "\n",
      " \u001b[32m\u001b[1mNo known security vulnerabilities found.\u001b[0m \n",
      "\n",
      "+==============================================================================+\u001b[0m\n"
     ]
    }
   ],
   "source": [
    "pipenv check"
   ]
  },
  {
   "cell_type": "code",
   "execution_count": 40,
   "id": "615632b9",
   "metadata": {},
   "outputs": [
    {
     "name": "stdout",
     "output_type": "stream",
     "text": [
      "\u001b[1mmatplotlib==3.6.2\u001b[0m\n",
      "\u001b[22m  - contourpy [required: >=1.0.1, installed: 1.0.6]\u001b[0m\n",
      "\u001b[22m    - numpy [required: >=1.16, installed: 1.24.0]\u001b[0m\n",
      "\u001b[22m  - cycler [required: >=0.10, installed: 0.11.0]\u001b[0m\n",
      "\u001b[22m  - fonttools [required: >=4.22.0, installed: 4.38.0]\u001b[0m\n",
      "\u001b[22m  - kiwisolver [required: >=1.0.1, installed: 1.4.4]\u001b[0m\n",
      "\u001b[22m  - numpy [required: >=1.19, installed: 1.24.0]\u001b[0m\n",
      "\u001b[22m  - packaging [required: >=20.0, installed: 22.0]\u001b[0m\n",
      "\u001b[22m  - pillow [required: >=6.2.0, installed: 9.3.0]\u001b[0m\n",
      "\u001b[22m  - pyparsing [required: >=2.2.1, installed: 3.0.9]\u001b[0m\n",
      "\u001b[22m  - python-dateutil [required: >=2.7, installed: 2.8.2]\u001b[0m\n",
      "\u001b[22m    - six [required: >=1.5, installed: 1.16.0]\u001b[0m\n",
      "\u001b[1mpandas==1.5.2\u001b[0m\n",
      "\u001b[22m  - numpy [required: >=1.21.0, installed: 1.24.0]\u001b[0m\n",
      "\u001b[22m  - python-dateutil [required: >=2.8.1, installed: 2.8.2]\u001b[0m\n",
      "\u001b[22m    - six [required: >=1.5, installed: 1.16.0]\u001b[0m\n",
      "\u001b[22m  - pytz [required: >=2020.1, installed: 2022.7]\u001b[0m\n"
     ]
    }
   ],
   "source": [
    "pipenv graph"
   ]
  },
  {
   "cell_type": "markdown",
   "id": "be08b6b6",
   "metadata": {},
   "source": [
    "Cleanup Virtual Environment"
   ]
  },
  {
   "cell_type": "code",
   "execution_count": 41,
   "id": "3b97062e",
   "metadata": {},
   "outputs": [
    {
     "name": "stdout",
     "output_type": "stream",
     "text": [
      "\u001b[1mRemoving virtualenv\u001b[0m (\u001b[32m/home/chris/.local/share/virtualenvs/projectA-mSgKtBW0\u001b[0m)...\u001b[0m\n",
      "\u001b[2K\u001b[32m⠙\u001b[0m Running.....\n",
      "\u001b[1A\u001b[2Kremoved virtual environment\n"
     ]
    }
   ],
   "source": [
    "pipenv --rm\n",
    "cd ..\n",
    "rm -rf projectA\n",
    "echo \"removed virtual environment\""
   ]
  },
  {
   "cell_type": "code",
   "execution_count": null,
   "id": "4be52b7f",
   "metadata": {},
   "outputs": [],
   "source": []
  }
 ],
 "metadata": {
  "kernelspec": {
   "display_name": "Bash",
   "language": "bash",
   "name": "bash"
  },
  "language_info": {
   "codemirror_mode": "shell",
   "file_extension": ".sh",
   "mimetype": "text/x-sh",
   "name": "bash"
  }
 },
 "nbformat": 4,
 "nbformat_minor": 5
}
