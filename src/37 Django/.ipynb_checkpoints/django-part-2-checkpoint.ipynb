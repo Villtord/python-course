{
 "cells": [
  {
   "cell_type": "markdown",
   "metadata": {},
   "source": [
    "Let's return to the base of our project:"
   ]
  },
  {
   "cell_type": "code",
   "execution_count": 1,
   "metadata": {},
   "outputs": [
    {
     "name": "stdout",
     "output_type": "stream",
     "text": [
      "\u001b[01;34m.\u001b[00m\n",
      "├── db.sqlite3\n",
      "├── \u001b[01;32mmanage.py\u001b[00m\n",
      "├── \u001b[01;34mmysite\u001b[00m\n",
      "│   ├── asgi.py\n",
      "│   ├── __init__.py\n",
      "│   ├── settings.py\n",
      "│   ├── urls.py\n",
      "│   └── wsgi.py\n",
      "└── \u001b[01;34mpolls\u001b[00m\n",
      "    ├── admin.py\n",
      "    ├── apps.py\n",
      "    ├── __init__.py\n",
      "    ├── \u001b[01;34mmigrations\u001b[00m\n",
      "    │   └── __init__.py\n",
      "    ├── models.py\n",
      "    ├── tests.py\n",
      "    ├── urls.py\n",
      "    └── views.py\n",
      "\n",
      "3 directories, 15 files\n"
     ]
    }
   ],
   "source": [
    "cd myworkspace/mysite\n",
    "tree -I __pycache__"
   ]
  },
  {
   "cell_type": "markdown",
   "metadata": {},
   "source": [
    "Restart the server:"
   ]
  },
  {
   "cell_type": "code",
   "execution_count": 2,
   "metadata": {},
   "outputs": [
    {
     "name": "stdout",
     "output_type": "stream",
     "text": [
      "7000/tcp:            485372\n",
      "[1] 485875\n"
     ]
    }
   ],
   "source": [
    "fuser -k 7000/tcp\n",
    "python manage.py runserver 7000 &"
   ]
  },
  {
   "cell_type": "markdown",
   "metadata": {},
   "source": [
    "Add two new models in `polls/models.py`:"
   ]
  },
  {
   "cell_type": "code",
   "execution_count": 3,
   "metadata": {},
   "outputs": [
    {
     "name": "stdout",
     "output_type": "stream",
     "text": [
      "Watching for file changes with StatReloader\n",
      "Performing system checks...\n",
      "\n",
      "System check identified no issues (0 silenced).\n",
      "\u001b[31m\n",
      "You have 18 unapplied migration(s). Your project may not work properly until you apply the migrations for app(s): admin, auth, contenttypes, sessions.\u001b[0m\n",
      "\u001b[31mRun 'python manage.py migrate' to apply them.\u001b[0m\n",
      "September 05, 2021 - 18:15:43\n",
      "Django version 3.2.4, using settings 'mysite.settings'\n",
      "Starting development server at http://127.0.0.1:7000/\n",
      "Quit the server with CONTROL-C.\n",
      "cat << EOF > polls/models.py^J"
     ]
    }
   ],
   "source": [
    "cat << EOF > polls/models.py\n",
    "from django.db import models\n",
    "\n",
    "\n",
    "class Question(models.Model):\n",
    "    question_text = models.CharField(max_length=200)\n",
    "    pub_date = models.DateTimeField('date published')\n",
    "\n",
    "\n",
    "class Choice(models.Model):\n",
    "    question = models.ForeignKey(Question, on_delete=models.CASCADE)\n",
    "    choice_text = models.CharField(max_length=200)\n",
    "    votes = models.IntegerField(default=0)\n",
    "EOF"
   ]
  },
  {
   "cell_type": "markdown",
   "metadata": {},
   "source": [
    "Now we need to create tables in our database corresponding to our new models.  To do that, run the following command:"
   ]
  },
  {
   "cell_type": "code",
   "execution_count": 4,
   "metadata": {},
   "outputs": [
    {
     "name": "stdout",
     "output_type": "stream",
     "text": [
      "\u001b[36;1mOperations to perform:\u001b[0m\n",
      "\u001b[1m  Apply all migrations: \u001b[0madmin, auth, contenttypes, sessions\n",
      "\u001b[36;1mRunning migrations:\u001b[0m\n",
      "  Applying contenttypes.0001_initial...\u001b[32;1m OK\u001b[0m\n",
      "  Applying auth.0001_initial...\u001b[32;1m OK\u001b[0m\n",
      "  Applying admin.0001_initial...\u001b[32;1m OK\u001b[0m\n",
      "  Applying admin.0002_logentry_remove_auto_add...\u001b[32;1m OK\u001b[0m\n",
      "  Applying admin.0003_logentry_add_action_flag_choices...\u001b[32;1m OK\u001b[0m\n",
      "  Applying contenttypes.0002_remove_content_type_name...\u001b[32;1m OK\u001b[0m\n",
      "  Applying auth.0002_alter_permission_name_max_length...\u001b[32;1m OK\u001b[0m\n",
      "  Applying auth.0003_alter_user_email_max_length...\u001b[32;1m OK\u001b[0m\n",
      "  Applying auth.0004_alter_user_username_opts...\u001b[32;1m OK\u001b[0m\n",
      "  Applying auth.0005_alter_user_last_login_null...\u001b[32;1m OK\u001b[0m\n",
      "  Applying auth.0006_require_contenttypes_0002...\u001b[32;1m OK\u001b[0m\n",
      "  Applying auth.0007_alter_validators_add_error_messages...\u001b[32;1m OK\u001b[0m\n",
      "  Applying auth.0008_alter_user_username_max_length...\u001b[32;1m OK\u001b[0m\n",
      "  Applying auth.0009_alter_user_last_name_max_length...\u001b[32;1m OK\u001b[0m\n",
      "  Applying auth.0010_alter_group_name_max_length...\u001b[32;1m OK\u001b[0m\n",
      "  Applying auth.0011_update_proxy_permissions...\u001b[32;1m OK\u001b[0m\n",
      "  Applying auth.0012_alter_user_first_name_max_length...\u001b[32;1m OK\u001b[0m\n",
      "  Applying sessions.0001_initial...\u001b[32;1m OK\u001b[0m\n",
      "\u001b[0m"
     ]
    }
   ],
   "source": [
    "python manage.py migrate"
   ]
  },
  {
   "cell_type": "markdown",
   "metadata": {},
   "source": [
    "Migrations are Django’s way of propagating changes you make to your models (adding a field, deleting a model, etc.) into your database schema.\n",
    "\n",
    "Note that by default we are using the `sqlite3` database:"
   ]
  },
  {
   "cell_type": "code",
   "execution_count": 6,
   "metadata": {},
   "outputs": [
    {
     "name": "stdout",
     "output_type": "stream",
     "text": [
      "        '\u001b[01;31m\u001b[KENGINE\u001b[m\u001b[K': 'django.db.backends.sqlite3',\n"
     ]
    }
   ],
   "source": [
    "cat mysite/settings.py | grep ENGINE"
   ]
  },
  {
   "cell_type": "markdown",
   "metadata": {},
   "source": [
    "The `migrate` command has now created at new class in `polls\\apps.py` "
   ]
  },
  {
   "cell_type": "code",
   "execution_count": 9,
   "metadata": {},
   "outputs": [
    {
     "name": "stdout",
     "output_type": "stream",
     "text": [
      "from django.apps import AppConfig\n",
      "\n",
      "\n",
      "class PollsConfig(AppConfig):\n",
      "    default_auto_field = 'django.db.models.BigAutoField'\n",
      "    name = 'polls'\n"
     ]
    }
   ],
   "source": [
    "cat polls/apps.py"
   ]
  },
  {
   "cell_type": "markdown",
   "metadata": {},
   "source": [
    "This new class has to be published in the global `mysite/settings.py` file:"
   ]
  },
  {
   "cell_type": "code",
   "execution_count": 10,
   "metadata": {},
   "outputs": [
    {
     "name": "stdout",
     "output_type": "stream",
     "text": [
      "\"\"\"\n",
      "Django settings for mysite project.\n",
      "\n",
      "Generated by 'django-admin startproject' using Django 3.2.4.\n",
      "\n",
      "For more information on this file, see\n",
      "https://docs.djangoproject.com/en/3.2/topics/settings/\n",
      "\n",
      "For the full list of settings and their values, see\n",
      "https://docs.djangoproject.com/en/3.2/ref/settings/\n",
      "\"\"\"\n",
      "\n",
      "from pathlib import Path\n",
      "\n",
      "# Build paths inside the project like this: BASE_DIR / 'subdir'.\n",
      "BASE_DIR = Path(__file__).resolve().parent.parent\n",
      "\n",
      "\n",
      "# Quick-start development settings - unsuitable for production\n",
      "# See https://docs.djangoproject.com/en/3.2/howto/deployment/checklist/\n",
      "\n",
      "# SECURITY WARNING: keep the secret key used in production secret!\n",
      "SECRET_KEY = 'django-insecure-!$rs(9o*x$+5++1*y#dby#32bjhx#=h1@g9n4a4kq6!rttv#ia'\n",
      "\n",
      "# SECURITY WARNING: don't run with debug turned on in production!\n",
      "DEBUG = True\n",
      "\n",
      "ALLOWED_HOSTS = []\n",
      "\n",
      "\n",
      "# Application definition\n",
      "\n",
      "INSTALLED_APPS = [\n",
      "    'polls.apps.PollsConfig',\n",
      "    'django.contrib.admin',\n",
      "    'django.contrib.auth',\n",
      "    'django.contrib.contenttypes',\n",
      "    'django.contrib.sessions',\n",
      "    'django.contrib.messages',\n",
      "    'django.contrib.staticfiles',\n",
      "]\n",
      "\n",
      "MIDDLEWARE = [\n",
      "    'django.middleware.security.SecurityMiddleware',\n",
      "    'django.contrib.sessions.middleware.SessionMiddleware',\n",
      "    'django.middleware.common.CommonMiddleware',\n",
      "    'django.middleware.csrf.CsrfViewMiddleware',\n",
      "    'django.contrib.auth.middleware.AuthenticationMiddleware',\n",
      "    'django.contrib.messages.middleware.MessageMiddleware',\n",
      "    'django.middleware.clickjacking.XFrameOptionsMiddleware',\n",
      "]\n",
      "\n",
      "ROOT_URLCONF = 'mysite.urls'\n",
      "\n",
      "TEMPLATES = [\n",
      "    {\n",
      "        'BACKEND': 'django.template.backends.django.DjangoTemplates',\n",
      "        'DIRS': [],\n",
      "        'APP_DIRS': True,\n",
      "        'OPTIONS': {\n",
      "            'context_processors': [\n",
      "                'django.template.context_processors.debug',\n",
      "                'django.template.context_processors.request',\n",
      "                'django.contrib.auth.context_processors.auth',\n",
      "                'django.contrib.messages.context_processors.messages',\n",
      "            ],\n",
      "        },\n",
      "    },\n",
      "]\n",
      "\n",
      "WSGI_APPLICATION = 'mysite.wsgi.application'\n",
      "\n",
      "\n",
      "# Database\n",
      "# https://docs.djangoproject.com/en/3.2/ref/settings/#databases\n",
      "\n",
      "DATABASES = {\n",
      "    'default': {\n",
      "        'ENGINE': 'django.db.backends.sqlite3',\n",
      "        'NAME': BASE_DIR / 'db.sqlite3',\n",
      "    }\n",
      "}\n",
      "\n",
      "\n",
      "# Password validation\n",
      "# https://docs.djangoproject.com/en/3.2/ref/settings/#auth-password-validators\n",
      "\n",
      "AUTH_PASSWORD_VALIDATORS = [\n",
      "    {\n",
      "        'NAME': 'django.contrib.auth.password_validation.UserAttributeSimilarityValidator',\n",
      "    },\n",
      "    {\n",
      "        'NAME': 'django.contrib.auth.password_validation.MinimumLengthValidator',\n",
      "    },\n",
      "    {\n",
      "        'NAME': 'django.contrib.auth.password_validation.CommonPasswordValidator',\n",
      "    },\n",
      "    {\n",
      "        'NAME': 'django.contrib.auth.password_validation.NumericPasswordValidator',\n",
      "    },\n",
      "]\n",
      "\n",
      "\n",
      "# Internationalization\n",
      "# https://docs.djangoproject.com/en/3.2/topics/i18n/\n",
      "\n",
      "LANGUAGE_CODE = 'en-us'\n",
      "\n",
      "TIME_ZONE = 'UTC'\n",
      "\n",
      "USE_I18N = True\n",
      "\n",
      "USE_L10N = True\n",
      "\n",
      "USE_TZ = True\n",
      "\n",
      "\n",
      "# Static files (CSS, JavaScript, Images)\n",
      "# https://docs.djangoproject.com/en/3.2/howto/static-files/\n",
      "\n",
      "STATIC_URL = '/static/'\n",
      "\n",
      "# Default primary key field type\n",
      "# https://docs.djangoproject.com/en/3.2/ref/settings/#default-auto-field\n",
      "\n",
      "DEFAULT_AUTO_FIELD = 'django.db.models.BigAutoField'\n"
     ]
    }
   ],
   "source": [
    "sed -i -e \"/INSTALLED_APPS/ a \\    'polls.apps.PollsConfig',\" mysite/settings.py\n",
    "cat mysite/settings.py"
   ]
  },
  {
   "cell_type": "markdown",
   "metadata": {},
   "source": [
    "The relevant part of this file now reads:"
   ]
  },
  {
   "cell_type": "code",
   "execution_count": 14,
   "metadata": {},
   "outputs": [
    {
     "name": "stdout",
     "output_type": "stream",
     "text": [
      "INSTALLED_APPS = [\n",
      "    'polls.apps.PollsConfig',\n",
      "    'django.contrib.admin',\n",
      "    'django.contrib.auth',\n",
      "    'django.contrib.contenttypes',\n",
      "    'django.contrib.sessions',\n",
      "    'django.contrib.messages',\n",
      "    'django.contrib.staticfiles',\n",
      "]\n"
     ]
    }
   ],
   "source": [
    "sed -n '/^INSTALLED_APPS/,/^]/p' mysite/settings.py"
   ]
  },
  {
   "cell_type": "markdown",
   "metadata": {},
   "source": [
    "Now tell Django that you’ve made some changes to your models (in this case, you’ve made new ones) and that you’d like the changes to be stored as a migration:"
   ]
  },
  {
   "cell_type": "code",
   "execution_count": 15,
   "metadata": {},
   "outputs": [
    {
     "name": "stdout",
     "output_type": "stream",
     "text": [
      "No changes detected in app 'polls'\n",
      "\u001b[0m"
     ]
    }
   ],
   "source": [
    "python manage.py makemigrations polls"
   ]
  },
  {
   "cell_type": "markdown",
   "metadata": {},
   "source": [
    "Let's take a moment to see the migrations Django has created:"
   ]
  },
  {
   "cell_type": "code",
   "execution_count": 17,
   "metadata": {},
   "outputs": [
    {
     "name": "stdout",
     "output_type": "stream",
     "text": [
      "BEGIN;\n",
      "--\n",
      "-- Create model Question\n",
      "--\n",
      "CREATE TABLE \"polls_question\" (\"id\" integer NOT NULL PRIMARY KEY AUTOINCREMENT, \"question_text\" varchar(200) NOT NULL, \"pub_date\" datetime NOT NULL);\n",
      "--\n",
      "-- Create model Choice\n",
      "--\n",
      "CREATE TABLE \"polls_choice\" (\"id\" integer NOT NULL PRIMARY KEY AUTOINCREMENT, \"choice_text\" varchar(200) NOT NULL, \"votes\" integer NOT NULL, \"question_id\" bigint NOT NULL REFERENCES \"polls_question\" (\"id\") DEFERRABLE INITIALLY DEFERRED);\n",
      "CREATE INDEX \"polls_choice_question_id_c5b4b260\" ON \"polls_choice\" (\"question_id\");\n",
      "COMMIT;\n",
      "\u001b[0m"
     ]
    }
   ],
   "source": [
    "python manage.py sqlmigrate polls 0001"
   ]
  },
  {
   "cell_type": "markdown",
   "metadata": {},
   "source": [
    "Now, run migrate again to create those model tables in your database:"
   ]
  },
  {
   "cell_type": "code",
   "execution_count": 18,
   "metadata": {},
   "outputs": [
    {
     "name": "stdout",
     "output_type": "stream",
     "text": [
      "[2] 490294\n"
     ]
    }
   ],
   "source": [
    "python manage.py migrate &"
   ]
  },
  {
   "cell_type": "markdown",
   "metadata": {},
   "source": [
    "Before we use these new classes, let's check our webapp is still working:"
   ]
  },
  {
   "cell_type": "code",
   "execution_count": 22,
   "metadata": {},
   "outputs": [
    {
     "name": "stdout",
     "output_type": "stream",
     "text": [
      "[2] 490465\n"
     ]
    }
   ],
   "source": [
    "firefox http:localhost:7000/polls &"
   ]
  }
 ],
 "metadata": {
  "kernelspec": {
   "display_name": "Bash",
   "language": "bash",
   "name": "bash"
  },
  "language_info": {
   "codemirror_mode": "shell",
   "file_extension": ".sh",
   "mimetype": "text/x-sh",
   "name": "bash"
  }
 },
 "nbformat": 4,
 "nbformat_minor": 4
}
