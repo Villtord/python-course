{
 "cells": [
  {
   "cell_type": "code",
   "execution_count": 1,
   "id": "171f4bb8-0025-4ba6-9aa7-3bfbfa8de18c",
   "metadata": {},
   "outputs": [],
   "source": [
    "import socket\n",
    "PORT = 7002\n",
    "\n",
    "clientSocket = socket.socket(socket.AF_INET, socket.SOCK_STREAM)\n",
    "clientSocket.connect(('localhost', PORT))    \n",
    "\n"
   ]
  },
  {
   "cell_type": "code",
   "execution_count": 2,
   "id": "ea0016de-83aa-471d-a488-9eab690b2ab6",
   "metadata": {},
   "outputs": [
    {
     "name": "stdout",
     "output_type": "stream",
     "text": [
      "Response from server: message 1 - This is a message from a client.\n"
     ]
    }
   ],
   "source": [
    "message = \"This is a message from a client.\"\n",
    "clientSocket.send(message.encode(\"UTF-8\"))   \n",
    "response = clientSocket.recv(100) # blocking call\n",
    "print(\"Response from server: {}\".format(response.decode(\"UTF-8\")), flush=\"true\")\n",
    "\n",
    "clientSocket.close()\n"
   ]
  },
  {
   "cell_type": "code",
   "execution_count": 3,
   "id": "820cef66-f6e9-4ce2-a1bb-39d548673f56",
   "metadata": {},
   "outputs": [],
   "source": [
    "clientSocket.close()\n"
   ]
  },
  {
   "cell_type": "code",
   "execution_count": null,
   "id": "860354d6-62a6-4f4a-887c-345586585e03",
   "metadata": {},
   "outputs": [],
   "source": []
  }
 ],
 "metadata": {
  "kernelspec": {
   "display_name": "Python 3 (ipykernel)",
   "language": "python",
   "name": "python3"
  },
  "language_info": {
   "codemirror_mode": {
    "name": "ipython",
    "version": 3
   },
   "file_extension": ".py",
   "mimetype": "text/x-python",
   "name": "python",
   "nbconvert_exporter": "python",
   "pygments_lexer": "ipython3",
   "version": "3.9.12"
  }
 },
 "nbformat": 4,
 "nbformat_minor": 5
}
