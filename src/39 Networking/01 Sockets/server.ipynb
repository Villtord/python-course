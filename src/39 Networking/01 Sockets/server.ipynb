{
 "cells": [
  {
   "cell_type": "markdown",
   "id": "0ef828ba-4505-4166-85e5-3000da80038e",
   "metadata": {},
   "source": [
    "When we start up the server it first creates a raw 'socket' and then 'binds' the socket to an end point.  The end point is in reality and internet facing buffer inside the kernel capable of receiving data from a client.  The server then issues a 'listen' call which converts the raw socket into a listening socket."
   ]
  },
  {
   "cell_type": "code",
   "execution_count": 1,
   "id": "9f1ce014-3ca4-4bbb-9947-d7f7b351e722",
   "metadata": {},
   "outputs": [],
   "source": [
    "import socket, sys\n",
    "from threading import Thread\n",
    "\n",
    "PORT = 7002\n",
    "listenSocket = socket.socket(socket.AF_INET, socket.SOCK_STREAM)\n",
    "listenSocket.setsockopt(socket.SOL_SOCKET, socket.SO_REUSEADDR, 1)\n",
    "listenSocket.bind(('', PORT))\n",
    "listenSocket.listen(5)    # set up backlog buffer\n",
    "messageNo = 1"
   ]
  },
  {
   "cell_type": "markdown",
   "id": "0fbc8c8e-985c-48d3-93dd-89bee5a47a41",
   "metadata": {},
   "source": [
    "Next the server performs an 'accept' call.  This is a blocking call and will not return until a client connects.\n",
    "\n",
    "The client is then started and attempts to connect to the server."
   ]
  },
  {
   "cell_type": "code",
   "execution_count": 2,
   "id": "03f2f2fb-5251-4146-94bc-2a6ea747aaea",
   "metadata": {},
   "outputs": [
    {
     "name": "stdout",
     "output_type": "stream",
     "text": [
      "Server starting on port 7002\n",
      "SERVER: opened a new connection: ('127.0.0.1', 54846)\n"
     ]
    }
   ],
   "source": [
    "print(f\"Server starting on port {PORT}\")\n",
    "\n",
    "# block until we accept a client connection and then create a second socket\n",
    "newsocket, remoteIPandPORT = listenSocket.accept()\n",
    "print(\"SERVER: opened a new connection:\", remoteIPandPORT)"
   ]
  },
  {
   "cell_type": "markdown",
   "id": "e222f696",
   "metadata": {},
   "source": [
    "After the client successfully connects, the server will return from the blocking 'accept' call and creates a second socket for transfering data between the server and the client.  The listening socket is retained to allow further clients to connect.  The server can now either send and receive data with the client or accept further connections.  \n",
    "\n",
    "To allow the server to both it is normal to create a new server thread at this point to communicate with the first client.  The original thread continues to wait for further client connections.  The new thread will execute the following code:"
   ]
  },
  {
   "cell_type": "code",
   "execution_count": 3,
   "id": "fcb4f430-2d6d-438d-b015-8650b2b2e6ef",
   "metadata": {},
   "outputs": [],
   "source": [
    "def communicateWithClient(newsocket, messageNo):\n",
    "    # wait for message and echo\n",
    "    message = newsocket.recv(100)\n",
    "    print(\"SERVER:\", message.decode(\"UTF-8\"))\n",
    "    sys.stdout.flush()\n",
    "    \n",
    "    # send response and close socket immediately\n",
    "    response = \"message {0} - {1}\".format(messageNo, message.decode(\"UTF-8\"))\n",
    "    newsocket.send(response.encode(\"UTF-8\"))\n",
    "    print(f\"closing {newsocket}\")\n",
    "    newsocket.close()\n"
   ]
  },
  {
   "cell_type": "markdown",
   "id": "5bc86cae-0410-44e0-b71e-046cfcc80893",
   "metadata": {
    "tags": []
   },
   "source": [
    "The server thread is now started."
   ]
  },
  {
   "cell_type": "code",
   "execution_count": 5,
   "id": "7803bc23-9dc4-4a57-a437-fcef36f60ac6",
   "metadata": {},
   "outputs": [
    {
     "name": "stdout",
     "output_type": "stream",
     "text": [
      "SERVER: This is a message from a client.\n",
      "closing <socket.socket fd=58, family=AddressFamily.AF_INET, type=SocketKind.SOCK_STREAM, proto=0, laddr=('127.0.0.1', 7002), raddr=('127.0.0.1', 54846)>\n"
     ]
    }
   ],
   "source": [
    "clientThread = Thread(target=communicateWithClient, args=(newsocket, messageNo))\n",
    "messageNo = messageNo + 1\n",
    "clientThread.start()"
   ]
  },
  {
   "cell_type": "code",
   "execution_count": null,
   "id": "6eae7f10-9a31-453a-9750-70b585754f88",
   "metadata": {},
   "outputs": [],
   "source": []
  }
 ],
 "metadata": {
  "kernelspec": {
   "display_name": "Python 3 (ipykernel)",
   "language": "python",
   "name": "python3"
  },
  "language_info": {
   "codemirror_mode": {
    "name": "ipython",
    "version": 3
   },
   "file_extension": ".py",
   "mimetype": "text/x-python",
   "name": "python",
   "nbconvert_exporter": "python",
   "pygments_lexer": "ipython3",
   "version": "3.9.12"
  },
  "toc-autonumbering": true,
  "toc-showmarkdowntxt": true,
  "toc-showtags": true
 },
 "nbformat": 4,
 "nbformat_minor": 5
}
