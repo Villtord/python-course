{
 "cells": [
  {
   "cell_type": "code",
   "execution_count": null,
   "id": "599f035a-1dfe-4391-9b63-4e536ecb4a57",
   "metadata": {},
   "outputs": [],
   "source": [
    "# Create a database instance, and connect to it.\n",
    "from databases import Database\n",
    "database = Database('sqlite+aiosqlite:///example.db')\n",
    "await database.connect()\n",
    "\n",
    "# Create a table.\n",
    "query = \"\"\"CREATE TABLE HighScores (id INTEGER PRIMARY KEY, name VARCHAR(100), score INTEGER)\"\"\"\n",
    "await database.execute(query=query)\n",
    "\n",
    "# Insert some data.\n",
    "query = \"INSERT INTO HighScores(name, score) VALUES (:name, :score)\"\n",
    "values = [\n",
    "    {\"name\": \"Daisy\", \"score\": 92},\n",
    "    {\"name\": \"Neil\", \"score\": 87},\n",
    "    {\"name\": \"Carol\", \"score\": 43},\n",
    "]\n",
    "await database.execute_many(query=query, values=values)\n",
    "\n",
    "# Run a database query.\n",
    "query = \"SELECT * FROM HighScores\"\n",
    "rows = await database.fetch_all(query=query)\n",
    "print('High Scores:', rows)"
   ]
  }
 ],
 "metadata": {
  "kernelspec": {
   "display_name": "Python 3 (ipykernel)",
   "language": "python",
   "name": "python3"
  },
  "language_info": {
   "codemirror_mode": {
    "name": "ipython",
    "version": 3
   },
   "file_extension": ".py",
   "mimetype": "text/x-python",
   "name": "python",
   "nbconvert_exporter": "python",
   "pygments_lexer": "ipython3",
   "version": "3.9.12"
  }
 },
 "nbformat": 4,
 "nbformat_minor": 5
}
